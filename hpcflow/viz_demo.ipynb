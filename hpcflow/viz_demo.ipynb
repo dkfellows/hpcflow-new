{
 "cells": [
  {
   "cell_type": "code",
   "execution_count": 1,
   "metadata": {},
   "outputs": [],
   "source": [
    "import hpcflow.app as hf\n",
    "from hpcflow.sdk.core.test_utils import make_workflow\n",
    "\n",
    "from plotly.graph_objects import FigureWidget\n",
    "tmp_path = r\"C:\\code_local\\scratch\\hpcflow-workflows\"\n",
    "\n",
    "# TODO: \n",
    "# - tasks should be yaxis ticks\n",
    "# - centre elements in the middle\n",
    "# - add element index label in the element square\n",
    "# - show groups as a rectangle around elements\n",
    "# - support max number of elements; use ellipses and annotate with total num elements in the task\n",
    "# - option to colour elements (or add symbols or something) to show: \n",
    "#     - jobscript + submission index (if submitted)\n",
    "#     - submission status?\n",
    "#     - or show jobscript as a bounding polygon around elements?\n",
    "#        - might have overlapping boxes if loops distributed over multiple jobscripts\n",
    "# - show actions if zoomed in enough?\n",
    "#   - or could stack the boxes to show multiple actions?\n",
    "# - right-angled lines linking many-to-one elements?"
   ]
  },
  {
   "cell_type": "code",
   "execution_count": 2,
   "metadata": {},
   "outputs": [],
   "source": [
    "from collections import defaultdict\n",
    "from dataclasses import dataclass\n",
    "from typing import Dict, List, Optional, Tuple\n",
    "from plotly import graph_objects\n",
    "\n",
    "\n",
    "def get_empty_fig():\n",
    "    fig = FigureWidget(layout={\"height\": 500, \"dragmode\": \"pan\"})\n",
    "    fig.update_yaxes(scaleanchor=\"x\", zeroline=False, showgrid=False)\n",
    "    fig.update_xaxes(showgrid=False, zeroline=False)\n",
    "    return fig\n",
    "\n",
    "\n",
    "@dataclass\n",
    "class ElementIterationNode:\n",
    "    \"\"\"Class to represent a workflow element-iteration.\"\"\"\n",
    "\n",
    "    DEFAULT_WIDTH = 0.5\n",
    "    DEFAULT_CENTRE = [0, 0]\n",
    "    _centre = None\n",
    "    _width = None\n",
    "    \n",
    "    task_idx: int\n",
    "    inputs: List[str]\n",
    "    outputs: List[str]\n",
    "    run_IDs: List[int]\n",
    "    \n",
    "    @property\n",
    "    def centre(self):\n",
    "        if not self._centre:\n",
    "            self._centre = self.DEFAULT_CENTRE\n",
    "        return self._centre\n",
    "\n",
    "    @centre.setter\n",
    "    def centre(self, value):\n",
    "        self._centre = value\n",
    "\n",
    "    @property\n",
    "    def width(self):\n",
    "        if not self._width:\n",
    "            self._width = self.DEFAULT_WIDTH\n",
    "        return self._width\n",
    "\n",
    "    @width.setter\n",
    "    def width(self, value):\n",
    "        self._width = value\n",
    "\n",
    "\n",
    "    @property\n",
    "    def num_actions(self):\n",
    "        return len(self.run_IDs)\n",
    "\n",
    "    @property\n",
    "    def num_inputs(self):\n",
    "        return len(self.inputs)\n",
    "\n",
    "    @property\n",
    "    def num_outputs(self):\n",
    "        return len(self.outputs)\n",
    "\n",
    "    def get_height(self):\n",
    "        return 0.5 * self.width\n",
    "\n",
    "    @staticmethod\n",
    "    def distribute_items(length, num_items, origin):\n",
    "        interval = length / (num_items + 1)\n",
    "        coords = [interval * i + origin for i in range(1, num_items + 1)]\n",
    "        return coords\n",
    "\n",
    "    def get_input_coords(self, input: Optional[str] = None):\n",
    "        (top_y, right_x, bottom_y, left_x) = self._get_edges()\n",
    "        inputs_y = [top_y] * self.num_inputs\n",
    "        inputs_x = self.distribute_items(self.width, self.num_inputs, left_x)\n",
    "        if input:\n",
    "            idx = self.inputs.index(input)\n",
    "            return (inputs_x[idx], inputs_y[idx])\n",
    "\n",
    "        return (inputs_x, inputs_y)\n",
    "\n",
    "    def get_output_coords(self, output: Optional[str] = None):\n",
    "        (top_y, right_x, bottom_y, left_x) = self._get_edges()\n",
    "        outputs_y = [bottom_y] * self.num_outputs\n",
    "        outputs_x = self.distribute_items(self.width, self.num_outputs, left_x)\n",
    "        if output:\n",
    "            idx = self.outputs.index(output)\n",
    "            return (outputs_x[idx], outputs_y[idx])\n",
    "\n",
    "        return (outputs_x, outputs_y)\n",
    "\n",
    "    def _get_edges(self):\n",
    "        height = self.get_height()\n",
    "        top_y = self.centre[1] + 0.5 * height\n",
    "        bottom_y = self.centre[1] - 0.5 * height\n",
    "        left_x = self.centre[0] - 0.5 * self.width\n",
    "        right_x = self.centre[0] + 0.5 * self.width\n",
    "        return (top_y, right_x, bottom_y, left_x)\n",
    "\n",
    "    def get_dependency_trace(self, source_iter, input_name, added_input_names=None):\n",
    "        if not added_input_names:\n",
    "            added_input_names = set()\n",
    "        sx, sy = source_iter.get_output_coords(output=input_name)\n",
    "        ix, iy = self.get_input_coords(input=input_name)\n",
    "        trace = graph_objects.Scatter(\n",
    "            x=[sx, ix],\n",
    "            y=[sy, iy],\n",
    "            mode=\"lines\",\n",
    "            line={\"color\": \"gray\"},\n",
    "            name=input_name,\n",
    "            legendgroup=input_name,\n",
    "            showlegend=input_name not in added_input_names,\n",
    "        )\n",
    "        return trace\n",
    "\n",
    "    @staticmethod\n",
    "    def get_exec_trace(iter_IDs: List[int], iters: List[\"ElementIterationNode\"], sub_idx: int, js_idx: int):\n",
    "        x = []\n",
    "        y = []\n",
    "        for i in iter_IDs:\n",
    "            centre = iters[i].centre\n",
    "            x.append(centre[0])\n",
    "            y.append(centre[1])\n",
    "\n",
    "        if len(x) > 1:\n",
    "            marker = {\"size\":10, \"symbol\": \"arrow-bar-up\", \"angleref\": \"previous\"}\n",
    "        else:\n",
    "            marker = {\"size\":10, \"symbol\": \"square\"}\n",
    "        trace = graph_objects.Scatter(\n",
    "            x=x,\n",
    "            y=y,\n",
    "            mode=\"markers+lines\",\n",
    "            line={\"color\": \"green\"},\n",
    "            name=f\"sub. {sub_idx} - JS {js_idx}\",\n",
    "            marker=marker,\n",
    "        )\n",
    "        return trace\n",
    "\n",
    "    def get_plot_data(self):\n",
    "        # box for the iteration with point at top and bottom edges for inputs/outputs\n",
    "        (top_y, right_x, bottom_y, left_x) = self._get_edges()\n",
    "        shapes = [\n",
    "            graph_objects.layout.Shape(\n",
    "                type=\"rect\",\n",
    "                x0=left_x,\n",
    "                y0=bottom_y,\n",
    "                x1=right_x,\n",
    "                y1=top_y,\n",
    "                line={\"color\": \"gray\"},\n",
    "                layer=\"below\",\n",
    "            )\n",
    "        ]\n",
    "        ix, iy = self.get_input_coords()\n",
    "        ox, oy = self.get_output_coords()\n",
    "        traces = [\n",
    "            graph_objects.Scatter(\n",
    "                x=ix + ox,\n",
    "                y=iy + oy,\n",
    "                mode=\"markers\",\n",
    "                text=self.inputs + self.outputs,\n",
    "                hoverinfo=\"text\",\n",
    "                marker={\"color\": \"black\"},   \n",
    "                showlegend=False,\n",
    "            )\n",
    "        ]\n",
    "        return shapes, traces\n",
    "\n",
    "    def plot(self):\n",
    "        fig = get_empty_fig()\n",
    "        shapes, traces = self.get_plot_data()\n",
    "        for i in shapes:\n",
    "            fig.add_shape(i)\n",
    "        for i in traces:\n",
    "            fig.add_trace(i)\n",
    "        fig.show(config={\"scrollZoom\": True})\n",
    "\n",
    "\n",
    "@dataclass\n",
    "class RunNode:\n",
    "    \"\"\"Class to represent a workflow run.\"\"\"\n",
    "\n",
    "    iter_ID: int\n",
    "    run_sources: Dict[str, int]  # map input names to other `RunNode`s\n",
    "    local_sources: List[str]\n",
    "    default_sources: List[str]\n",
    "\n",
    "\n",
    "def show_2(wk):\n",
    "\n",
    "\n",
    "    runs, elem_iters, elem_iters_by_task = init_nodes(wk)\n",
    "    fig = get_empty_fig()\n",
    "    task_names = []\n",
    "    shapes = []\n",
    "    traces = []\n",
    "    added_input_names = set()\n",
    "    for idx, (task_iID, loop_idx, iter_IDs) in enumerate(\n",
    "        wk.get_iteration_task_pathway(ret_iter_IDs=True)\n",
    "    ):\n",
    "        task_iters = {k: v for k, v in elem_iters.items() if k in iter_IDs}\n",
    "        task = wk.tasks.get(insert_ID=task_iID)        \n",
    "        task_names.append(task.get_dir_name(loop_idx))\n",
    "        centre_y = -idx\n",
    "        for iter_idx, iter_ID_i in enumerate(task_iters):\n",
    "            iter_i = elem_iters[iter_ID_i]\n",
    "            centre_x = iter_idx\n",
    "            iter_i.centre = [centre_x, centre_y]            \n",
    "            shapes_i, traces_i = iter_i.get_plot_data()\n",
    "\n",
    "            for run_j_ID in iter_i.run_IDs:\n",
    "                run_j = runs[run_j_ID]\n",
    "                for inp_name_k, source_runs_k_IDs in run_j.run_sources.items():\n",
    "                    for src_run_m_ID in source_runs_k_IDs:\n",
    "                        source_run_k = runs[src_run_m_ID]\n",
    "                        source_run_k_iter = elem_iters[source_run_k.iter_ID]\n",
    "                        # connect source run's iteration output to this iteration's input\n",
    "                        dep_trace = iter_i.get_dependency_trace(source_run_k_iter, inp_name_k, added_input_names)\n",
    "                        added_input_names.add(inp_name_k)\n",
    "                        traces.append(dep_trace)\n",
    "\n",
    "            shapes.extend(shapes_i)\n",
    "            traces.extend(traces_i)\n",
    "\n",
    "    # add traces to show execution order:\n",
    "    for sub in wk.submissions or []:\n",
    "        for js in sub.jobscripts:\n",
    "            if js.is_array:\n",
    "                raise NotImplementedError # need separate trace for each JS element index\n",
    "            else:\n",
    "                # single trace \n",
    "                # run_lst = js.EAR_ID.flatten(order=\"F\")\n",
    "                run_lst = js.all_EAR_IDs                \n",
    "                iter_lst = [runs[i].iter_ID for i in run_lst]\n",
    "                traces.append(ElementIterationNode.get_exec_trace(iter_lst, elem_iters, sub.index, js.index))\n",
    "    \n",
    "    for i in shapes:\n",
    "        fig.add_shape(i)\n",
    "    for i in traces:\n",
    "        fig.add_trace(i)\n",
    "\n",
    "    fig.update_layout(\n",
    "        yaxis = dict(\n",
    "            tickmode = 'array',            \n",
    "            tickvals = list(range(0, -len(task_names), -1)),\n",
    "            ticktext = task_names,\n",
    "        )\n",
    "    )    \n",
    "    return fig\n",
    "\n",
    "\n",
    "def init_nodes(wk):\n",
    "    runs = {}  # by ID\n",
    "    elem_iters = {}  # by ID\n",
    "    elem_iters_by_task = defaultdict(list)  # elem_iter_IDs, by task ID\n",
    "    for task in wk.tasks:\n",
    "        for elem_i in task.elements:\n",
    "            for iter_j in elem_i.iterations:\n",
    "                run_IDs = []\n",
    "                for act_run in iter_j.action_runs:\n",
    "                    run_sources = {}\n",
    "                    local_sources = []\n",
    "                    default_sources = []\n",
    "                    for inp_name_full, source in act_run.get_parameter_sources(\n",
    "                        \"inputs\"\n",
    "                    ).items():\n",
    "                        inp_name = \".\".join(inp_name_full.split(\".\")[1:])\n",
    "                        run_sources[inp_name] = []\n",
    "                        if not isinstance(source, list):\n",
    "                            source = [source]                        \n",
    "                        for src_i in source:                            \n",
    "                            if src_i[\"type\"] == \"EAR_output\":\n",
    "                                run_sources[inp_name].append(src_i[\"EAR_ID\"])\n",
    "                            elif src_i[\"type\"] == \"local_input\":\n",
    "                                local_sources.append(inp_name)\n",
    "                            elif src_i[\"type\"] == \"default\":\n",
    "                                default_sources.append(inp_name)\n",
    "                    run_IDs.append(act_run.id_)\n",
    "                    runs[act_run.id_] = RunNode(\n",
    "                        iter_ID=iter_j.id_,\n",
    "                        run_sources=run_sources,\n",
    "                        local_sources=local_sources,\n",
    "                        default_sources=default_sources,\n",
    "                    )\n",
    "                elem_iters_by_task[task.index].append(iter_j.id_)\n",
    "                elem_iters[iter_j.id_] = ElementIterationNode(\n",
    "                    task_idx=task.index,\n",
    "                    inputs=list(iter_j.task.template.all_schema_input_types),\n",
    "                    outputs=list(iter_j.task.template.all_schema_output_types),\n",
    "                    run_IDs=run_IDs,\n",
    "                )\n",
    "    return runs, elem_iters, elem_iters_by_task\n",
    "\n",
    "\n",
    "# fig = show_2(wk)\n",
    "# fig.show(config={\"scrollZoom\": True})"
   ]
  },
  {
   "cell_type": "code",
   "execution_count": 3,
   "metadata": {},
   "outputs": [
    {
     "data": {
      "application/vnd.jupyter.widget-view+json": {
       "model_id": "1da9666adaef4b96b106dc6deb900044",
       "version_major": 2,
       "version_minor": 0
      },
      "text/plain": [
       "FigureWidget({\n",
       "    'data': [{'hoverinfo': 'text',\n",
       "              'marker': {'color': 'black'},\n",
       "              'mode': 'markers',\n",
       "              'showlegend': False,\n",
       "              'text': [dimension, x],\n",
       "              'type': 'scatter',\n",
       "              'uid': 'd70ce763-e29d-4aed-bfad-f3aae1ef07c7',\n",
       "              'x': [0.0, 0.0],\n",
       "              'y': [0.125, -0.125]},\n",
       "             {'hoverinfo': 'text',\n",
       "              'marker': {'color': 'black'},\n",
       "              'mode': 'markers',\n",
       "              'showlegend': False,\n",
       "              'text': [dimension, x],\n",
       "              'type': 'scatter',\n",
       "              'uid': 'a10ccf4b-773e-47fe-be9d-bab3a65d51ac',\n",
       "              'x': [1.0, 1.0],\n",
       "              'y': [0.125, -0.125]},\n",
       "             {'hoverinfo': 'text',\n",
       "              'marker': {'color': 'black'},\n",
       "              'mode': 'markers',\n",
       "              'showlegend': False,\n",
       "              'text': [dimension, x],\n",
       "              'type': 'scatter',\n",
       "              'uid': '2d09632e-6051-40a1-8b77-315344706327',\n",
       "              'x': [2.0, 2.0],\n",
       "              'y': [0.125, -0.125]},\n",
       "             {'hoverinfo': 'text',\n",
       "              'marker': {'color': 'black'},\n",
       "              'mode': 'markers',\n",
       "              'showlegend': False,\n",
       "              'text': [dimension, x],\n",
       "              'type': 'scatter',\n",
       "              'uid': '82a15577-fb45-498e-8804-a8ae74365e92',\n",
       "              'x': [3.0, 3.0],\n",
       "              'y': [0.125, -0.125]},\n",
       "             {'hoverinfo': 'text',\n",
       "              'marker': {'color': 'black'},\n",
       "              'mode': 'markers',\n",
       "              'showlegend': False,\n",
       "              'text': [dimension, x],\n",
       "              'type': 'scatter',\n",
       "              'uid': 'ce3c7993-31a9-47f7-9edf-32fb2430fa77',\n",
       "              'x': [4.0, 4.0],\n",
       "              'y': [0.125, -0.125]},\n",
       "             {'hoverinfo': 'text',\n",
       "              'marker': {'color': 'black'},\n",
       "              'mode': 'markers',\n",
       "              'showlegend': False,\n",
       "              'text': [dimension, x],\n",
       "              'type': 'scatter',\n",
       "              'uid': '661c070c-ec9c-4f96-aed5-5ca6c8ae69c5',\n",
       "              'x': [5.0, 5.0],\n",
       "              'y': [0.125, -0.125]},\n",
       "             {'hoverinfo': 'text',\n",
       "              'marker': {'color': 'black'},\n",
       "              'mode': 'markers',\n",
       "              'showlegend': False,\n",
       "              'text': [dimension, x],\n",
       "              'type': 'scatter',\n",
       "              'uid': '5f378332-136c-4822-a85c-f51e355bb145',\n",
       "              'x': [6.0, 6.0],\n",
       "              'y': [0.125, -0.125]},\n",
       "             {'hoverinfo': 'text',\n",
       "              'marker': {'color': 'black'},\n",
       "              'mode': 'markers',\n",
       "              'showlegend': False,\n",
       "              'text': [dimension, x],\n",
       "              'type': 'scatter',\n",
       "              'uid': '8b32da01-7d1d-4d08-80c1-cea75ef860de',\n",
       "              'x': [7.0, 7.0],\n",
       "              'y': [0.125, -0.125]},\n",
       "             {'hoverinfo': 'text',\n",
       "              'marker': {'color': 'black'},\n",
       "              'mode': 'markers',\n",
       "              'showlegend': False,\n",
       "              'text': [dimension, x],\n",
       "              'type': 'scatter',\n",
       "              'uid': '81b927de-6c78-4410-ba15-d323c81dab48',\n",
       "              'x': [8.0, 8.0],\n",
       "              'y': [0.125, -0.125]},\n",
       "             {'hoverinfo': 'text',\n",
       "              'marker': {'color': 'black'},\n",
       "              'mode': 'markers',\n",
       "              'showlegend': False,\n",
       "              'text': [dimension, x],\n",
       "              'type': 'scatter',\n",
       "              'uid': '6e73056d-5120-4417-ae41-3f6032281e45',\n",
       "              'x': [9.0, 9.0],\n",
       "              'y': [0.125, -0.125]},\n",
       "             {'legendgroup': 'x',\n",
       "              'line': {'color': 'gray'},\n",
       "              'mode': 'lines',\n",
       "              'name': 'x',\n",
       "              'showlegend': True,\n",
       "              'type': 'scatter',\n",
       "              'uid': 'd4c62da0-3f38-4889-a5c3-c04b0d2d5845',\n",
       "              'x': [0.0, 0.0],\n",
       "              'y': [-0.125, -0.875]},\n",
       "             {'hoverinfo': 'text',\n",
       "              'marker': {'color': 'black'},\n",
       "              'mode': 'markers',\n",
       "              'showlegend': False,\n",
       "              'text': [x, g],\n",
       "              'type': 'scatter',\n",
       "              'uid': '554e3ec8-5146-4527-8e89-349c2e269f56',\n",
       "              'x': [0.0, 0.0],\n",
       "              'y': [-0.875, -1.125]},\n",
       "             {'legendgroup': 'x',\n",
       "              'line': {'color': 'gray'},\n",
       "              'mode': 'lines',\n",
       "              'name': 'x',\n",
       "              'showlegend': False,\n",
       "              'type': 'scatter',\n",
       "              'uid': '60c96380-2e73-4b2e-96a9-70c264fd3570',\n",
       "              'x': [1.0, 1.0],\n",
       "              'y': [-0.125, -0.875]},\n",
       "             {'hoverinfo': 'text',\n",
       "              'marker': {'color': 'black'},\n",
       "              'mode': 'markers',\n",
       "              'showlegend': False,\n",
       "              'text': [x, g],\n",
       "              'type': 'scatter',\n",
       "              'uid': 'f49c402c-226d-41f3-bea6-b0603986dda8',\n",
       "              'x': [1.0, 1.0],\n",
       "              'y': [-0.875, -1.125]},\n",
       "             {'legendgroup': 'x',\n",
       "              'line': {'color': 'gray'},\n",
       "              'mode': 'lines',\n",
       "              'name': 'x',\n",
       "              'showlegend': False,\n",
       "              'type': 'scatter',\n",
       "              'uid': 'fb662108-9537-4083-92da-f2d47d85ca42',\n",
       "              'x': [2.0, 2.0],\n",
       "              'y': [-0.125, -0.875]},\n",
       "             {'hoverinfo': 'text',\n",
       "              'marker': {'color': 'black'},\n",
       "              'mode': 'markers',\n",
       "              'showlegend': False,\n",
       "              'text': [x, g],\n",
       "              'type': 'scatter',\n",
       "              'uid': 'dcbd7baf-c983-4017-861d-724e9faef0c2',\n",
       "              'x': [2.0, 2.0],\n",
       "              'y': [-0.875, -1.125]},\n",
       "             {'legendgroup': 'x',\n",
       "              'line': {'color': 'gray'},\n",
       "              'mode': 'lines',\n",
       "              'name': 'x',\n",
       "              'showlegend': False,\n",
       "              'type': 'scatter',\n",
       "              'uid': '3c18cdeb-420b-41f4-ac23-ddb1a0d6528f',\n",
       "              'x': [3.0, 3.0],\n",
       "              'y': [-0.125, -0.875]},\n",
       "             {'hoverinfo': 'text',\n",
       "              'marker': {'color': 'black'},\n",
       "              'mode': 'markers',\n",
       "              'showlegend': False,\n",
       "              'text': [x, g],\n",
       "              'type': 'scatter',\n",
       "              'uid': '204841ac-4203-4959-bc8c-edefe38040ca',\n",
       "              'x': [3.0, 3.0],\n",
       "              'y': [-0.875, -1.125]},\n",
       "             {'legendgroup': 'x',\n",
       "              'line': {'color': 'gray'},\n",
       "              'mode': 'lines',\n",
       "              'name': 'x',\n",
       "              'showlegend': False,\n",
       "              'type': 'scatter',\n",
       "              'uid': '8bdc8e75-1297-4b3e-b011-8f039b714bd3',\n",
       "              'x': [4.0, 4.0],\n",
       "              'y': [-0.125, -0.875]},\n",
       "             {'hoverinfo': 'text',\n",
       "              'marker': {'color': 'black'},\n",
       "              'mode': 'markers',\n",
       "              'showlegend': False,\n",
       "              'text': [x, g],\n",
       "              'type': 'scatter',\n",
       "              'uid': '87522d8f-2628-4b56-93f4-f8ec400aa9ce',\n",
       "              'x': [4.0, 4.0],\n",
       "              'y': [-0.875, -1.125]},\n",
       "             {'legendgroup': 'x',\n",
       "              'line': {'color': 'gray'},\n",
       "              'mode': 'lines',\n",
       "              'name': 'x',\n",
       "              'showlegend': False,\n",
       "              'type': 'scatter',\n",
       "              'uid': '61577910-ce0a-494f-be47-789a846a4f7a',\n",
       "              'x': [5.0, 5.0],\n",
       "              'y': [-0.125, -0.875]},\n",
       "             {'hoverinfo': 'text',\n",
       "              'marker': {'color': 'black'},\n",
       "              'mode': 'markers',\n",
       "              'showlegend': False,\n",
       "              'text': [x, g],\n",
       "              'type': 'scatter',\n",
       "              'uid': 'cde2a7cc-dcb8-4530-a51c-728639cca87d',\n",
       "              'x': [5.0, 5.0],\n",
       "              'y': [-0.875, -1.125]},\n",
       "             {'legendgroup': 'x',\n",
       "              'line': {'color': 'gray'},\n",
       "              'mode': 'lines',\n",
       "              'name': 'x',\n",
       "              'showlegend': False,\n",
       "              'type': 'scatter',\n",
       "              'uid': '83d6f032-8c38-4236-baf6-f83c7989be69',\n",
       "              'x': [6.0, 6.0],\n",
       "              'y': [-0.125, -0.875]},\n",
       "             {'hoverinfo': 'text',\n",
       "              'marker': {'color': 'black'},\n",
       "              'mode': 'markers',\n",
       "              'showlegend': False,\n",
       "              'text': [x, g],\n",
       "              'type': 'scatter',\n",
       "              'uid': 'cc0a79de-fa8f-47ed-a75a-0db9e72f0216',\n",
       "              'x': [6.0, 6.0],\n",
       "              'y': [-0.875, -1.125]},\n",
       "             {'legendgroup': 'x',\n",
       "              'line': {'color': 'gray'},\n",
       "              'mode': 'lines',\n",
       "              'name': 'x',\n",
       "              'showlegend': False,\n",
       "              'type': 'scatter',\n",
       "              'uid': 'c5169193-737a-41ff-812e-e1359b912b9f',\n",
       "              'x': [7.0, 7.0],\n",
       "              'y': [-0.125, -0.875]},\n",
       "             {'hoverinfo': 'text',\n",
       "              'marker': {'color': 'black'},\n",
       "              'mode': 'markers',\n",
       "              'showlegend': False,\n",
       "              'text': [x, g],\n",
       "              'type': 'scatter',\n",
       "              'uid': '8e1da128-a1ef-491d-8804-91691225eb56',\n",
       "              'x': [7.0, 7.0],\n",
       "              'y': [-0.875, -1.125]},\n",
       "             {'legendgroup': 'x',\n",
       "              'line': {'color': 'gray'},\n",
       "              'mode': 'lines',\n",
       "              'name': 'x',\n",
       "              'showlegend': False,\n",
       "              'type': 'scatter',\n",
       "              'uid': 'bbe3e183-b54c-4faa-a1a0-fb6e8fdd9ea6',\n",
       "              'x': [8.0, 8.0],\n",
       "              'y': [-0.125, -0.875]},\n",
       "             {'hoverinfo': 'text',\n",
       "              'marker': {'color': 'black'},\n",
       "              'mode': 'markers',\n",
       "              'showlegend': False,\n",
       "              'text': [x, g],\n",
       "              'type': 'scatter',\n",
       "              'uid': '9d1b528e-ee3b-4c35-99b3-f88f7ce0d056',\n",
       "              'x': [8.0, 8.0],\n",
       "              'y': [-0.875, -1.125]},\n",
       "             {'legendgroup': 'x',\n",
       "              'line': {'color': 'gray'},\n",
       "              'mode': 'lines',\n",
       "              'name': 'x',\n",
       "              'showlegend': False,\n",
       "              'type': 'scatter',\n",
       "              'uid': '149e67f8-3504-4aa3-9e88-0e72221b1e89',\n",
       "              'x': [9.0, 9.0],\n",
       "              'y': [-0.125, -0.875]},\n",
       "             {'hoverinfo': 'text',\n",
       "              'marker': {'color': 'black'},\n",
       "              'mode': 'markers',\n",
       "              'showlegend': False,\n",
       "              'text': [x, g],\n",
       "              'type': 'scatter',\n",
       "              'uid': 'f36eab82-8952-4b11-9291-ae5180b09e7f',\n",
       "              'x': [9.0, 9.0],\n",
       "              'y': [-0.875, -1.125]},\n",
       "             {'legendgroup': 'x',\n",
       "              'line': {'color': 'gray'},\n",
       "              'mode': 'lines',\n",
       "              'name': 'x',\n",
       "              'showlegend': False,\n",
       "              'type': 'scatter',\n",
       "              'uid': '773a544d-183e-4500-9f3d-5c27817b0d4d',\n",
       "              'x': [0.0, 0.0],\n",
       "              'y': [-0.125, -1.875]},\n",
       "             {'legendgroup': 'x',\n",
       "              'line': {'color': 'gray'},\n",
       "              'mode': 'lines',\n",
       "              'name': 'x',\n",
       "              'showlegend': False,\n",
       "              'type': 'scatter',\n",
       "              'uid': 'f6636df0-8881-41db-b178-5928f034579b',\n",
       "              'x': [1.0, 0.0],\n",
       "              'y': [-0.125, -1.875]},\n",
       "             {'legendgroup': 'x',\n",
       "              'line': {'color': 'gray'},\n",
       "              'mode': 'lines',\n",
       "              'name': 'x',\n",
       "              'showlegend': False,\n",
       "              'type': 'scatter',\n",
       "              'uid': '6b1f9e8e-4a0e-4d2b-8ba6-8456ce55f1c6',\n",
       "              'x': [2.0, 0.0],\n",
       "              'y': [-0.125, -1.875]},\n",
       "             {'legendgroup': 'x',\n",
       "              'line': {'color': 'gray'},\n",
       "              'mode': 'lines',\n",
       "              'name': 'x',\n",
       "              'showlegend': False,\n",
       "              'type': 'scatter',\n",
       "              'uid': '829fa00d-ecdf-4c31-9dc5-7d7860be6875',\n",
       "              'x': [3.0, 0.0],\n",
       "              'y': [-0.125, -1.875]},\n",
       "             {'legendgroup': 'x',\n",
       "              'line': {'color': 'gray'},\n",
       "              'mode': 'lines',\n",
       "              'name': 'x',\n",
       "              'showlegend': False,\n",
       "              'type': 'scatter',\n",
       "              'uid': 'd63bf5e8-77a5-4861-ac52-dd733875c9a3',\n",
       "              'x': [4.0, 0.0],\n",
       "              'y': [-0.125, -1.875]},\n",
       "             {'legendgroup': 'x',\n",
       "              'line': {'color': 'gray'},\n",
       "              'mode': 'lines',\n",
       "              'name': 'x',\n",
       "              'showlegend': False,\n",
       "              'type': 'scatter',\n",
       "              'uid': 'd9ed770b-67ff-4e74-a401-243266dcec6d',\n",
       "              'x': [5.0, 0.0],\n",
       "              'y': [-0.125, -1.875]},\n",
       "             {'legendgroup': 'x',\n",
       "              'line': {'color': 'gray'},\n",
       "              'mode': 'lines',\n",
       "              'name': 'x',\n",
       "              'showlegend': False,\n",
       "              'type': 'scatter',\n",
       "              'uid': '0d6d8ef3-4f01-438a-a991-32384476c882',\n",
       "              'x': [6.0, 0.0],\n",
       "              'y': [-0.125, -1.875]},\n",
       "             {'legendgroup': 'x',\n",
       "              'line': {'color': 'gray'},\n",
       "              'mode': 'lines',\n",
       "              'name': 'x',\n",
       "              'showlegend': False,\n",
       "              'type': 'scatter',\n",
       "              'uid': 'bbfe15a4-55b8-4db5-b6df-8be09eedfca1',\n",
       "              'x': [7.0, 0.0],\n",
       "              'y': [-0.125, -1.875]},\n",
       "             {'legendgroup': 'x',\n",
       "              'line': {'color': 'gray'},\n",
       "              'mode': 'lines',\n",
       "              'name': 'x',\n",
       "              'showlegend': False,\n",
       "              'type': 'scatter',\n",
       "              'uid': 'a88ce02f-f472-4b8e-ac60-29b8e65d95db',\n",
       "              'x': [8.0, 0.0],\n",
       "              'y': [-0.125, -1.875]},\n",
       "             {'legendgroup': 'x',\n",
       "              'line': {'color': 'gray'},\n",
       "              'mode': 'lines',\n",
       "              'name': 'x',\n",
       "              'showlegend': False,\n",
       "              'type': 'scatter',\n",
       "              'uid': '46bf86a8-a669-4c26-915c-0a70aeb4ce51',\n",
       "              'x': [9.0, 0.0],\n",
       "              'y': [-0.125, -1.875]},\n",
       "             {'legendgroup': 'g',\n",
       "              'line': {'color': 'gray'},\n",
       "              'mode': 'lines',\n",
       "              'name': 'g',\n",
       "              'showlegend': True,\n",
       "              'type': 'scatter',\n",
       "              'uid': 'eb53d42f-37d6-40ff-8f85-1c0fb2994829',\n",
       "              'x': [0.0, 0.16666666666666663],\n",
       "              'y': [-1.125, -1.875]},\n",
       "             {'legendgroup': 'g',\n",
       "              'line': {'color': 'gray'},\n",
       "              'mode': 'lines',\n",
       "              'name': 'g',\n",
       "              'showlegend': False,\n",
       "              'type': 'scatter',\n",
       "              'uid': '12289e40-75fe-49a5-b843-e69edb4216e6',\n",
       "              'x': [1.0, 0.16666666666666663],\n",
       "              'y': [-1.125, -1.875]},\n",
       "             {'legendgroup': 'g',\n",
       "              'line': {'color': 'gray'},\n",
       "              'mode': 'lines',\n",
       "              'name': 'g',\n",
       "              'showlegend': False,\n",
       "              'type': 'scatter',\n",
       "              'uid': '738464a6-215b-4bf6-9be8-b8bfe3a4255a',\n",
       "              'x': [2.0, 0.16666666666666663],\n",
       "              'y': [-1.125, -1.875]},\n",
       "             {'legendgroup': 'g',\n",
       "              'line': {'color': 'gray'},\n",
       "              'mode': 'lines',\n",
       "              'name': 'g',\n",
       "              'showlegend': False,\n",
       "              'type': 'scatter',\n",
       "              'uid': '3ec13ef7-2f52-4f26-a5c7-9eb5c97e1b94',\n",
       "              'x': [3.0, 0.16666666666666663],\n",
       "              'y': [-1.125, -1.875]},\n",
       "             {'legendgroup': 'g',\n",
       "              'line': {'color': 'gray'},\n",
       "              'mode': 'lines',\n",
       "              'name': 'g',\n",
       "              'showlegend': False,\n",
       "              'type': 'scatter',\n",
       "              'uid': '0a1f19f6-8ae1-4629-88e9-f15dd8d96d39',\n",
       "              'x': [4.0, 0.16666666666666663],\n",
       "              'y': [-1.125, -1.875]},\n",
       "             {'legendgroup': 'g',\n",
       "              'line': {'color': 'gray'},\n",
       "              'mode': 'lines',\n",
       "              'name': 'g',\n",
       "              'showlegend': False,\n",
       "              'type': 'scatter',\n",
       "              'uid': 'e529ad6c-ce5b-40c4-bf0b-7bffa0091401',\n",
       "              'x': [5.0, 0.16666666666666663],\n",
       "              'y': [-1.125, -1.875]},\n",
       "             {'legendgroup': 'g',\n",
       "              'line': {'color': 'gray'},\n",
       "              'mode': 'lines',\n",
       "              'name': 'g',\n",
       "              'showlegend': False,\n",
       "              'type': 'scatter',\n",
       "              'uid': 'eb703e17-fd9d-4c67-a7f5-ea337d98ef00',\n",
       "              'x': [6.0, 0.16666666666666663],\n",
       "              'y': [-1.125, -1.875]},\n",
       "             {'legendgroup': 'g',\n",
       "              'line': {'color': 'gray'},\n",
       "              'mode': 'lines',\n",
       "              'name': 'g',\n",
       "              'showlegend': False,\n",
       "              'type': 'scatter',\n",
       "              'uid': '4c5cd7c4-d4f6-470b-86a5-3b74c6753b11',\n",
       "              'x': [7.0, 0.16666666666666663],\n",
       "              'y': [-1.125, -1.875]},\n",
       "             {'legendgroup': 'g',\n",
       "              'line': {'color': 'gray'},\n",
       "              'mode': 'lines',\n",
       "              'name': 'g',\n",
       "              'showlegend': False,\n",
       "              'type': 'scatter',\n",
       "              'uid': 'b9776ae5-d807-4204-9adc-43e35b61be6a',\n",
       "              'x': [8.0, 0.16666666666666663],\n",
       "              'y': [-1.125, -1.875]},\n",
       "             {'legendgroup': 'g',\n",
       "              'line': {'color': 'gray'},\n",
       "              'mode': 'lines',\n",
       "              'name': 'g',\n",
       "              'showlegend': False,\n",
       "              'type': 'scatter',\n",
       "              'uid': '21732d66-1d63-4499-a0b9-a18bf128aa84',\n",
       "              'x': [9.0, 0.16666666666666663],\n",
       "              'y': [-1.125, -1.875]},\n",
       "             {'hoverinfo': 'text',\n",
       "              'marker': {'color': 'black'},\n",
       "              'mode': 'markers',\n",
       "              'showlegend': False,\n",
       "              'text': [all_g, all_x, x, p_0, g, num_chains, chain_seeds, chain_g,\n",
       "                       pf, threshold, num_failed],\n",
       "              'type': 'scatter',\n",
       "              'uid': 'f1841d43-0ff4-4499-9c30-e6eec683ae74',\n",
       "              'x': [-0.16666666666666669, -0.08333333333333334, 0.0,\n",
       "                    0.08333333333333331, 0.16666666666666663, -0.17857142857142858,\n",
       "                    -0.10714285714285715, -0.035714285714285726,\n",
       "                    0.0357142857142857, 0.1071428571428571, 0.17857142857142855],\n",
       "              'y': [-1.875, -1.875, -1.875, -1.875, -1.875, -2.125, -2.125,\n",
       "                    -2.125, -2.125, -2.125, -2.125]},\n",
       "             {'legendgroup': 'chain_seeds',\n",
       "              'line': {'color': 'gray'},\n",
       "              'mode': 'lines',\n",
       "              'name': 'chain_seeds',\n",
       "              'showlegend': True,\n",
       "              'type': 'scatter',\n",
       "              'uid': '57987e58-58b6-4a28-9999-2a69166eb6a6',\n",
       "              'x': [-0.10714285714285715, 0.0],\n",
       "              'y': [-2.125, -2.875]},\n",
       "             {'legendgroup': 'chain_g',\n",
       "              'line': {'color': 'gray'},\n",
       "              'mode': 'lines',\n",
       "              'name': 'chain_g',\n",
       "              'showlegend': True,\n",
       "              'type': 'scatter',\n",
       "              'uid': 'defb248e-2482-4fb2-89e7-f22fbe3dceba',\n",
       "              'x': [-0.035714285714285726, 0.125],\n",
       "              'y': [-2.125, -2.875]},\n",
       "             {'hoverinfo': 'text',\n",
       "              'marker': {'color': 'black'},\n",
       "              'mode': 'markers',\n",
       "              'showlegend': False,\n",
       "              'text': [chain_index, chain_seeds, chain_g, all_g, g, all_x, x],\n",
       "              'type': 'scatter',\n",
       "              'uid': '15e0ace7-518e-4cc2-810c-6987c0c1d5fe',\n",
       "              'x': [-0.125, 0.0, 0.125, -0.15, -0.04999999999999999,\n",
       "                    0.050000000000000044, 0.15000000000000002],\n",
       "              'y': [-2.875, -2.875, -2.875, -3.125, -3.125, -3.125, -3.125]},\n",
       "             {'legendgroup': 'chain_seeds',\n",
       "              'line': {'color': 'gray'},\n",
       "              'mode': 'lines',\n",
       "              'name': 'chain_seeds',\n",
       "              'showlegend': False,\n",
       "              'type': 'scatter',\n",
       "              'uid': 'cdb214c3-ab19-46a7-983d-81ed808f888e',\n",
       "              'x': [-0.10714285714285715, 1.0],\n",
       "              'y': [-2.125, -2.875]},\n",
       "             {'legendgroup': 'chain_g',\n",
       "              'line': {'color': 'gray'},\n",
       "              'mode': 'lines',\n",
       "              'name': 'chain_g',\n",
       "              'showlegend': False,\n",
       "              'type': 'scatter',\n",
       "              'uid': 'b5c6129f-c24b-4132-98fe-2f2708443b69',\n",
       "              'x': [-0.035714285714285726, 1.125],\n",
       "              'y': [-2.125, -2.875]},\n",
       "             {'hoverinfo': 'text',\n",
       "              'marker': {'color': 'black'},\n",
       "              'mode': 'markers',\n",
       "              'showlegend': False,\n",
       "              'text': [chain_index, chain_seeds, chain_g, all_g, g, all_x, x],\n",
       "              'type': 'scatter',\n",
       "              'uid': 'a61819a3-a6ee-4e53-b603-e0e5b649b369',\n",
       "              'x': [0.875, 1.0, 1.125, 0.85, 0.95, 1.05, 1.15],\n",
       "              'y': [-2.875, -2.875, -2.875, -3.125, -3.125, -3.125, -3.125]},\n",
       "             {'legendgroup': 'chain_seeds',\n",
       "              'line': {'color': 'gray'},\n",
       "              'mode': 'lines',\n",
       "              'name': 'chain_seeds',\n",
       "              'showlegend': False,\n",
       "              'type': 'scatter',\n",
       "              'uid': 'e71409f3-e5e8-4d0e-9fc2-82e6f3e76b88',\n",
       "              'x': [-0.10714285714285715, 2.0],\n",
       "              'y': [-2.125, -2.875]},\n",
       "             {'legendgroup': 'chain_g',\n",
       "              'line': {'color': 'gray'},\n",
       "              'mode': 'lines',\n",
       "              'name': 'chain_g',\n",
       "              'showlegend': False,\n",
       "              'type': 'scatter',\n",
       "              'uid': 'f5695db8-93bb-4048-b18c-50b611ea88d6',\n",
       "              'x': [-0.035714285714285726, 2.125],\n",
       "              'y': [-2.125, -2.875]},\n",
       "             {'hoverinfo': 'text',\n",
       "              'marker': {'color': 'black'},\n",
       "              'mode': 'markers',\n",
       "              'showlegend': False,\n",
       "              'text': [chain_index, chain_seeds, chain_g, all_g, g, all_x, x],\n",
       "              'type': 'scatter',\n",
       "              'uid': 'e60b781c-181d-4bf7-8c14-116d129a1a95',\n",
       "              'x': [1.875, 2.0, 2.125, 1.85, 1.95, 2.05, 2.15],\n",
       "              'y': [-2.875, -2.875, -2.875, -3.125, -3.125, -3.125, -3.125]},\n",
       "             {'legendgroup': 'chain_seeds',\n",
       "              'line': {'color': 'gray'},\n",
       "              'mode': 'lines',\n",
       "              'name': 'chain_seeds',\n",
       "              'showlegend': False,\n",
       "              'type': 'scatter',\n",
       "              'uid': 'a9ffea79-56eb-4439-b713-59824b885959',\n",
       "              'x': [-0.10714285714285715, 3.0],\n",
       "              'y': [-2.125, -2.875]},\n",
       "             {'legendgroup': 'chain_g',\n",
       "              'line': {'color': 'gray'},\n",
       "              'mode': 'lines',\n",
       "              'name': 'chain_g',\n",
       "              'showlegend': False,\n",
       "              'type': 'scatter',\n",
       "              'uid': '843266ba-87ae-423e-8280-2067071b9852',\n",
       "              'x': [-0.035714285714285726, 3.125],\n",
       "              'y': [-2.125, -2.875]},\n",
       "             {'hoverinfo': 'text',\n",
       "              'marker': {'color': 'black'},\n",
       "              'mode': 'markers',\n",
       "              'showlegend': False,\n",
       "              'text': [chain_index, chain_seeds, chain_g, all_g, g, all_x, x],\n",
       "              'type': 'scatter',\n",
       "              'uid': '5b2187e4-608c-4d23-8e43-8c4fcff35281',\n",
       "              'x': [2.875, 3.0, 3.125, 2.85, 2.95, 3.05, 3.15],\n",
       "              'y': [-2.875, -2.875, -2.875, -3.125, -3.125, -3.125, -3.125]},\n",
       "             {'legendgroup': 'chain_seeds',\n",
       "              'line': {'color': 'gray'},\n",
       "              'mode': 'lines',\n",
       "              'name': 'chain_seeds',\n",
       "              'showlegend': False,\n",
       "              'type': 'scatter',\n",
       "              'uid': '4a789ca8-3b93-4dd8-8e11-7daff61cb0eb',\n",
       "              'x': [-0.10714285714285715, 4.0],\n",
       "              'y': [-2.125, -2.875]},\n",
       "             {'legendgroup': 'chain_g',\n",
       "              'line': {'color': 'gray'},\n",
       "              'mode': 'lines',\n",
       "              'name': 'chain_g',\n",
       "              'showlegend': False,\n",
       "              'type': 'scatter',\n",
       "              'uid': 'f7e874f0-b550-4b43-ad7b-cbe2cb6c29d9',\n",
       "              'x': [-0.035714285714285726, 4.125],\n",
       "              'y': [-2.125, -2.875]},\n",
       "             {'hoverinfo': 'text',\n",
       "              'marker': {'color': 'black'},\n",
       "              'mode': 'markers',\n",
       "              'showlegend': False,\n",
       "              'text': [chain_index, chain_seeds, chain_g, all_g, g, all_x, x],\n",
       "              'type': 'scatter',\n",
       "              'uid': '31ef8a48-06bb-4035-b015-c26076b4dece',\n",
       "              'x': [3.875, 4.0, 4.125, 3.85, 3.95, 4.05, 4.15],\n",
       "              'y': [-2.875, -2.875, -2.875, -3.125, -3.125, -3.125, -3.125]},\n",
       "             {'legendgroup': 'chain_seeds',\n",
       "              'line': {'color': 'gray'},\n",
       "              'mode': 'lines',\n",
       "              'name': 'chain_seeds',\n",
       "              'showlegend': False,\n",
       "              'type': 'scatter',\n",
       "              'uid': '2cb4af89-37ad-4480-af5c-06e94c100328',\n",
       "              'x': [-0.10714285714285715, 5.0],\n",
       "              'y': [-2.125, -2.875]},\n",
       "             {'legendgroup': 'chain_g',\n",
       "              'line': {'color': 'gray'},\n",
       "              'mode': 'lines',\n",
       "              'name': 'chain_g',\n",
       "              'showlegend': False,\n",
       "              'type': 'scatter',\n",
       "              'uid': 'c1d05415-e6e6-4336-a314-9f1c2a119258',\n",
       "              'x': [-0.035714285714285726, 5.125],\n",
       "              'y': [-2.125, -2.875]},\n",
       "             {'hoverinfo': 'text',\n",
       "              'marker': {'color': 'black'},\n",
       "              'mode': 'markers',\n",
       "              'showlegend': False,\n",
       "              'text': [chain_index, chain_seeds, chain_g, all_g, g, all_x, x],\n",
       "              'type': 'scatter',\n",
       "              'uid': '8ac7d2a4-0a5a-4788-82f6-d14960fff759',\n",
       "              'x': [4.875, 5.0, 5.125, 4.85, 4.95, 5.05, 5.15],\n",
       "              'y': [-2.875, -2.875, -2.875, -3.125, -3.125, -3.125, -3.125]},\n",
       "             {'legendgroup': 'chain_seeds',\n",
       "              'line': {'color': 'gray'},\n",
       "              'mode': 'lines',\n",
       "              'name': 'chain_seeds',\n",
       "              'showlegend': False,\n",
       "              'type': 'scatter',\n",
       "              'uid': '7980feab-a765-48ba-9099-d7450dbb7710',\n",
       "              'x': [-0.10714285714285715, 6.0],\n",
       "              'y': [-2.125, -2.875]},\n",
       "             {'legendgroup': 'chain_g',\n",
       "              'line': {'color': 'gray'},\n",
       "              'mode': 'lines',\n",
       "              'name': 'chain_g',\n",
       "              'showlegend': False,\n",
       "              'type': 'scatter',\n",
       "              'uid': '94f17333-0a49-4d83-8ca4-c4a2b703bd9c',\n",
       "              'x': [-0.035714285714285726, 6.125],\n",
       "              'y': [-2.125, -2.875]},\n",
       "             {'hoverinfo': 'text',\n",
       "              'marker': {'color': 'black'},\n",
       "              'mode': 'markers',\n",
       "              'showlegend': False,\n",
       "              'text': [chain_index, chain_seeds, chain_g, all_g, g, all_x, x],\n",
       "              'type': 'scatter',\n",
       "              'uid': 'd67c373c-ce1a-4aaf-b8af-5baaa38b0841',\n",
       "              'x': [5.875, 6.0, 6.125, 5.85, 5.95, 6.05, 6.15],\n",
       "              'y': [-2.875, -2.875, -2.875, -3.125, -3.125, -3.125, -3.125]},\n",
       "             {'legendgroup': 'chain_seeds',\n",
       "              'line': {'color': 'gray'},\n",
       "              'mode': 'lines',\n",
       "              'name': 'chain_seeds',\n",
       "              'showlegend': False,\n",
       "              'type': 'scatter',\n",
       "              'uid': '23e6cd0d-d27b-4ce1-9c45-2b7943cde661',\n",
       "              'x': [-0.10714285714285715, 7.0],\n",
       "              'y': [-2.125, -2.875]},\n",
       "             {'legendgroup': 'chain_g',\n",
       "              'line': {'color': 'gray'},\n",
       "              'mode': 'lines',\n",
       "              'name': 'chain_g',\n",
       "              'showlegend': False,\n",
       "              'type': 'scatter',\n",
       "              'uid': '23306630-6177-489a-82a3-e85f7064bb98',\n",
       "              'x': [-0.035714285714285726, 7.125],\n",
       "              'y': [-2.125, -2.875]},\n",
       "             {'hoverinfo': 'text',\n",
       "              'marker': {'color': 'black'},\n",
       "              'mode': 'markers',\n",
       "              'showlegend': False,\n",
       "              'text': [chain_index, chain_seeds, chain_g, all_g, g, all_x, x],\n",
       "              'type': 'scatter',\n",
       "              'uid': '8ee51379-3f1c-4fb2-b962-460215774189',\n",
       "              'x': [6.875, 7.0, 7.125, 6.85, 6.95, 7.05, 7.15],\n",
       "              'y': [-2.875, -2.875, -2.875, -3.125, -3.125, -3.125, -3.125]},\n",
       "             {'legendgroup': 'chain_seeds',\n",
       "              'line': {'color': 'gray'},\n",
       "              'mode': 'lines',\n",
       "              'name': 'chain_seeds',\n",
       "              'showlegend': False,\n",
       "              'type': 'scatter',\n",
       "              'uid': '0ccb04ad-5b5e-4ecd-ac77-a36c2a549037',\n",
       "              'x': [-0.10714285714285715, 8.0],\n",
       "              'y': [-2.125, -2.875]},\n",
       "             {'legendgroup': 'chain_g',\n",
       "              'line': {'color': 'gray'},\n",
       "              'mode': 'lines',\n",
       "              'name': 'chain_g',\n",
       "              'showlegend': False,\n",
       "              'type': 'scatter',\n",
       "              'uid': 'eeee5785-3b16-473a-8484-07525d1fcb0e',\n",
       "              'x': [-0.035714285714285726, 8.125],\n",
       "              'y': [-2.125, -2.875]},\n",
       "             {'hoverinfo': 'text',\n",
       "              'marker': {'color': 'black'},\n",
       "              'mode': 'markers',\n",
       "              'showlegend': False,\n",
       "              'text': [chain_index, chain_seeds, chain_g, all_g, g, all_x, x],\n",
       "              'type': 'scatter',\n",
       "              'uid': 'd3f75658-137c-4729-b4f3-2e350e719ae4',\n",
       "              'x': [7.875, 8.0, 8.125, 7.85, 7.95, 8.05, 8.15],\n",
       "              'y': [-2.875, -2.875, -2.875, -3.125, -3.125, -3.125, -3.125]},\n",
       "             {'legendgroup': 'chain_seeds',\n",
       "              'line': {'color': 'gray'},\n",
       "              'mode': 'lines',\n",
       "              'name': 'chain_seeds',\n",
       "              'showlegend': False,\n",
       "              'type': 'scatter',\n",
       "              'uid': '48a9be22-321f-40e6-8d75-3d6e3ce7eda2',\n",
       "              'x': [-0.10714285714285715, 9.0],\n",
       "              'y': [-2.125, -2.875]},\n",
       "             {'legendgroup': 'chain_g',\n",
       "              'line': {'color': 'gray'},\n",
       "              'mode': 'lines',\n",
       "              'name': 'chain_g',\n",
       "              'showlegend': False,\n",
       "              'type': 'scatter',\n",
       "              'uid': 'a434e711-1940-44d3-acde-2f1c00f2b7c6',\n",
       "              'x': [-0.035714285714285726, 9.125],\n",
       "              'y': [-2.125, -2.875]},\n",
       "             {'hoverinfo': 'text',\n",
       "              'marker': {'color': 'black'},\n",
       "              'mode': 'markers',\n",
       "              'showlegend': False,\n",
       "              'text': [chain_index, chain_seeds, chain_g, all_g, g, all_x, x],\n",
       "              'type': 'scatter',\n",
       "              'uid': '18036c5d-cad8-442d-9be2-53f9b269fb18',\n",
       "              'x': [8.875, 9.0, 9.125, 8.85, 8.95, 9.05, 9.15],\n",
       "              'y': [-2.875, -2.875, -2.875, -3.125, -3.125, -3.125, -3.125]},\n",
       "             {'legendgroup': 'x',\n",
       "              'line': {'color': 'gray'},\n",
       "              'mode': 'lines',\n",
       "              'name': 'x',\n",
       "              'showlegend': False,\n",
       "              'type': 'scatter',\n",
       "              'uid': '29d28c64-c1f9-450c-ac7f-0866c71f6ee8',\n",
       "              'x': [0.15000000000000002, 0.0],\n",
       "              'y': [-3.125, -3.875]},\n",
       "             {'hoverinfo': 'text',\n",
       "              'marker': {'color': 'black'},\n",
       "              'mode': 'markers',\n",
       "              'showlegend': False,\n",
       "              'text': [x, x],\n",
       "              'type': 'scatter',\n",
       "              'uid': 'cddbb487-d19b-4c64-a028-d464dd12c2c1',\n",
       "              'x': [0.0, 0.0],\n",
       "              'y': [-3.875, -4.125]},\n",
       "             {'legendgroup': 'x',\n",
       "              'line': {'color': 'gray'},\n",
       "              'mode': 'lines',\n",
       "              'name': 'x',\n",
       "              'showlegend': False,\n",
       "              'type': 'scatter',\n",
       "              'uid': 'b0853190-d39d-4f87-94a7-a074332ce8ae',\n",
       "              'x': [1.15, 1.0],\n",
       "              'y': [-3.125, -3.875]},\n",
       "             {'hoverinfo': 'text',\n",
       "              'marker': {'color': 'black'},\n",
       "              'mode': 'markers',\n",
       "              'showlegend': False,\n",
       "              'text': [x, x],\n",
       "              'type': 'scatter',\n",
       "              'uid': '3be82cbe-08d8-467b-92cc-211c9aa3ab76',\n",
       "              'x': [1.0, 1.0],\n",
       "              'y': [-3.875, -4.125]},\n",
       "             {'legendgroup': 'x',\n",
       "              'line': {'color': 'gray'},\n",
       "              'mode': 'lines',\n",
       "              'name': 'x',\n",
       "              'showlegend': False,\n",
       "              'type': 'scatter',\n",
       "              'uid': '6c274d31-78b8-4843-b195-e64cd0e04658',\n",
       "              'x': [2.15, 2.0],\n",
       "              'y': [-3.125, -3.875]},\n",
       "             {'hoverinfo': 'text',\n",
       "              'marker': {'color': 'black'},\n",
       "              'mode': 'markers',\n",
       "              'showlegend': False,\n",
       "              'text': [x, x],\n",
       "              'type': 'scatter',\n",
       "              'uid': '65a399c3-d0cb-4d3b-b359-23807b374717',\n",
       "              'x': [2.0, 2.0],\n",
       "              'y': [-3.875, -4.125]},\n",
       "             {'legendgroup': 'x',\n",
       "              'line': {'color': 'gray'},\n",
       "              'mode': 'lines',\n",
       "              'name': 'x',\n",
       "              'showlegend': False,\n",
       "              'type': 'scatter',\n",
       "              'uid': 'bb73127e-661b-4c1a-a61d-68ded99ab998',\n",
       "              'x': [3.15, 3.0],\n",
       "              'y': [-3.125, -3.875]},\n",
       "             {'hoverinfo': 'text',\n",
       "              'marker': {'color': 'black'},\n",
       "              'mode': 'markers',\n",
       "              'showlegend': False,\n",
       "              'text': [x, x],\n",
       "              'type': 'scatter',\n",
       "              'uid': '58f10039-57bd-4e7a-8cfc-a67b2fff2f16',\n",
       "              'x': [3.0, 3.0],\n",
       "              'y': [-3.875, -4.125]},\n",
       "             {'legendgroup': 'x',\n",
       "              'line': {'color': 'gray'},\n",
       "              'mode': 'lines',\n",
       "              'name': 'x',\n",
       "              'showlegend': False,\n",
       "              'type': 'scatter',\n",
       "              'uid': 'fa0fa9ba-d764-41fd-9d6c-5464d1dc3495',\n",
       "              'x': [4.15, 4.0],\n",
       "              'y': [-3.125, -3.875]},\n",
       "             {'hoverinfo': 'text',\n",
       "              'marker': {'color': 'black'},\n",
       "              'mode': 'markers',\n",
       "              'showlegend': False,\n",
       "              'text': [x, x],\n",
       "              'type': 'scatter',\n",
       "              'uid': 'e3397591-88e5-42b3-b5ea-afd1de4b2d0d',\n",
       "              'x': [4.0, 4.0],\n",
       "              'y': [-3.875, -4.125]},\n",
       "             {'legendgroup': 'x',\n",
       "              'line': {'color': 'gray'},\n",
       "              'mode': 'lines',\n",
       "              'name': 'x',\n",
       "              'showlegend': False,\n",
       "              'type': 'scatter',\n",
       "              'uid': 'cadc6815-bddb-4270-92d8-e03c5f70966f',\n",
       "              'x': [5.15, 5.0],\n",
       "              'y': [-3.125, -3.875]},\n",
       "             {'hoverinfo': 'text',\n",
       "              'marker': {'color': 'black'},\n",
       "              'mode': 'markers',\n",
       "              'showlegend': False,\n",
       "              'text': [x, x],\n",
       "              'type': 'scatter',\n",
       "              'uid': 'bf4459d2-2c3f-449d-9cda-8b34f7ebd019',\n",
       "              'x': [5.0, 5.0],\n",
       "              'y': [-3.875, -4.125]},\n",
       "             {'legendgroup': 'x',\n",
       "              'line': {'color': 'gray'},\n",
       "              'mode': 'lines',\n",
       "              'name': 'x',\n",
       "              'showlegend': False,\n",
       "              'type': 'scatter',\n",
       "              'uid': '2226aaa1-484e-49d6-847e-a10125c86ec3',\n",
       "              'x': [6.15, 6.0],\n",
       "              'y': [-3.125, -3.875]},\n",
       "             {'hoverinfo': 'text',\n",
       "              'marker': {'color': 'black'},\n",
       "              'mode': 'markers',\n",
       "              'showlegend': False,\n",
       "              'text': [x, x],\n",
       "              'type': 'scatter',\n",
       "              'uid': 'bbaa61a7-db2d-4a64-94ed-ce7c88da6e32',\n",
       "              'x': [6.0, 6.0],\n",
       "              'y': [-3.875, -4.125]},\n",
       "             {'legendgroup': 'x',\n",
       "              'line': {'color': 'gray'},\n",
       "              'mode': 'lines',\n",
       "              'name': 'x',\n",
       "              'showlegend': False,\n",
       "              'type': 'scatter',\n",
       "              'uid': '841defdd-3923-4a80-b237-e2912c5344d8',\n",
       "              'x': [7.15, 7.0],\n",
       "              'y': [-3.125, -3.875]},\n",
       "             {'hoverinfo': 'text',\n",
       "              'marker': {'color': 'black'},\n",
       "              'mode': 'markers',\n",
       "              'showlegend': False,\n",
       "              'text': [x, x],\n",
       "              'type': 'scatter',\n",
       "              'uid': '14d3998f-f2c2-4fab-aafd-193942559f24',\n",
       "              'x': [7.0, 7.0],\n",
       "              'y': [-3.875, -4.125]},\n",
       "             {'legendgroup': 'x',\n",
       "              'line': {'color': 'gray'},\n",
       "              'mode': 'lines',\n",
       "              'name': 'x',\n",
       "              'showlegend': False,\n",
       "              'type': 'scatter',\n",
       "              'uid': '045c809e-e9bb-483b-b059-e7f5b1587c92',\n",
       "              'x': [8.15, 8.0],\n",
       "              'y': [-3.125, -3.875]},\n",
       "             {'hoverinfo': 'text',\n",
       "              'marker': {'color': 'black'},\n",
       "              'mode': 'markers',\n",
       "              'showlegend': False,\n",
       "              'text': [x, x],\n",
       "              'type': 'scatter',\n",
       "              'uid': '72f942e8-b50b-4746-af47-56a38fbb7815',\n",
       "              'x': [8.0, 8.0],\n",
       "              'y': [-3.875, -4.125]},\n",
       "             {'legendgroup': 'x',\n",
       "              'line': {'color': 'gray'},\n",
       "              'mode': 'lines',\n",
       "              'name': 'x',\n",
       "              'showlegend': False,\n",
       "              'type': 'scatter',\n",
       "              'uid': 'f2ac9748-914f-4615-ac6e-c885da38b803',\n",
       "              'x': [9.15, 9.0],\n",
       "              'y': [-3.125, -3.875]},\n",
       "             {'hoverinfo': 'text',\n",
       "              'marker': {'color': 'black'},\n",
       "              'mode': 'markers',\n",
       "              'showlegend': False,\n",
       "              'text': [x, x],\n",
       "              'type': 'scatter',\n",
       "              'uid': 'c9ee88a4-ccb9-403b-8dc8-2fc3e41d05ff',\n",
       "              'x': [9.0, 9.0],\n",
       "              'y': [-3.875, -4.125]},\n",
       "             {'legendgroup': 'x',\n",
       "              'line': {'color': 'gray'},\n",
       "              'mode': 'lines',\n",
       "              'name': 'x',\n",
       "              'showlegend': False,\n",
       "              'type': 'scatter',\n",
       "              'uid': '4b879c69-5e7d-4f56-9b95-4e5816c93204',\n",
       "              'x': [0.0, 0.0],\n",
       "              'y': [-4.125, -4.875]},\n",
       "             {'hoverinfo': 'text',\n",
       "              'marker': {'color': 'black'},\n",
       "              'mode': 'markers',\n",
       "              'showlegend': False,\n",
       "              'text': [x, g],\n",
       "              'type': 'scatter',\n",
       "              'uid': '8fb8c8ba-b36b-4f97-8090-9cf1a6e6397d',\n",
       "              'x': [0.0, 0.0],\n",
       "              'y': [-4.875, -5.125]},\n",
       "             {'legendgroup': 'x',\n",
       "              'line': {'color': 'gray'},\n",
       "              'mode': 'lines',\n",
       "              'name': 'x',\n",
       "              'showlegend': False,\n",
       "              'type': 'scatter',\n",
       "              'uid': 'dd44a536-5558-4fc7-a28c-1870dcd49725',\n",
       "              'x': [1.0, 1.0],\n",
       "              'y': [-4.125, -4.875]},\n",
       "             {'hoverinfo': 'text',\n",
       "              'marker': {'color': 'black'},\n",
       "              'mode': 'markers',\n",
       "              'showlegend': False,\n",
       "              'text': [x, g],\n",
       "              'type': 'scatter',\n",
       "              'uid': '19cc5fc6-d17a-429e-8243-57892d3f2d62',\n",
       "              'x': [1.0, 1.0],\n",
       "              'y': [-4.875, -5.125]},\n",
       "             {'legendgroup': 'x',\n",
       "              'line': {'color': 'gray'},\n",
       "              'mode': 'lines',\n",
       "              'name': 'x',\n",
       "              'showlegend': False,\n",
       "              'type': 'scatter',\n",
       "              'uid': '91ed0e0f-3cd6-4902-9b6f-ff7aa0103f8b',\n",
       "              'x': [2.0, 2.0],\n",
       "              'y': [-4.125, -4.875]},\n",
       "             {'hoverinfo': 'text',\n",
       "              'marker': {'color': 'black'},\n",
       "              'mode': 'markers',\n",
       "              'showlegend': False,\n",
       "              'text': [x, g],\n",
       "              'type': 'scatter',\n",
       "              'uid': 'ccb8a030-90f0-456a-be99-476c3d5e7b99',\n",
       "              'x': [2.0, 2.0],\n",
       "              'y': [-4.875, -5.125]},\n",
       "             {'legendgroup': 'x',\n",
       "              'line': {'color': 'gray'},\n",
       "              'mode': 'lines',\n",
       "              'name': 'x',\n",
       "              'showlegend': False,\n",
       "              'type': 'scatter',\n",
       "              'uid': '10f3400e-a3c0-4a0d-a8b9-80a34943a69e',\n",
       "              'x': [3.0, 3.0],\n",
       "              'y': [-4.125, -4.875]},\n",
       "             {'hoverinfo': 'text',\n",
       "              'marker': {'color': 'black'},\n",
       "              'mode': 'markers',\n",
       "              'showlegend': False,\n",
       "              'text': [x, g],\n",
       "              'type': 'scatter',\n",
       "              'uid': '81555edf-3b52-47a0-8b4d-9644e949bf8b',\n",
       "              'x': [3.0, 3.0],\n",
       "              'y': [-4.875, -5.125]},\n",
       "             {'legendgroup': 'x',\n",
       "              'line': {'color': 'gray'},\n",
       "              'mode': 'lines',\n",
       "              'name': 'x',\n",
       "              'showlegend': False,\n",
       "              'type': 'scatter',\n",
       "              'uid': 'bfafae45-87c1-4550-a192-2cdde70de3bb',\n",
       "              'x': [4.0, 4.0],\n",
       "              'y': [-4.125, -4.875]},\n",
       "             {'hoverinfo': 'text',\n",
       "              'marker': {'color': 'black'},\n",
       "              'mode': 'markers',\n",
       "              'showlegend': False,\n",
       "              'text': [x, g],\n",
       "              'type': 'scatter',\n",
       "              'uid': 'c0d14bca-dbf5-47c6-8244-8e9101f4cc4c',\n",
       "              'x': [4.0, 4.0],\n",
       "              'y': [-4.875, -5.125]},\n",
       "             {'legendgroup': 'x',\n",
       "              'line': {'color': 'gray'},\n",
       "              'mode': 'lines',\n",
       "              'name': 'x',\n",
       "              'showlegend': False,\n",
       "              'type': 'scatter',\n",
       "              'uid': 'a3644ccb-9ade-49a8-b769-839a43b86623',\n",
       "              'x': [5.0, 5.0],\n",
       "              'y': [-4.125, -4.875]},\n",
       "             {'hoverinfo': 'text',\n",
       "              'marker': {'color': 'black'},\n",
       "              'mode': 'markers',\n",
       "              'showlegend': False,\n",
       "              'text': [x, g],\n",
       "              'type': 'scatter',\n",
       "              'uid': '5ac7f3cd-7ea3-4a9f-9012-37ae03c17073',\n",
       "              'x': [5.0, 5.0],\n",
       "              'y': [-4.875, -5.125]},\n",
       "             {'legendgroup': 'x',\n",
       "              'line': {'color': 'gray'},\n",
       "              'mode': 'lines',\n",
       "              'name': 'x',\n",
       "              'showlegend': False,\n",
       "              'type': 'scatter',\n",
       "              'uid': '906e3be7-94ba-4492-9435-7505c41e5722',\n",
       "              'x': [6.0, 6.0],\n",
       "              'y': [-4.125, -4.875]},\n",
       "             {'hoverinfo': 'text',\n",
       "              'marker': {'color': 'black'},\n",
       "              'mode': 'markers',\n",
       "              'showlegend': False,\n",
       "              'text': [x, g],\n",
       "              'type': 'scatter',\n",
       "              'uid': '57a69a7b-0247-4bbe-b40e-c2b9f2587365',\n",
       "              'x': [6.0, 6.0],\n",
       "              'y': [-4.875, -5.125]},\n",
       "             {'legendgroup': 'x',\n",
       "              'line': {'color': 'gray'},\n",
       "              'mode': 'lines',\n",
       "              'name': 'x',\n",
       "              'showlegend': False,\n",
       "              'type': 'scatter',\n",
       "              'uid': '4a372d32-8d8e-445e-91a6-12c5d8427987',\n",
       "              'x': [7.0, 7.0],\n",
       "              'y': [-4.125, -4.875]},\n",
       "             {'hoverinfo': 'text',\n",
       "              'marker': {'color': 'black'},\n",
       "              'mode': 'markers',\n",
       "              'showlegend': False,\n",
       "              'text': [x, g],\n",
       "              'type': 'scatter',\n",
       "              'uid': '7e0488c2-17dc-4bda-9fe4-9aeda592101d',\n",
       "              'x': [7.0, 7.0],\n",
       "              'y': [-4.875, -5.125]},\n",
       "             {'legendgroup': 'x',\n",
       "              'line': {'color': 'gray'},\n",
       "              'mode': 'lines',\n",
       "              'name': 'x',\n",
       "              'showlegend': False,\n",
       "              'type': 'scatter',\n",
       "              'uid': 'd4361315-c53c-4509-afcd-21da6a772bdc',\n",
       "              'x': [8.0, 8.0],\n",
       "              'y': [-4.125, -4.875]},\n",
       "             {'hoverinfo': 'text',\n",
       "              'marker': {'color': 'black'},\n",
       "              'mode': 'markers',\n",
       "              'showlegend': False,\n",
       "              'text': [x, g],\n",
       "              'type': 'scatter',\n",
       "              'uid': '8798cbb6-566e-4df1-a227-8eda3ebb7f38',\n",
       "              'x': [8.0, 8.0],\n",
       "              'y': [-4.875, -5.125]},\n",
       "             {'legendgroup': 'x',\n",
       "              'line': {'color': 'gray'},\n",
       "              'mode': 'lines',\n",
       "              'name': 'x',\n",
       "              'showlegend': False,\n",
       "              'type': 'scatter',\n",
       "              'uid': '1c97cbc5-0b28-4680-b914-8106952f5f8c',\n",
       "              'x': [9.0, 9.0],\n",
       "              'y': [-4.125, -4.875]},\n",
       "             {'hoverinfo': 'text',\n",
       "              'marker': {'color': 'black'},\n",
       "              'mode': 'markers',\n",
       "              'showlegend': False,\n",
       "              'text': [x, g],\n",
       "              'type': 'scatter',\n",
       "              'uid': '4f787ada-6b51-4da1-8e86-26264cc52dcc',\n",
       "              'x': [9.0, 9.0],\n",
       "              'y': [-4.875, -5.125]},\n",
       "             {'legendgroup': 'all_g',\n",
       "              'line': {'color': 'gray'},\n",
       "              'mode': 'lines',\n",
       "              'name': 'all_g',\n",
       "              'showlegend': True,\n",
       "              'type': 'scatter',\n",
       "              'uid': '4adcc37b-e989-40e6-b7ea-10a612b86478',\n",
       "              'x': [-0.15, -0.16666666666666669],\n",
       "              'y': [-3.125, -5.875]},\n",
       "             {'legendgroup': 'threshold',\n",
       "              'line': {'color': 'gray'},\n",
       "              'mode': 'lines',\n",
       "              'name': 'threshold',\n",
       "              'showlegend': True,\n",
       "              'type': 'scatter',\n",
       "              'uid': '61f7edbe-fb6b-4dac-8ece-6a3888057780',\n",
       "              'x': [0.1071428571428571, 0.08333333333333331],\n",
       "              'y': [-2.125, -5.875]},\n",
       "             {'legendgroup': 'all_x',\n",
       "              'line': {'color': 'gray'},\n",
       "              'mode': 'lines',\n",
       "              'name': 'all_x',\n",
       "              'showlegend': True,\n",
       "              'type': 'scatter',\n",
       "              'uid': '6c064e6b-ddc8-4918-aed4-d2004d160543',\n",
       "              'x': [0.050000000000000044, 0.0],\n",
       "              'y': [-3.125, -5.875]},\n",
       "             {'legendgroup': 'x',\n",
       "              'line': {'color': 'gray'},\n",
       "              'mode': 'lines',\n",
       "              'name': 'x',\n",
       "              'showlegend': False,\n",
       "              'type': 'scatter',\n",
       "              'uid': 'a8337136-ec4e-4ce3-83fc-ffffc79f73db',\n",
       "              'x': [0.0, -0.08333333333333334],\n",
       "              'y': [-4.125, -5.875]},\n",
       "             {'legendgroup': 'g',\n",
       "              'line': {'color': 'gray'},\n",
       "              'mode': 'lines',\n",
       "              'name': 'g',\n",
       "              'showlegend': False,\n",
       "              'type': 'scatter',\n",
       "              'uid': 'befa413e-d2d0-44a0-a028-22363297587b',\n",
       "              'x': [0.0, 0.16666666666666663],\n",
       "              'y': [-5.125, -5.875]},\n",
       "             {'hoverinfo': 'text',\n",
       "              'marker': {'color': 'black'},\n",
       "              'mode': 'markers',\n",
       "              'showlegend': False,\n",
       "              'text': [all_g, x, all_x, threshold, g, all_g, g, all_x, x],\n",
       "              'type': 'scatter',\n",
       "              'uid': 'a524911e-07be-4d96-b4af-13947a9f5c66',\n",
       "              'x': [-0.16666666666666669, -0.08333333333333334, 0.0,\n",
       "                    0.08333333333333331, 0.16666666666666663, -0.15,\n",
       "                    -0.04999999999999999, 0.050000000000000044,\n",
       "                    0.15000000000000002],\n",
       "              'y': [-5.875, -5.875, -5.875, -5.875, -5.875, -6.125, -6.125,\n",
       "                    -6.125, -6.125]},\n",
       "             {'legendgroup': 'all_g',\n",
       "              'line': {'color': 'gray'},\n",
       "              'mode': 'lines',\n",
       "              'name': 'all_g',\n",
       "              'showlegend': False,\n",
       "              'type': 'scatter',\n",
       "              'uid': 'a38f81dc-e625-49f0-8b9d-e33966b79f74',\n",
       "              'x': [0.85, 0.8333333333333334],\n",
       "              'y': [-3.125, -5.875]},\n",
       "             {'legendgroup': 'threshold',\n",
       "              'line': {'color': 'gray'},\n",
       "              'mode': 'lines',\n",
       "              'name': 'threshold',\n",
       "              'showlegend': False,\n",
       "              'type': 'scatter',\n",
       "              'uid': '7316ec55-95b6-4284-ad22-681b15921bb8',\n",
       "              'x': [0.1071428571428571, 1.0833333333333333],\n",
       "              'y': [-2.125, -5.875]},\n",
       "             {'legendgroup': 'all_x',\n",
       "              'line': {'color': 'gray'},\n",
       "              'mode': 'lines',\n",
       "              'name': 'all_x',\n",
       "              'showlegend': False,\n",
       "              'type': 'scatter',\n",
       "              'uid': 'b3f4a233-dff4-4422-a912-fdb8b5ceb8ad',\n",
       "              'x': [1.05, 1.0],\n",
       "              'y': [-3.125, -5.875]},\n",
       "             {'legendgroup': 'x',\n",
       "              'line': {'color': 'gray'},\n",
       "              'mode': 'lines',\n",
       "              'name': 'x',\n",
       "              'showlegend': False,\n",
       "              'type': 'scatter',\n",
       "              'uid': 'c9e277b2-a9d9-4ac1-b639-72aedb5f4c06',\n",
       "              'x': [1.0, 0.9166666666666666],\n",
       "              'y': [-4.125, -5.875]},\n",
       "             {'legendgroup': 'g',\n",
       "              'line': {'color': 'gray'},\n",
       "              'mode': 'lines',\n",
       "              'name': 'g',\n",
       "              'showlegend': False,\n",
       "              'type': 'scatter',\n",
       "              'uid': 'd82dee9a-2e21-45b8-bfc4-b22422199156',\n",
       "              'x': [1.0, 1.1666666666666665],\n",
       "              'y': [-5.125, -5.875]},\n",
       "             {'hoverinfo': 'text',\n",
       "              'marker': {'color': 'black'},\n",
       "              'mode': 'markers',\n",
       "              'showlegend': False,\n",
       "              'text': [all_g, x, all_x, threshold, g, all_g, g, all_x, x],\n",
       "              'type': 'scatter',\n",
       "              'uid': '64ee9609-4de2-444d-9229-a084cac18d5f',\n",
       "              'x': [0.8333333333333334, 0.9166666666666666, 1.0,\n",
       "                    1.0833333333333333, 1.1666666666666665, 0.85, 0.95, 1.05, 1.15],\n",
       "              'y': [-5.875, -5.875, -5.875, -5.875, -5.875, -6.125, -6.125,\n",
       "                    -6.125, -6.125]},\n",
       "             {'legendgroup': 'all_g',\n",
       "              'line': {'color': 'gray'},\n",
       "              'mode': 'lines',\n",
       "              'name': 'all_g',\n",
       "              'showlegend': False,\n",
       "              'type': 'scatter',\n",
       "              'uid': '99b07710-d59d-493c-9805-d01640e5c071',\n",
       "              'x': [1.85, 1.8333333333333333],\n",
       "              'y': [-3.125, -5.875]},\n",
       "             {'legendgroup': 'threshold',\n",
       "              'line': {'color': 'gray'},\n",
       "              'mode': 'lines',\n",
       "              'name': 'threshold',\n",
       "              'showlegend': False,\n",
       "              'type': 'scatter',\n",
       "              'uid': 'cf014d2e-a2de-4760-8c31-1ccab47d728f',\n",
       "              'x': [0.1071428571428571, 2.0833333333333335],\n",
       "              'y': [-2.125, -5.875]},\n",
       "             {'legendgroup': 'all_x',\n",
       "              'line': {'color': 'gray'},\n",
       "              'mode': 'lines',\n",
       "              'name': 'all_x',\n",
       "              'showlegend': False,\n",
       "              'type': 'scatter',\n",
       "              'uid': 'd29af76e-663f-4935-bab0-2f03010b77ea',\n",
       "              'x': [2.05, 2.0],\n",
       "              'y': [-3.125, -5.875]},\n",
       "             {'legendgroup': 'x',\n",
       "              'line': {'color': 'gray'},\n",
       "              'mode': 'lines',\n",
       "              'name': 'x',\n",
       "              'showlegend': False,\n",
       "              'type': 'scatter',\n",
       "              'uid': '2ba39ec0-c5e5-461c-81bb-90ee46f7dc4e',\n",
       "              'x': [2.0, 1.9166666666666667],\n",
       "              'y': [-4.125, -5.875]},\n",
       "             {'legendgroup': 'g',\n",
       "              'line': {'color': 'gray'},\n",
       "              'mode': 'lines',\n",
       "              'name': 'g',\n",
       "              'showlegend': False,\n",
       "              'type': 'scatter',\n",
       "              'uid': '2c368c97-1f26-4bae-8623-be1908a1a6d3',\n",
       "              'x': [2.0, 2.1666666666666665],\n",
       "              'y': [-5.125, -5.875]},\n",
       "             {'hoverinfo': 'text',\n",
       "              'marker': {'color': 'black'},\n",
       "              'mode': 'markers',\n",
       "              'showlegend': False,\n",
       "              'text': [all_g, x, all_x, threshold, g, all_g, g, all_x, x],\n",
       "              'type': 'scatter',\n",
       "              'uid': 'd9966751-dc77-4e8b-9a9c-8fb9cf8b9461',\n",
       "              'x': [1.8333333333333333, 1.9166666666666667, 2.0,\n",
       "                    2.0833333333333335, 2.1666666666666665, 1.85, 1.95, 2.05, 2.15],\n",
       "              'y': [-5.875, -5.875, -5.875, -5.875, -5.875, -6.125, -6.125,\n",
       "                    -6.125, -6.125]},\n",
       "             {'legendgroup': 'all_g',\n",
       "              'line': {'color': 'gray'},\n",
       "              'mode': 'lines',\n",
       "              'name': 'all_g',\n",
       "              'showlegend': False,\n",
       "              'type': 'scatter',\n",
       "              'uid': 'fe8f46b6-7755-4ecb-9553-18d757ddc74e',\n",
       "              'x': [2.85, 2.8333333333333335],\n",
       "              'y': [-3.125, -5.875]},\n",
       "             {'legendgroup': 'threshold',\n",
       "              'line': {'color': 'gray'},\n",
       "              'mode': 'lines',\n",
       "              'name': 'threshold',\n",
       "              'showlegend': False,\n",
       "              'type': 'scatter',\n",
       "              'uid': '48fc1da5-a941-441f-831f-d5bbdb4afe82',\n",
       "              'x': [0.1071428571428571, 3.0833333333333335],\n",
       "              'y': [-2.125, -5.875]},\n",
       "             {'legendgroup': 'all_x',\n",
       "              'line': {'color': 'gray'},\n",
       "              'mode': 'lines',\n",
       "              'name': 'all_x',\n",
       "              'showlegend': False,\n",
       "              'type': 'scatter',\n",
       "              'uid': '35caacda-3f96-4127-b49d-079059a09020',\n",
       "              'x': [3.05, 3.0],\n",
       "              'y': [-3.125, -5.875]},\n",
       "             {'legendgroup': 'x',\n",
       "              'line': {'color': 'gray'},\n",
       "              'mode': 'lines',\n",
       "              'name': 'x',\n",
       "              'showlegend': False,\n",
       "              'type': 'scatter',\n",
       "              'uid': '8b552597-57f8-4ae7-b3be-266a5bef7e6a',\n",
       "              'x': [3.0, 2.9166666666666665],\n",
       "              'y': [-4.125, -5.875]},\n",
       "             {'legendgroup': 'g',\n",
       "              'line': {'color': 'gray'},\n",
       "              'mode': 'lines',\n",
       "              'name': 'g',\n",
       "              'showlegend': False,\n",
       "              'type': 'scatter',\n",
       "              'uid': 'e9e5a397-0e1e-420b-a530-2d588aad297f',\n",
       "              'x': [3.0, 3.1666666666666665],\n",
       "              'y': [-5.125, -5.875]},\n",
       "             {'hoverinfo': 'text',\n",
       "              'marker': {'color': 'black'},\n",
       "              'mode': 'markers',\n",
       "              'showlegend': False,\n",
       "              'text': [all_g, x, all_x, threshold, g, all_g, g, all_x, x],\n",
       "              'type': 'scatter',\n",
       "              'uid': '0fb09f6f-50c7-483a-ada2-36e6cadec14b',\n",
       "              'x': [2.8333333333333335, 2.9166666666666665, 3.0,\n",
       "                    3.0833333333333335, 3.1666666666666665, 2.85, 2.95, 3.05, 3.15],\n",
       "              'y': [-5.875, -5.875, -5.875, -5.875, -5.875, -6.125, -6.125,\n",
       "                    -6.125, -6.125]},\n",
       "             {'legendgroup': 'all_g',\n",
       "              'line': {'color': 'gray'},\n",
       "              'mode': 'lines',\n",
       "              'name': 'all_g',\n",
       "              'showlegend': False,\n",
       "              'type': 'scatter',\n",
       "              'uid': '0e9759ba-e82c-4679-b270-5d6daebd1e5a',\n",
       "              'x': [3.85, 3.8333333333333335],\n",
       "              'y': [-3.125, -5.875]},\n",
       "             {'legendgroup': 'threshold',\n",
       "              'line': {'color': 'gray'},\n",
       "              'mode': 'lines',\n",
       "              'name': 'threshold',\n",
       "              'showlegend': False,\n",
       "              'type': 'scatter',\n",
       "              'uid': '3677e70a-7ba9-4b6c-afa0-6abac3627677',\n",
       "              'x': [0.1071428571428571, 4.083333333333333],\n",
       "              'y': [-2.125, -5.875]},\n",
       "             {'legendgroup': 'all_x',\n",
       "              'line': {'color': 'gray'},\n",
       "              'mode': 'lines',\n",
       "              'name': 'all_x',\n",
       "              'showlegend': False,\n",
       "              'type': 'scatter',\n",
       "              'uid': 'fef3f9cd-e377-408d-8066-72ff7fd81dc9',\n",
       "              'x': [4.05, 4.0],\n",
       "              'y': [-3.125, -5.875]},\n",
       "             {'legendgroup': 'x',\n",
       "              'line': {'color': 'gray'},\n",
       "              'mode': 'lines',\n",
       "              'name': 'x',\n",
       "              'showlegend': False,\n",
       "              'type': 'scatter',\n",
       "              'uid': '0480367b-879e-4b8e-8a57-ea101df1a61e',\n",
       "              'x': [4.0, 3.9166666666666665],\n",
       "              'y': [-4.125, -5.875]},\n",
       "             {'legendgroup': 'g',\n",
       "              'line': {'color': 'gray'},\n",
       "              'mode': 'lines',\n",
       "              'name': 'g',\n",
       "              'showlegend': False,\n",
       "              'type': 'scatter',\n",
       "              'uid': '830a6fa6-aa00-4b19-bc6b-a79fd3beba5d',\n",
       "              'x': [4.0, 4.166666666666667],\n",
       "              'y': [-5.125, -5.875]},\n",
       "             {'hoverinfo': 'text',\n",
       "              'marker': {'color': 'black'},\n",
       "              'mode': 'markers',\n",
       "              'showlegend': False,\n",
       "              'text': [all_g, x, all_x, threshold, g, all_g, g, all_x, x],\n",
       "              'type': 'scatter',\n",
       "              'uid': 'b6c2b4e2-b9fa-497e-b0bc-58ef67a7fa3c',\n",
       "              'x': [3.8333333333333335, 3.9166666666666665, 4.0,\n",
       "                    4.083333333333333, 4.166666666666667, 3.85, 3.95, 4.05, 4.15],\n",
       "              'y': [-5.875, -5.875, -5.875, -5.875, -5.875, -6.125, -6.125,\n",
       "                    -6.125, -6.125]},\n",
       "             {'legendgroup': 'all_g',\n",
       "              'line': {'color': 'gray'},\n",
       "              'mode': 'lines',\n",
       "              'name': 'all_g',\n",
       "              'showlegend': False,\n",
       "              'type': 'scatter',\n",
       "              'uid': '3691e8ed-405f-4a82-92a8-7ae9de612737',\n",
       "              'x': [4.85, 4.833333333333333],\n",
       "              'y': [-3.125, -5.875]},\n",
       "             {'legendgroup': 'threshold',\n",
       "              'line': {'color': 'gray'},\n",
       "              'mode': 'lines',\n",
       "              'name': 'threshold',\n",
       "              'showlegend': False,\n",
       "              'type': 'scatter',\n",
       "              'uid': '13474a1e-92e0-48d2-9b62-eff53161fd79',\n",
       "              'x': [0.1071428571428571, 5.083333333333333],\n",
       "              'y': [-2.125, -5.875]},\n",
       "             {'legendgroup': 'all_x',\n",
       "              'line': {'color': 'gray'},\n",
       "              'mode': 'lines',\n",
       "              'name': 'all_x',\n",
       "              'showlegend': False,\n",
       "              'type': 'scatter',\n",
       "              'uid': '2f0cdd15-b5bd-4bc4-9578-50475b0207d3',\n",
       "              'x': [5.05, 5.0],\n",
       "              'y': [-3.125, -5.875]},\n",
       "             {'legendgroup': 'x',\n",
       "              'line': {'color': 'gray'},\n",
       "              'mode': 'lines',\n",
       "              'name': 'x',\n",
       "              'showlegend': False,\n",
       "              'type': 'scatter',\n",
       "              'uid': '47391e56-a83b-441f-896e-87ea90b9ddc3',\n",
       "              'x': [5.0, 4.916666666666667],\n",
       "              'y': [-4.125, -5.875]},\n",
       "             {'legendgroup': 'g',\n",
       "              'line': {'color': 'gray'},\n",
       "              'mode': 'lines',\n",
       "              'name': 'g',\n",
       "              'showlegend': False,\n",
       "              'type': 'scatter',\n",
       "              'uid': '325d5870-666e-454d-a883-757ab3797361',\n",
       "              'x': [5.0, 5.166666666666667],\n",
       "              'y': [-5.125, -5.875]},\n",
       "             {'hoverinfo': 'text',\n",
       "              'marker': {'color': 'black'},\n",
       "              'mode': 'markers',\n",
       "              'showlegend': False,\n",
       "              'text': [all_g, x, all_x, threshold, g, all_g, g, all_x, x],\n",
       "              'type': 'scatter',\n",
       "              'uid': '215b6df3-ac8f-4917-aba0-dbded705b2a9',\n",
       "              'x': [4.833333333333333, 4.916666666666667, 5.0, 5.083333333333333,\n",
       "                    5.166666666666667, 4.85, 4.95, 5.05, 5.15],\n",
       "              'y': [-5.875, -5.875, -5.875, -5.875, -5.875, -6.125, -6.125,\n",
       "                    -6.125, -6.125]},\n",
       "             {'legendgroup': 'all_g',\n",
       "              'line': {'color': 'gray'},\n",
       "              'mode': 'lines',\n",
       "              'name': 'all_g',\n",
       "              'showlegend': False,\n",
       "              'type': 'scatter',\n",
       "              'uid': '0a8f7422-93a2-4877-bf5f-98582d3ccd7a',\n",
       "              'x': [5.85, 5.833333333333333],\n",
       "              'y': [-3.125, -5.875]},\n",
       "             {'legendgroup': 'threshold',\n",
       "              'line': {'color': 'gray'},\n",
       "              'mode': 'lines',\n",
       "              'name': 'threshold',\n",
       "              'showlegend': False,\n",
       "              'type': 'scatter',\n",
       "              'uid': '5034f1f9-c543-45ae-9c4c-2f22cbab6b16',\n",
       "              'x': [0.1071428571428571, 6.083333333333333],\n",
       "              'y': [-2.125, -5.875]},\n",
       "             {'legendgroup': 'all_x',\n",
       "              'line': {'color': 'gray'},\n",
       "              'mode': 'lines',\n",
       "              'name': 'all_x',\n",
       "              'showlegend': False,\n",
       "              'type': 'scatter',\n",
       "              'uid': '7df73a35-3675-4628-a7c8-c4702bf020ed',\n",
       "              'x': [6.05, 6.0],\n",
       "              'y': [-3.125, -5.875]},\n",
       "             {'legendgroup': 'x',\n",
       "              'line': {'color': 'gray'},\n",
       "              'mode': 'lines',\n",
       "              'name': 'x',\n",
       "              'showlegend': False,\n",
       "              'type': 'scatter',\n",
       "              'uid': '5b808a97-cbb7-4c90-8f2f-240373f2105e',\n",
       "              'x': [6.0, 5.916666666666667],\n",
       "              'y': [-4.125, -5.875]},\n",
       "             {'legendgroup': 'g',\n",
       "              'line': {'color': 'gray'},\n",
       "              'mode': 'lines',\n",
       "              'name': 'g',\n",
       "              'showlegend': False,\n",
       "              'type': 'scatter',\n",
       "              'uid': '4e0b7f73-3ab6-4e82-bb74-e5d8ebdcaf63',\n",
       "              'x': [6.0, 6.166666666666667],\n",
       "              'y': [-5.125, -5.875]},\n",
       "             {'hoverinfo': 'text',\n",
       "              'marker': {'color': 'black'},\n",
       "              'mode': 'markers',\n",
       "              'showlegend': False,\n",
       "              'text': [all_g, x, all_x, threshold, g, all_g, g, all_x, x],\n",
       "              'type': 'scatter',\n",
       "              'uid': 'ef37e9e4-b2d5-4467-8f2d-002d2577e080',\n",
       "              'x': [5.833333333333333, 5.916666666666667, 6.0, 6.083333333333333,\n",
       "                    6.166666666666667, 5.85, 5.95, 6.05, 6.15],\n",
       "              'y': [-5.875, -5.875, -5.875, -5.875, -5.875, -6.125, -6.125,\n",
       "                    -6.125, -6.125]},\n",
       "             {'legendgroup': 'all_g',\n",
       "              'line': {'color': 'gray'},\n",
       "              'mode': 'lines',\n",
       "              'name': 'all_g',\n",
       "              'showlegend': False,\n",
       "              'type': 'scatter',\n",
       "              'uid': '190acdf6-c1d1-405f-975e-67c38dd74c5f',\n",
       "              'x': [6.85, 6.833333333333333],\n",
       "              'y': [-3.125, -5.875]},\n",
       "             {'legendgroup': 'threshold',\n",
       "              'line': {'color': 'gray'},\n",
       "              'mode': 'lines',\n",
       "              'name': 'threshold',\n",
       "              'showlegend': False,\n",
       "              'type': 'scatter',\n",
       "              'uid': '69ad40ae-a0c5-4dce-a907-1113675f9f41',\n",
       "              'x': [0.1071428571428571, 7.083333333333333],\n",
       "              'y': [-2.125, -5.875]},\n",
       "             {'legendgroup': 'all_x',\n",
       "              'line': {'color': 'gray'},\n",
       "              'mode': 'lines',\n",
       "              'name': 'all_x',\n",
       "              'showlegend': False,\n",
       "              'type': 'scatter',\n",
       "              'uid': 'a8e0d4fa-76a9-4da7-9e8b-aeb6af8b4eea',\n",
       "              'x': [7.05, 7.0],\n",
       "              'y': [-3.125, -5.875]},\n",
       "             {'legendgroup': 'x',\n",
       "              'line': {'color': 'gray'},\n",
       "              'mode': 'lines',\n",
       "              'name': 'x',\n",
       "              'showlegend': False,\n",
       "              'type': 'scatter',\n",
       "              'uid': '8ee7317b-4701-4f55-a349-279b15c9e6b4',\n",
       "              'x': [7.0, 6.916666666666667],\n",
       "              'y': [-4.125, -5.875]},\n",
       "             {'legendgroup': 'g',\n",
       "              'line': {'color': 'gray'},\n",
       "              'mode': 'lines',\n",
       "              'name': 'g',\n",
       "              'showlegend': False,\n",
       "              'type': 'scatter',\n",
       "              'uid': '58c96f67-cc90-4d1a-bb1f-6902472b9742',\n",
       "              'x': [7.0, 7.166666666666667],\n",
       "              'y': [-5.125, -5.875]},\n",
       "             {'hoverinfo': 'text',\n",
       "              'marker': {'color': 'black'},\n",
       "              'mode': 'markers',\n",
       "              'showlegend': False,\n",
       "              'text': [all_g, x, all_x, threshold, g, all_g, g, all_x, x],\n",
       "              'type': 'scatter',\n",
       "              'uid': 'd0cc346a-1ad7-42e1-b20c-0b2dedc0af84',\n",
       "              'x': [6.833333333333333, 6.916666666666667, 7.0, 7.083333333333333,\n",
       "                    7.166666666666667, 6.85, 6.95, 7.05, 7.15],\n",
       "              'y': [-5.875, -5.875, -5.875, -5.875, -5.875, -6.125, -6.125,\n",
       "                    -6.125, -6.125]},\n",
       "             {'legendgroup': 'all_g',\n",
       "              'line': {'color': 'gray'},\n",
       "              'mode': 'lines',\n",
       "              'name': 'all_g',\n",
       "              'showlegend': False,\n",
       "              'type': 'scatter',\n",
       "              'uid': 'f52b581a-2a37-4c66-bcac-1de65c9be0e1',\n",
       "              'x': [7.85, 7.833333333333333],\n",
       "              'y': [-3.125, -5.875]},\n",
       "             {'legendgroup': 'threshold',\n",
       "              'line': {'color': 'gray'},\n",
       "              'mode': 'lines',\n",
       "              'name': 'threshold',\n",
       "              'showlegend': False,\n",
       "              'type': 'scatter',\n",
       "              'uid': '72e7452b-5c9d-403e-92a9-1ea2c8ba25fc',\n",
       "              'x': [0.1071428571428571, 8.083333333333334],\n",
       "              'y': [-2.125, -5.875]},\n",
       "             {'legendgroup': 'all_x',\n",
       "              'line': {'color': 'gray'},\n",
       "              'mode': 'lines',\n",
       "              'name': 'all_x',\n",
       "              'showlegend': False,\n",
       "              'type': 'scatter',\n",
       "              'uid': 'd7bb1fca-7f3d-4867-b113-6f426336d251',\n",
       "              'x': [8.05, 8.0],\n",
       "              'y': [-3.125, -5.875]},\n",
       "             {'legendgroup': 'x',\n",
       "              'line': {'color': 'gray'},\n",
       "              'mode': 'lines',\n",
       "              'name': 'x',\n",
       "              'showlegend': False,\n",
       "              'type': 'scatter',\n",
       "              'uid': '76a56a5a-3ad7-43e9-ac71-67032ca93311',\n",
       "              'x': [8.0, 7.916666666666667],\n",
       "              'y': [-4.125, -5.875]},\n",
       "             {'legendgroup': 'g',\n",
       "              'line': {'color': 'gray'},\n",
       "              'mode': 'lines',\n",
       "              'name': 'g',\n",
       "              'showlegend': False,\n",
       "              'type': 'scatter',\n",
       "              'uid': '85a001f5-101f-46bf-a4d6-bbf65d41d4dd',\n",
       "              'x': [8.0, 8.166666666666666],\n",
       "              'y': [-5.125, -5.875]},\n",
       "             {'hoverinfo': 'text',\n",
       "              'marker': {'color': 'black'},\n",
       "              'mode': 'markers',\n",
       "              'showlegend': False,\n",
       "              'text': [all_g, x, all_x, threshold, g, all_g, g, all_x, x],\n",
       "              'type': 'scatter',\n",
       "              'uid': 'f2ff1065-e110-4216-8b21-b104994d00b8',\n",
       "              'x': [7.833333333333333, 7.916666666666667, 8.0, 8.083333333333334,\n",
       "                    8.166666666666666, 7.85, 7.95, 8.05, 8.15],\n",
       "              'y': [-5.875, -5.875, -5.875, -5.875, -5.875, -6.125, -6.125,\n",
       "                    -6.125, -6.125]},\n",
       "             {'legendgroup': 'all_g',\n",
       "              'line': {'color': 'gray'},\n",
       "              'mode': 'lines',\n",
       "              'name': 'all_g',\n",
       "              'showlegend': False,\n",
       "              'type': 'scatter',\n",
       "              'uid': 'faeae20f-1472-44fc-8dac-d79565429c0c',\n",
       "              'x': [8.85, 8.833333333333334],\n",
       "              'y': [-3.125, -5.875]},\n",
       "             {'legendgroup': 'threshold',\n",
       "              'line': {'color': 'gray'},\n",
       "              'mode': 'lines',\n",
       "              'name': 'threshold',\n",
       "              'showlegend': False,\n",
       "              'type': 'scatter',\n",
       "              'uid': '6c1215c5-a7d8-4899-a7e0-a0aa54231cde',\n",
       "              'x': [0.1071428571428571, 9.083333333333334],\n",
       "              'y': [-2.125, -5.875]},\n",
       "             {'legendgroup': 'all_x',\n",
       "              'line': {'color': 'gray'},\n",
       "              'mode': 'lines',\n",
       "              'name': 'all_x',\n",
       "              'showlegend': False,\n",
       "              'type': 'scatter',\n",
       "              'uid': '33697921-8f32-4a1d-a007-841837fd85d9',\n",
       "              'x': [9.05, 9.0],\n",
       "              'y': [-3.125, -5.875]},\n",
       "             {'legendgroup': 'x',\n",
       "              'line': {'color': 'gray'},\n",
       "              'mode': 'lines',\n",
       "              'name': 'x',\n",
       "              'showlegend': False,\n",
       "              'type': 'scatter',\n",
       "              'uid': 'fec636d2-751e-4c30-8106-aefcdea79fb6',\n",
       "              'x': [9.0, 8.916666666666666],\n",
       "              'y': [-4.125, -5.875]},\n",
       "             {'legendgroup': 'g',\n",
       "              'line': {'color': 'gray'},\n",
       "              'mode': 'lines',\n",
       "              'name': 'g',\n",
       "              'showlegend': False,\n",
       "              'type': 'scatter',\n",
       "              'uid': 'd3f2de84-623a-444d-b508-d56918e29182',\n",
       "              'x': [9.0, 9.166666666666666],\n",
       "              'y': [-5.125, -5.875]},\n",
       "             {'hoverinfo': 'text',\n",
       "              'marker': {'color': 'black'},\n",
       "              'mode': 'markers',\n",
       "              'showlegend': False,\n",
       "              'text': [all_g, x, all_x, threshold, g, all_g, g, all_x, x],\n",
       "              'type': 'scatter',\n",
       "              'uid': '9618e867-3d06-452c-9271-7d4c2b0c1a80',\n",
       "              'x': [8.833333333333334, 8.916666666666666, 9.0, 9.083333333333334,\n",
       "                    9.166666666666666, 8.85, 8.95, 9.05, 9.15],\n",
       "              'y': [-5.875, -5.875, -5.875, -5.875, -5.875, -6.125, -6.125,\n",
       "                    -6.125, -6.125]}],\n",
       "    'layout': {'dragmode': 'pan',\n",
       "               'height': 500,\n",
       "               'shapes': [{'layer': 'below',\n",
       "                           'line': {'color': 'gray'},\n",
       "                           'type': 'rect',\n",
       "                           'x0': -0.25,\n",
       "                           'x1': 0.25,\n",
       "                           'y0': -0.125,\n",
       "                           'y1': 0.125},\n",
       "                          {'layer': 'below',\n",
       "                           'line': {'color': 'gray'},\n",
       "                           'type': 'rect',\n",
       "                           'x0': 0.75,\n",
       "                           'x1': 1.25,\n",
       "                           'y0': -0.125,\n",
       "                           'y1': 0.125},\n",
       "                          {'layer': 'below',\n",
       "                           'line': {'color': 'gray'},\n",
       "                           'type': 'rect',\n",
       "                           'x0': 1.75,\n",
       "                           'x1': 2.25,\n",
       "                           'y0': -0.125,\n",
       "                           'y1': 0.125},\n",
       "                          {'layer': 'below',\n",
       "                           'line': {'color': 'gray'},\n",
       "                           'type': 'rect',\n",
       "                           'x0': 2.75,\n",
       "                           'x1': 3.25,\n",
       "                           'y0': -0.125,\n",
       "                           'y1': 0.125},\n",
       "                          {'layer': 'below',\n",
       "                           'line': {'color': 'gray'},\n",
       "                           'type': 'rect',\n",
       "                           'x0': 3.75,\n",
       "                           'x1': 4.25,\n",
       "                           'y0': -0.125,\n",
       "                           'y1': 0.125},\n",
       "                          {'layer': 'below',\n",
       "                           'line': {'color': 'gray'},\n",
       "                           'type': 'rect',\n",
       "                           'x0': 4.75,\n",
       "                           'x1': 5.25,\n",
       "                           'y0': -0.125,\n",
       "                           'y1': 0.125},\n",
       "                          {'layer': 'below',\n",
       "                           'line': {'color': 'gray'},\n",
       "                           'type': 'rect',\n",
       "                           'x0': 5.75,\n",
       "                           'x1': 6.25,\n",
       "                           'y0': -0.125,\n",
       "                           'y1': 0.125},\n",
       "                          {'layer': 'below',\n",
       "                           'line': {'color': 'gray'},\n",
       "                           'type': 'rect',\n",
       "                           'x0': 6.75,\n",
       "                           'x1': 7.25,\n",
       "                           'y0': -0.125,\n",
       "                           'y1': 0.125},\n",
       "                          {'layer': 'below',\n",
       "                           'line': {'color': 'gray'},\n",
       "                           'type': 'rect',\n",
       "                           'x0': 7.75,\n",
       "                           'x1': 8.25,\n",
       "                           'y0': -0.125,\n",
       "                           'y1': 0.125},\n",
       "                          {'layer': 'below',\n",
       "                           'line': {'color': 'gray'},\n",
       "                           'type': 'rect',\n",
       "                           'x0': 8.75,\n",
       "                           'x1': 9.25,\n",
       "                           'y0': -0.125,\n",
       "                           'y1': 0.125},\n",
       "                          {'layer': 'below',\n",
       "                           'line': {'color': 'gray'},\n",
       "                           'type': 'rect',\n",
       "                           'x0': -0.25,\n",
       "                           'x1': 0.25,\n",
       "                           'y0': -1.125,\n",
       "                           'y1': -0.875},\n",
       "                          {'layer': 'below',\n",
       "                           'line': {'color': 'gray'},\n",
       "                           'type': 'rect',\n",
       "                           'x0': 0.75,\n",
       "                           'x1': 1.25,\n",
       "                           'y0': -1.125,\n",
       "                           'y1': -0.875},\n",
       "                          {'layer': 'below',\n",
       "                           'line': {'color': 'gray'},\n",
       "                           'type': 'rect',\n",
       "                           'x0': 1.75,\n",
       "                           'x1': 2.25,\n",
       "                           'y0': -1.125,\n",
       "                           'y1': -0.875},\n",
       "                          {'layer': 'below',\n",
       "                           'line': {'color': 'gray'},\n",
       "                           'type': 'rect',\n",
       "                           'x0': 2.75,\n",
       "                           'x1': 3.25,\n",
       "                           'y0': -1.125,\n",
       "                           'y1': -0.875},\n",
       "                          {'layer': 'below',\n",
       "                           'line': {'color': 'gray'},\n",
       "                           'type': 'rect',\n",
       "                           'x0': 3.75,\n",
       "                           'x1': 4.25,\n",
       "                           'y0': -1.125,\n",
       "                           'y1': -0.875},\n",
       "                          {'layer': 'below',\n",
       "                           'line': {'color': 'gray'},\n",
       "                           'type': 'rect',\n",
       "                           'x0': 4.75,\n",
       "                           'x1': 5.25,\n",
       "                           'y0': -1.125,\n",
       "                           'y1': -0.875},\n",
       "                          {'layer': 'below',\n",
       "                           'line': {'color': 'gray'},\n",
       "                           'type': 'rect',\n",
       "                           'x0': 5.75,\n",
       "                           'x1': 6.25,\n",
       "                           'y0': -1.125,\n",
       "                           'y1': -0.875},\n",
       "                          {'layer': 'below',\n",
       "                           'line': {'color': 'gray'},\n",
       "                           'type': 'rect',\n",
       "                           'x0': 6.75,\n",
       "                           'x1': 7.25,\n",
       "                           'y0': -1.125,\n",
       "                           'y1': -0.875},\n",
       "                          {'layer': 'below',\n",
       "                           'line': {'color': 'gray'},\n",
       "                           'type': 'rect',\n",
       "                           'x0': 7.75,\n",
       "                           'x1': 8.25,\n",
       "                           'y0': -1.125,\n",
       "                           'y1': -0.875},\n",
       "                          {'layer': 'below',\n",
       "                           'line': {'color': 'gray'},\n",
       "                           'type': 'rect',\n",
       "                           'x0': 8.75,\n",
       "                           'x1': 9.25,\n",
       "                           'y0': -1.125,\n",
       "                           'y1': -0.875},\n",
       "                          {'layer': 'below',\n",
       "                           'line': {'color': 'gray'},\n",
       "                           'type': 'rect',\n",
       "                           'x0': -0.25,\n",
       "                           'x1': 0.25,\n",
       "                           'y0': -2.125,\n",
       "                           'y1': -1.875},\n",
       "                          {'layer': 'below',\n",
       "                           'line': {'color': 'gray'},\n",
       "                           'type': 'rect',\n",
       "                           'x0': -0.25,\n",
       "                           'x1': 0.25,\n",
       "                           'y0': -3.125,\n",
       "                           'y1': -2.875},\n",
       "                          {'layer': 'below',\n",
       "                           'line': {'color': 'gray'},\n",
       "                           'type': 'rect',\n",
       "                           'x0': 0.75,\n",
       "                           'x1': 1.25,\n",
       "                           'y0': -3.125,\n",
       "                           'y1': -2.875},\n",
       "                          {'layer': 'below',\n",
       "                           'line': {'color': 'gray'},\n",
       "                           'type': 'rect',\n",
       "                           'x0': 1.75,\n",
       "                           'x1': 2.25,\n",
       "                           'y0': -3.125,\n",
       "                           'y1': -2.875},\n",
       "                          {'layer': 'below',\n",
       "                           'line': {'color': 'gray'},\n",
       "                           'type': 'rect',\n",
       "                           'x0': 2.75,\n",
       "                           'x1': 3.25,\n",
       "                           'y0': -3.125,\n",
       "                           'y1': -2.875},\n",
       "                          {'layer': 'below',\n",
       "                           'line': {'color': 'gray'},\n",
       "                           'type': 'rect',\n",
       "                           'x0': 3.75,\n",
       "                           'x1': 4.25,\n",
       "                           'y0': -3.125,\n",
       "                           'y1': -2.875},\n",
       "                          {'layer': 'below',\n",
       "                           'line': {'color': 'gray'},\n",
       "                           'type': 'rect',\n",
       "                           'x0': 4.75,\n",
       "                           'x1': 5.25,\n",
       "                           'y0': -3.125,\n",
       "                           'y1': -2.875},\n",
       "                          {'layer': 'below',\n",
       "                           'line': {'color': 'gray'},\n",
       "                           'type': 'rect',\n",
       "                           'x0': 5.75,\n",
       "                           'x1': 6.25,\n",
       "                           'y0': -3.125,\n",
       "                           'y1': -2.875},\n",
       "                          {'layer': 'below',\n",
       "                           'line': {'color': 'gray'},\n",
       "                           'type': 'rect',\n",
       "                           'x0': 6.75,\n",
       "                           'x1': 7.25,\n",
       "                           'y0': -3.125,\n",
       "                           'y1': -2.875},\n",
       "                          {'layer': 'below',\n",
       "                           'line': {'color': 'gray'},\n",
       "                           'type': 'rect',\n",
       "                           'x0': 7.75,\n",
       "                           'x1': 8.25,\n",
       "                           'y0': -3.125,\n",
       "                           'y1': -2.875},\n",
       "                          {'layer': 'below',\n",
       "                           'line': {'color': 'gray'},\n",
       "                           'type': 'rect',\n",
       "                           'x0': 8.75,\n",
       "                           'x1': 9.25,\n",
       "                           'y0': -3.125,\n",
       "                           'y1': -2.875},\n",
       "                          {'layer': 'below',\n",
       "                           'line': {'color': 'gray'},\n",
       "                           'type': 'rect',\n",
       "                           'x0': -0.25,\n",
       "                           'x1': 0.25,\n",
       "                           'y0': -4.125,\n",
       "                           'y1': -3.875},\n",
       "                          {'layer': 'below',\n",
       "                           'line': {'color': 'gray'},\n",
       "                           'type': 'rect',\n",
       "                           'x0': 0.75,\n",
       "                           'x1': 1.25,\n",
       "                           'y0': -4.125,\n",
       "                           'y1': -3.875},\n",
       "                          {'layer': 'below',\n",
       "                           'line': {'color': 'gray'},\n",
       "                           'type': 'rect',\n",
       "                           'x0': 1.75,\n",
       "                           'x1': 2.25,\n",
       "                           'y0': -4.125,\n",
       "                           'y1': -3.875},\n",
       "                          {'layer': 'below',\n",
       "                           'line': {'color': 'gray'},\n",
       "                           'type': 'rect',\n",
       "                           'x0': 2.75,\n",
       "                           'x1': 3.25,\n",
       "                           'y0': -4.125,\n",
       "                           'y1': -3.875},\n",
       "                          {'layer': 'below',\n",
       "                           'line': {'color': 'gray'},\n",
       "                           'type': 'rect',\n",
       "                           'x0': 3.75,\n",
       "                           'x1': 4.25,\n",
       "                           'y0': -4.125,\n",
       "                           'y1': -3.875},\n",
       "                          {'layer': 'below',\n",
       "                           'line': {'color': 'gray'},\n",
       "                           'type': 'rect',\n",
       "                           'x0': 4.75,\n",
       "                           'x1': 5.25,\n",
       "                           'y0': -4.125,\n",
       "                           'y1': -3.875},\n",
       "                          {'layer': 'below',\n",
       "                           'line': {'color': 'gray'},\n",
       "                           'type': 'rect',\n",
       "                           'x0': 5.75,\n",
       "                           'x1': 6.25,\n",
       "                           'y0': -4.125,\n",
       "                           'y1': -3.875},\n",
       "                          {'layer': 'below',\n",
       "                           'line': {'color': 'gray'},\n",
       "                           'type': 'rect',\n",
       "                           'x0': 6.75,\n",
       "                           'x1': 7.25,\n",
       "                           'y0': -4.125,\n",
       "                           'y1': -3.875},\n",
       "                          {'layer': 'below',\n",
       "                           'line': {'color': 'gray'},\n",
       "                           'type': 'rect',\n",
       "                           'x0': 7.75,\n",
       "                           'x1': 8.25,\n",
       "                           'y0': -4.125,\n",
       "                           'y1': -3.875},\n",
       "                          {'layer': 'below',\n",
       "                           'line': {'color': 'gray'},\n",
       "                           'type': 'rect',\n",
       "                           'x0': 8.75,\n",
       "                           'x1': 9.25,\n",
       "                           'y0': -4.125,\n",
       "                           'y1': -3.875},\n",
       "                          {'layer': 'below',\n",
       "                           'line': {'color': 'gray'},\n",
       "                           'type': 'rect',\n",
       "                           'x0': -0.25,\n",
       "                           'x1': 0.25,\n",
       "                           'y0': -5.125,\n",
       "                           'y1': -4.875},\n",
       "                          {'layer': 'below',\n",
       "                           'line': {'color': 'gray'},\n",
       "                           'type': 'rect',\n",
       "                           'x0': 0.75,\n",
       "                           'x1': 1.25,\n",
       "                           'y0': -5.125,\n",
       "                           'y1': -4.875},\n",
       "                          {'layer': 'below',\n",
       "                           'line': {'color': 'gray'},\n",
       "                           'type': 'rect',\n",
       "                           'x0': 1.75,\n",
       "                           'x1': 2.25,\n",
       "                           'y0': -5.125,\n",
       "                           'y1': -4.875},\n",
       "                          {'layer': 'below',\n",
       "                           'line': {'color': 'gray'},\n",
       "                           'type': 'rect',\n",
       "                           'x0': 2.75,\n",
       "                           'x1': 3.25,\n",
       "                           'y0': -5.125,\n",
       "                           'y1': -4.875},\n",
       "                          {'layer': 'below',\n",
       "                           'line': {'color': 'gray'},\n",
       "                           'type': 'rect',\n",
       "                           'x0': 3.75,\n",
       "                           'x1': 4.25,\n",
       "                           'y0': -5.125,\n",
       "                           'y1': -4.875},\n",
       "                          {'layer': 'below',\n",
       "                           'line': {'color': 'gray'},\n",
       "                           'type': 'rect',\n",
       "                           'x0': 4.75,\n",
       "                           'x1': 5.25,\n",
       "                           'y0': -5.125,\n",
       "                           'y1': -4.875},\n",
       "                          {'layer': 'below',\n",
       "                           'line': {'color': 'gray'},\n",
       "                           'type': 'rect',\n",
       "                           'x0': 5.75,\n",
       "                           'x1': 6.25,\n",
       "                           'y0': -5.125,\n",
       "                           'y1': -4.875},\n",
       "                          {'layer': 'below',\n",
       "                           'line': {'color': 'gray'},\n",
       "                           'type': 'rect',\n",
       "                           'x0': 6.75,\n",
       "                           'x1': 7.25,\n",
       "                           'y0': -5.125,\n",
       "                           'y1': -4.875},\n",
       "                          {'layer': 'below',\n",
       "                           'line': {'color': 'gray'},\n",
       "                           'type': 'rect',\n",
       "                           'x0': 7.75,\n",
       "                           'x1': 8.25,\n",
       "                           'y0': -5.125,\n",
       "                           'y1': -4.875},\n",
       "                          {'layer': 'below',\n",
       "                           'line': {'color': 'gray'},\n",
       "                           'type': 'rect',\n",
       "                           'x0': 8.75,\n",
       "                           'x1': 9.25,\n",
       "                           'y0': -5.125,\n",
       "                           'y1': -4.875},\n",
       "                          {'layer': 'below',\n",
       "                           'line': {'color': 'gray'},\n",
       "                           'type': 'rect',\n",
       "                           'x0': -0.25,\n",
       "                           'x1': 0.25,\n",
       "                           'y0': -6.125,\n",
       "                           'y1': -5.875},\n",
       "                          {'layer': 'below',\n",
       "                           'line': {'color': 'gray'},\n",
       "                           'type': 'rect',\n",
       "                           'x0': 0.75,\n",
       "                           'x1': 1.25,\n",
       "                           'y0': -6.125,\n",
       "                           'y1': -5.875},\n",
       "                          {'layer': 'below',\n",
       "                           'line': {'color': 'gray'},\n",
       "                           'type': 'rect',\n",
       "                           'x0': 1.75,\n",
       "                           'x1': 2.25,\n",
       "                           'y0': -6.125,\n",
       "                           'y1': -5.875},\n",
       "                          {'layer': 'below',\n",
       "                           'line': {'color': 'gray'},\n",
       "                           'type': 'rect',\n",
       "                           'x0': 2.75,\n",
       "                           'x1': 3.25,\n",
       "                           'y0': -6.125,\n",
       "                           'y1': -5.875},\n",
       "                          {'layer': 'below',\n",
       "                           'line': {'color': 'gray'},\n",
       "                           'type': 'rect',\n",
       "                           'x0': 3.75,\n",
       "                           'x1': 4.25,\n",
       "                           'y0': -6.125,\n",
       "                           'y1': -5.875},\n",
       "                          {'layer': 'below',\n",
       "                           'line': {'color': 'gray'},\n",
       "                           'type': 'rect',\n",
       "                           'x0': 4.75,\n",
       "                           'x1': 5.25,\n",
       "                           'y0': -6.125,\n",
       "                           'y1': -5.875},\n",
       "                          {'layer': 'below',\n",
       "                           'line': {'color': 'gray'},\n",
       "                           'type': 'rect',\n",
       "                           'x0': 5.75,\n",
       "                           'x1': 6.25,\n",
       "                           'y0': -6.125,\n",
       "                           'y1': -5.875},\n",
       "                          {'layer': 'below',\n",
       "                           'line': {'color': 'gray'},\n",
       "                           'type': 'rect',\n",
       "                           'x0': 6.75,\n",
       "                           'x1': 7.25,\n",
       "                           'y0': -6.125,\n",
       "                           'y1': -5.875},\n",
       "                          {'layer': 'below',\n",
       "                           'line': {'color': 'gray'},\n",
       "                           'type': 'rect',\n",
       "                           'x0': 7.75,\n",
       "                           'x1': 8.25,\n",
       "                           'y0': -6.125,\n",
       "                           'y1': -5.875},\n",
       "                          {'layer': 'below',\n",
       "                           'line': {'color': 'gray'},\n",
       "                           'type': 'rect',\n",
       "                           'x0': 8.75,\n",
       "                           'x1': 9.25,\n",
       "                           'y0': -6.125,\n",
       "                           'y1': -5.875}],\n",
       "               'template': '...',\n",
       "               'xaxis': {'showgrid': False, 'zeroline': False},\n",
       "               'yaxis': {'scaleanchor': 'x',\n",
       "                         'showgrid': False,\n",
       "                         'tickmode': 'array',\n",
       "                         'ticktext': [task_0_sample_direct_MC,\n",
       "                                      task_1_system_analysis,\n",
       "                                      task_2_collate_results_levels-0,\n",
       "                                      task_3_initialise_markov_chains_levels-0, tas\n",
       "                                      k_4_generate_next_state_levels-\n",
       "                                      0_markov_chain_state-0, task_5_system_analysi\n",
       "                                      s_2_levels-0_markov_chain_state-0, task_6_inc\n",
       "                                      rement_chain_levels-0_markov_chain_state-0],\n",
       "                         'tickvals': [0, -1, -2, -3, -4, -5, -6],\n",
       "                         'zeroline': False}}\n",
       "})"
      ]
     },
     "execution_count": 3,
     "metadata": {},
     "output_type": "execute_result"
    }
   ],
   "source": [
    "wk = hf.Workflow(r\"C:\\code_local\\scratch\\hpcflow-workflows\\subset_simulation_2024-05-30_163552\")\n",
    "show_2(wk)"
   ]
  },
  {
   "cell_type": "code",
   "execution_count": null,
   "metadata": {},
   "outputs": [],
   "source": []
  },
  {
   "cell_type": "code",
   "execution_count": null,
   "metadata": {},
   "outputs": [],
   "source": []
  },
  {
   "cell_type": "code",
   "execution_count": 6,
   "metadata": {},
   "outputs": [],
   "source": [
    "mcmc_wk = hf.Workflow(r\"C:\\code_local\\scratch\\matflow-workflows\\subset_simulation_2024-05-16_172542\")\n",
    "fig = show_2(mcmc_wk)\n",
    "fig.update_layout(autosize=True, height=850)\n",
    "fig.write_html(\"wk_graph.html\", config={\"scrollZoom\": True})"
   ]
  },
  {
   "cell_type": "code",
   "execution_count": 76,
   "metadata": {},
   "outputs": [
    {
     "data": {
      "application/vnd.plotly.v1+json": {
       "config": {
        "plotlyServerURL": "https://plot.ly",
        "scrollZoom": true
       },
       "data": [
        {
         "hoverinfo": "text",
         "marker": {
          "color": "black"
         },
         "mode": "markers",
         "text": [
          "phase_label",
          "VE_size",
          "num_grains",
          "microstructure_seeds"
         ],
         "type": "scatter",
         "uid": "a0d2e1c6-ed19-45b2-a3e0-f73469e76957",
         "x": [
          -0.125,
          0,
          0.125,
          0
         ],
         "y": [
          0.125,
          0.125,
          0.125,
          -0.125
         ]
        },
        {
         "line": {
          "color": "gray"
         },
         "mode": "lines",
         "showlegend": false,
         "type": "scatter",
         "uid": "375cc1b7-ff15-4fb0-ac67-aaf6846a7c3f",
         "x": [
          0,
          0.17857142857142855
         ],
         "y": [
          -0.125,
          -0.875
         ]
        },
        {
         "hoverinfo": "text",
         "marker": {
          "color": "black"
         },
         "mode": "markers",
         "text": [
          "scale_update_size",
          "orientations",
          "homog_label",
          "scale_morphology",
          "VE_grid_size",
          "microstructure_seeds",
          "volume_element"
         ],
         "type": "scatter",
         "uid": "3bb81aca-2a2a-4cc4-96cc-70389f82e586",
         "x": [
          -0.17857142857142858,
          -0.10714285714285715,
          -0.035714285714285726,
          0.0357142857142857,
          0.1071428571428571,
          0.17857142857142855,
          0
         ],
         "y": [
          -0.875,
          -0.875,
          -0.875,
          -0.875,
          -0.875,
          -0.875,
          -1.125
         ]
        },
        {
         "line": {
          "color": "gray"
         },
         "mode": "lines",
         "showlegend": false,
         "type": "scatter",
         "uid": "6aab56d0-d021-43fa-b606-e310de4d600b",
         "x": [
          0,
          0.15909090909090912
         ],
         "y": [
          -1.125,
          -1.875
         ]
        },
        {
         "line": {
          "color": "gray"
         },
         "mode": "lines",
         "showlegend": false,
         "type": "scatter",
         "uid": "f5f5dd37-392c-415c-acdc-596148197924",
         "x": [
          0,
          0.15909090909090912
         ],
         "y": [
          -1.125,
          -1.875
         ]
        },
        {
         "hoverinfo": "text",
         "marker": {
          "color": "black"
         },
         "mode": "markers",
         "text": [
          "single_crystal_parameters",
          "damask_phases",
          "load_case",
          "damask_solver",
          "homogenization",
          "damask_post_processing",
          "damask_viz",
          "damask_numerics",
          "volume_element",
          "VE_response_data",
          "damask_post_processing_result",
          "damask_log",
          "VE_response",
          "damask_viz_result"
         ],
         "type": "scatter",
         "uid": "13fb5b1c-1597-4966-a19f-81ae99273186",
         "x": [
          -0.20454545454545453,
          -0.1590909090909091,
          -0.11363636363636365,
          -0.06818181818181818,
          -0.022727272727272707,
          0.022727272727272707,
          0.06818181818181818,
          0.11363636363636365,
          0.15909090909090912,
          0.20454545454545459,
          -0.15,
          -0.04999999999999999,
          0.050000000000000044,
          0.15000000000000002
         ],
         "y": [
          -1.875,
          -1.875,
          -1.875,
          -1.875,
          -1.875,
          -1.875,
          -1.875,
          -1.875,
          -1.875,
          -1.875,
          -2.125,
          -2.125,
          -2.125,
          -2.125
         ]
        }
       ],
       "layout": {
        "dragmode": "pan",
        "height": 500,
        "shapes": [
         {
          "layer": "below",
          "line": {
           "color": "gray"
          },
          "type": "rect",
          "x0": -0.25,
          "x1": 0.25,
          "y0": -0.125,
          "y1": 0.125
         },
         {
          "layer": "below",
          "line": {
           "color": "gray"
          },
          "type": "rect",
          "x0": -0.25,
          "x1": 0.25,
          "y0": -1.125,
          "y1": -0.875
         },
         {
          "layer": "below",
          "line": {
           "color": "gray"
          },
          "type": "rect",
          "x0": -0.25,
          "x1": 0.25,
          "y0": -2.125,
          "y1": -1.875
         }
        ],
        "template": {
         "data": {
          "bar": [
           {
            "error_x": {
             "color": "#2a3f5f"
            },
            "error_y": {
             "color": "#2a3f5f"
            },
            "marker": {
             "line": {
              "color": "#E5ECF6",
              "width": 0.5
             },
             "pattern": {
              "fillmode": "overlay",
              "size": 10,
              "solidity": 0.2
             }
            },
            "type": "bar"
           }
          ],
          "barpolar": [
           {
            "marker": {
             "line": {
              "color": "#E5ECF6",
              "width": 0.5
             },
             "pattern": {
              "fillmode": "overlay",
              "size": 10,
              "solidity": 0.2
             }
            },
            "type": "barpolar"
           }
          ],
          "carpet": [
           {
            "aaxis": {
             "endlinecolor": "#2a3f5f",
             "gridcolor": "white",
             "linecolor": "white",
             "minorgridcolor": "white",
             "startlinecolor": "#2a3f5f"
            },
            "baxis": {
             "endlinecolor": "#2a3f5f",
             "gridcolor": "white",
             "linecolor": "white",
             "minorgridcolor": "white",
             "startlinecolor": "#2a3f5f"
            },
            "type": "carpet"
           }
          ],
          "choropleth": [
           {
            "colorbar": {
             "outlinewidth": 0,
             "ticks": ""
            },
            "type": "choropleth"
           }
          ],
          "contour": [
           {
            "colorbar": {
             "outlinewidth": 0,
             "ticks": ""
            },
            "colorscale": [
             [
              0,
              "#0d0887"
             ],
             [
              0.1111111111111111,
              "#46039f"
             ],
             [
              0.2222222222222222,
              "#7201a8"
             ],
             [
              0.3333333333333333,
              "#9c179e"
             ],
             [
              0.4444444444444444,
              "#bd3786"
             ],
             [
              0.5555555555555556,
              "#d8576b"
             ],
             [
              0.6666666666666666,
              "#ed7953"
             ],
             [
              0.7777777777777778,
              "#fb9f3a"
             ],
             [
              0.8888888888888888,
              "#fdca26"
             ],
             [
              1,
              "#f0f921"
             ]
            ],
            "type": "contour"
           }
          ],
          "contourcarpet": [
           {
            "colorbar": {
             "outlinewidth": 0,
             "ticks": ""
            },
            "type": "contourcarpet"
           }
          ],
          "heatmap": [
           {
            "colorbar": {
             "outlinewidth": 0,
             "ticks": ""
            },
            "colorscale": [
             [
              0,
              "#0d0887"
             ],
             [
              0.1111111111111111,
              "#46039f"
             ],
             [
              0.2222222222222222,
              "#7201a8"
             ],
             [
              0.3333333333333333,
              "#9c179e"
             ],
             [
              0.4444444444444444,
              "#bd3786"
             ],
             [
              0.5555555555555556,
              "#d8576b"
             ],
             [
              0.6666666666666666,
              "#ed7953"
             ],
             [
              0.7777777777777778,
              "#fb9f3a"
             ],
             [
              0.8888888888888888,
              "#fdca26"
             ],
             [
              1,
              "#f0f921"
             ]
            ],
            "type": "heatmap"
           }
          ],
          "heatmapgl": [
           {
            "colorbar": {
             "outlinewidth": 0,
             "ticks": ""
            },
            "colorscale": [
             [
              0,
              "#0d0887"
             ],
             [
              0.1111111111111111,
              "#46039f"
             ],
             [
              0.2222222222222222,
              "#7201a8"
             ],
             [
              0.3333333333333333,
              "#9c179e"
             ],
             [
              0.4444444444444444,
              "#bd3786"
             ],
             [
              0.5555555555555556,
              "#d8576b"
             ],
             [
              0.6666666666666666,
              "#ed7953"
             ],
             [
              0.7777777777777778,
              "#fb9f3a"
             ],
             [
              0.8888888888888888,
              "#fdca26"
             ],
             [
              1,
              "#f0f921"
             ]
            ],
            "type": "heatmapgl"
           }
          ],
          "histogram": [
           {
            "marker": {
             "pattern": {
              "fillmode": "overlay",
              "size": 10,
              "solidity": 0.2
             }
            },
            "type": "histogram"
           }
          ],
          "histogram2d": [
           {
            "colorbar": {
             "outlinewidth": 0,
             "ticks": ""
            },
            "colorscale": [
             [
              0,
              "#0d0887"
             ],
             [
              0.1111111111111111,
              "#46039f"
             ],
             [
              0.2222222222222222,
              "#7201a8"
             ],
             [
              0.3333333333333333,
              "#9c179e"
             ],
             [
              0.4444444444444444,
              "#bd3786"
             ],
             [
              0.5555555555555556,
              "#d8576b"
             ],
             [
              0.6666666666666666,
              "#ed7953"
             ],
             [
              0.7777777777777778,
              "#fb9f3a"
             ],
             [
              0.8888888888888888,
              "#fdca26"
             ],
             [
              1,
              "#f0f921"
             ]
            ],
            "type": "histogram2d"
           }
          ],
          "histogram2dcontour": [
           {
            "colorbar": {
             "outlinewidth": 0,
             "ticks": ""
            },
            "colorscale": [
             [
              0,
              "#0d0887"
             ],
             [
              0.1111111111111111,
              "#46039f"
             ],
             [
              0.2222222222222222,
              "#7201a8"
             ],
             [
              0.3333333333333333,
              "#9c179e"
             ],
             [
              0.4444444444444444,
              "#bd3786"
             ],
             [
              0.5555555555555556,
              "#d8576b"
             ],
             [
              0.6666666666666666,
              "#ed7953"
             ],
             [
              0.7777777777777778,
              "#fb9f3a"
             ],
             [
              0.8888888888888888,
              "#fdca26"
             ],
             [
              1,
              "#f0f921"
             ]
            ],
            "type": "histogram2dcontour"
           }
          ],
          "mesh3d": [
           {
            "colorbar": {
             "outlinewidth": 0,
             "ticks": ""
            },
            "type": "mesh3d"
           }
          ],
          "parcoords": [
           {
            "line": {
             "colorbar": {
              "outlinewidth": 0,
              "ticks": ""
             }
            },
            "type": "parcoords"
           }
          ],
          "pie": [
           {
            "automargin": true,
            "type": "pie"
           }
          ],
          "scatter": [
           {
            "fillpattern": {
             "fillmode": "overlay",
             "size": 10,
             "solidity": 0.2
            },
            "type": "scatter"
           }
          ],
          "scatter3d": [
           {
            "line": {
             "colorbar": {
              "outlinewidth": 0,
              "ticks": ""
             }
            },
            "marker": {
             "colorbar": {
              "outlinewidth": 0,
              "ticks": ""
             }
            },
            "type": "scatter3d"
           }
          ],
          "scattercarpet": [
           {
            "marker": {
             "colorbar": {
              "outlinewidth": 0,
              "ticks": ""
             }
            },
            "type": "scattercarpet"
           }
          ],
          "scattergeo": [
           {
            "marker": {
             "colorbar": {
              "outlinewidth": 0,
              "ticks": ""
             }
            },
            "type": "scattergeo"
           }
          ],
          "scattergl": [
           {
            "marker": {
             "colorbar": {
              "outlinewidth": 0,
              "ticks": ""
             }
            },
            "type": "scattergl"
           }
          ],
          "scattermapbox": [
           {
            "marker": {
             "colorbar": {
              "outlinewidth": 0,
              "ticks": ""
             }
            },
            "type": "scattermapbox"
           }
          ],
          "scatterpolar": [
           {
            "marker": {
             "colorbar": {
              "outlinewidth": 0,
              "ticks": ""
             }
            },
            "type": "scatterpolar"
           }
          ],
          "scatterpolargl": [
           {
            "marker": {
             "colorbar": {
              "outlinewidth": 0,
              "ticks": ""
             }
            },
            "type": "scatterpolargl"
           }
          ],
          "scatterternary": [
           {
            "marker": {
             "colorbar": {
              "outlinewidth": 0,
              "ticks": ""
             }
            },
            "type": "scatterternary"
           }
          ],
          "surface": [
           {
            "colorbar": {
             "outlinewidth": 0,
             "ticks": ""
            },
            "colorscale": [
             [
              0,
              "#0d0887"
             ],
             [
              0.1111111111111111,
              "#46039f"
             ],
             [
              0.2222222222222222,
              "#7201a8"
             ],
             [
              0.3333333333333333,
              "#9c179e"
             ],
             [
              0.4444444444444444,
              "#bd3786"
             ],
             [
              0.5555555555555556,
              "#d8576b"
             ],
             [
              0.6666666666666666,
              "#ed7953"
             ],
             [
              0.7777777777777778,
              "#fb9f3a"
             ],
             [
              0.8888888888888888,
              "#fdca26"
             ],
             [
              1,
              "#f0f921"
             ]
            ],
            "type": "surface"
           }
          ],
          "table": [
           {
            "cells": {
             "fill": {
              "color": "#EBF0F8"
             },
             "line": {
              "color": "white"
             }
            },
            "header": {
             "fill": {
              "color": "#C8D4E3"
             },
             "line": {
              "color": "white"
             }
            },
            "type": "table"
           }
          ]
         },
         "layout": {
          "annotationdefaults": {
           "arrowcolor": "#2a3f5f",
           "arrowhead": 0,
           "arrowwidth": 1
          },
          "autotypenumbers": "strict",
          "coloraxis": {
           "colorbar": {
            "outlinewidth": 0,
            "ticks": ""
           }
          },
          "colorscale": {
           "diverging": [
            [
             0,
             "#8e0152"
            ],
            [
             0.1,
             "#c51b7d"
            ],
            [
             0.2,
             "#de77ae"
            ],
            [
             0.3,
             "#f1b6da"
            ],
            [
             0.4,
             "#fde0ef"
            ],
            [
             0.5,
             "#f7f7f7"
            ],
            [
             0.6,
             "#e6f5d0"
            ],
            [
             0.7,
             "#b8e186"
            ],
            [
             0.8,
             "#7fbc41"
            ],
            [
             0.9,
             "#4d9221"
            ],
            [
             1,
             "#276419"
            ]
           ],
           "sequential": [
            [
             0,
             "#0d0887"
            ],
            [
             0.1111111111111111,
             "#46039f"
            ],
            [
             0.2222222222222222,
             "#7201a8"
            ],
            [
             0.3333333333333333,
             "#9c179e"
            ],
            [
             0.4444444444444444,
             "#bd3786"
            ],
            [
             0.5555555555555556,
             "#d8576b"
            ],
            [
             0.6666666666666666,
             "#ed7953"
            ],
            [
             0.7777777777777778,
             "#fb9f3a"
            ],
            [
             0.8888888888888888,
             "#fdca26"
            ],
            [
             1,
             "#f0f921"
            ]
           ],
           "sequentialminus": [
            [
             0,
             "#0d0887"
            ],
            [
             0.1111111111111111,
             "#46039f"
            ],
            [
             0.2222222222222222,
             "#7201a8"
            ],
            [
             0.3333333333333333,
             "#9c179e"
            ],
            [
             0.4444444444444444,
             "#bd3786"
            ],
            [
             0.5555555555555556,
             "#d8576b"
            ],
            [
             0.6666666666666666,
             "#ed7953"
            ],
            [
             0.7777777777777778,
             "#fb9f3a"
            ],
            [
             0.8888888888888888,
             "#fdca26"
            ],
            [
             1,
             "#f0f921"
            ]
           ]
          },
          "colorway": [
           "#636efa",
           "#EF553B",
           "#00cc96",
           "#ab63fa",
           "#FFA15A",
           "#19d3f3",
           "#FF6692",
           "#B6E880",
           "#FF97FF",
           "#FECB52"
          ],
          "font": {
           "color": "#2a3f5f"
          },
          "geo": {
           "bgcolor": "white",
           "lakecolor": "white",
           "landcolor": "#E5ECF6",
           "showlakes": true,
           "showland": true,
           "subunitcolor": "white"
          },
          "hoverlabel": {
           "align": "left"
          },
          "hovermode": "closest",
          "mapbox": {
           "style": "light"
          },
          "paper_bgcolor": "white",
          "plot_bgcolor": "#E5ECF6",
          "polar": {
           "angularaxis": {
            "gridcolor": "white",
            "linecolor": "white",
            "ticks": ""
           },
           "bgcolor": "#E5ECF6",
           "radialaxis": {
            "gridcolor": "white",
            "linecolor": "white",
            "ticks": ""
           }
          },
          "scene": {
           "xaxis": {
            "backgroundcolor": "#E5ECF6",
            "gridcolor": "white",
            "gridwidth": 2,
            "linecolor": "white",
            "showbackground": true,
            "ticks": "",
            "zerolinecolor": "white"
           },
           "yaxis": {
            "backgroundcolor": "#E5ECF6",
            "gridcolor": "white",
            "gridwidth": 2,
            "linecolor": "white",
            "showbackground": true,
            "ticks": "",
            "zerolinecolor": "white"
           },
           "zaxis": {
            "backgroundcolor": "#E5ECF6",
            "gridcolor": "white",
            "gridwidth": 2,
            "linecolor": "white",
            "showbackground": true,
            "ticks": "",
            "zerolinecolor": "white"
           }
          },
          "shapedefaults": {
           "line": {
            "color": "#2a3f5f"
           }
          },
          "ternary": {
           "aaxis": {
            "gridcolor": "white",
            "linecolor": "white",
            "ticks": ""
           },
           "baxis": {
            "gridcolor": "white",
            "linecolor": "white",
            "ticks": ""
           },
           "bgcolor": "#E5ECF6",
           "caxis": {
            "gridcolor": "white",
            "linecolor": "white",
            "ticks": ""
           }
          },
          "title": {
           "x": 0.05
          },
          "xaxis": {
           "automargin": true,
           "gridcolor": "white",
           "linecolor": "white",
           "ticks": "",
           "title": {
            "standoff": 15
           },
           "zerolinecolor": "white",
           "zerolinewidth": 2
          },
          "yaxis": {
           "automargin": true,
           "gridcolor": "white",
           "linecolor": "white",
           "ticks": "",
           "title": {
            "standoff": 15
           },
           "zerolinecolor": "white",
           "zerolinewidth": 2
          }
         }
        },
        "xaxis": {
         "showgrid": false,
         "zeroline": false
        },
        "yaxis": {
         "scaleanchor": "x",
         "showgrid": false,
         "zeroline": false
        }
       }
      }
     },
     "metadata": {},
     "output_type": "display_data"
    }
   ],
   "source": [
    "mwk = hf.Workflow(r\"C:\\code_local\\scratch\\matflow-workflows\\tension_DAMASK_Al_2024-05-11_164202\")\n",
    "show_2(mwk)"
   ]
  },
  {
   "cell_type": "code",
   "execution_count": 74,
   "metadata": {},
   "outputs": [
    {
     "data": {
      "application/vnd.plotly.v1+json": {
       "config": {
        "plotlyServerURL": "https://plot.ly",
        "scrollZoom": true
       },
       "data": [],
       "layout": {
        "annotations": [
         {
          "showarrow": false,
          "text": "Task generate_microstructure_seeds_from_random",
          "x": -0.25,
          "xanchor": "right",
          "y": 0
         },
         {
          "showarrow": false,
          "text": "Task generate_volume_element_from_voronoi",
          "x": -0.25,
          "xanchor": "right",
          "y": -1
         },
         {
          "showarrow": false,
          "text": "Task simulate_VE_loading_damask",
          "x": -0.25,
          "xanchor": "right",
          "y": -2
         }
        ],
        "dragmode": "pan",
        "height": 500,
        "shapes": [
         {
          "type": "rect",
          "x0": -0.125,
          "x1": 0.125,
          "y0": -0.125,
          "y1": 0.125
         },
         {
          "type": "rect",
          "x0": -0.125,
          "x1": 0.125,
          "y0": -1.125,
          "y1": -0.875
         },
         {
          "type": "line",
          "x0": 0,
          "x1": 0,
          "y0": -0.875,
          "y1": -0.125
         },
         {
          "type": "rect",
          "x0": -0.125,
          "x1": 0.125,
          "y0": -2.125,
          "y1": -1.875
         },
         {
          "type": "line",
          "x0": 0,
          "x1": 0,
          "y0": -1.875,
          "y1": -1.125
         }
        ],
        "template": {
         "data": {
          "bar": [
           {
            "error_x": {
             "color": "#2a3f5f"
            },
            "error_y": {
             "color": "#2a3f5f"
            },
            "marker": {
             "line": {
              "color": "#E5ECF6",
              "width": 0.5
             },
             "pattern": {
              "fillmode": "overlay",
              "size": 10,
              "solidity": 0.2
             }
            },
            "type": "bar"
           }
          ],
          "barpolar": [
           {
            "marker": {
             "line": {
              "color": "#E5ECF6",
              "width": 0.5
             },
             "pattern": {
              "fillmode": "overlay",
              "size": 10,
              "solidity": 0.2
             }
            },
            "type": "barpolar"
           }
          ],
          "carpet": [
           {
            "aaxis": {
             "endlinecolor": "#2a3f5f",
             "gridcolor": "white",
             "linecolor": "white",
             "minorgridcolor": "white",
             "startlinecolor": "#2a3f5f"
            },
            "baxis": {
             "endlinecolor": "#2a3f5f",
             "gridcolor": "white",
             "linecolor": "white",
             "minorgridcolor": "white",
             "startlinecolor": "#2a3f5f"
            },
            "type": "carpet"
           }
          ],
          "choropleth": [
           {
            "colorbar": {
             "outlinewidth": 0,
             "ticks": ""
            },
            "type": "choropleth"
           }
          ],
          "contour": [
           {
            "colorbar": {
             "outlinewidth": 0,
             "ticks": ""
            },
            "colorscale": [
             [
              0,
              "#0d0887"
             ],
             [
              0.1111111111111111,
              "#46039f"
             ],
             [
              0.2222222222222222,
              "#7201a8"
             ],
             [
              0.3333333333333333,
              "#9c179e"
             ],
             [
              0.4444444444444444,
              "#bd3786"
             ],
             [
              0.5555555555555556,
              "#d8576b"
             ],
             [
              0.6666666666666666,
              "#ed7953"
             ],
             [
              0.7777777777777778,
              "#fb9f3a"
             ],
             [
              0.8888888888888888,
              "#fdca26"
             ],
             [
              1,
              "#f0f921"
             ]
            ],
            "type": "contour"
           }
          ],
          "contourcarpet": [
           {
            "colorbar": {
             "outlinewidth": 0,
             "ticks": ""
            },
            "type": "contourcarpet"
           }
          ],
          "heatmap": [
           {
            "colorbar": {
             "outlinewidth": 0,
             "ticks": ""
            },
            "colorscale": [
             [
              0,
              "#0d0887"
             ],
             [
              0.1111111111111111,
              "#46039f"
             ],
             [
              0.2222222222222222,
              "#7201a8"
             ],
             [
              0.3333333333333333,
              "#9c179e"
             ],
             [
              0.4444444444444444,
              "#bd3786"
             ],
             [
              0.5555555555555556,
              "#d8576b"
             ],
             [
              0.6666666666666666,
              "#ed7953"
             ],
             [
              0.7777777777777778,
              "#fb9f3a"
             ],
             [
              0.8888888888888888,
              "#fdca26"
             ],
             [
              1,
              "#f0f921"
             ]
            ],
            "type": "heatmap"
           }
          ],
          "heatmapgl": [
           {
            "colorbar": {
             "outlinewidth": 0,
             "ticks": ""
            },
            "colorscale": [
             [
              0,
              "#0d0887"
             ],
             [
              0.1111111111111111,
              "#46039f"
             ],
             [
              0.2222222222222222,
              "#7201a8"
             ],
             [
              0.3333333333333333,
              "#9c179e"
             ],
             [
              0.4444444444444444,
              "#bd3786"
             ],
             [
              0.5555555555555556,
              "#d8576b"
             ],
             [
              0.6666666666666666,
              "#ed7953"
             ],
             [
              0.7777777777777778,
              "#fb9f3a"
             ],
             [
              0.8888888888888888,
              "#fdca26"
             ],
             [
              1,
              "#f0f921"
             ]
            ],
            "type": "heatmapgl"
           }
          ],
          "histogram": [
           {
            "marker": {
             "pattern": {
              "fillmode": "overlay",
              "size": 10,
              "solidity": 0.2
             }
            },
            "type": "histogram"
           }
          ],
          "histogram2d": [
           {
            "colorbar": {
             "outlinewidth": 0,
             "ticks": ""
            },
            "colorscale": [
             [
              0,
              "#0d0887"
             ],
             [
              0.1111111111111111,
              "#46039f"
             ],
             [
              0.2222222222222222,
              "#7201a8"
             ],
             [
              0.3333333333333333,
              "#9c179e"
             ],
             [
              0.4444444444444444,
              "#bd3786"
             ],
             [
              0.5555555555555556,
              "#d8576b"
             ],
             [
              0.6666666666666666,
              "#ed7953"
             ],
             [
              0.7777777777777778,
              "#fb9f3a"
             ],
             [
              0.8888888888888888,
              "#fdca26"
             ],
             [
              1,
              "#f0f921"
             ]
            ],
            "type": "histogram2d"
           }
          ],
          "histogram2dcontour": [
           {
            "colorbar": {
             "outlinewidth": 0,
             "ticks": ""
            },
            "colorscale": [
             [
              0,
              "#0d0887"
             ],
             [
              0.1111111111111111,
              "#46039f"
             ],
             [
              0.2222222222222222,
              "#7201a8"
             ],
             [
              0.3333333333333333,
              "#9c179e"
             ],
             [
              0.4444444444444444,
              "#bd3786"
             ],
             [
              0.5555555555555556,
              "#d8576b"
             ],
             [
              0.6666666666666666,
              "#ed7953"
             ],
             [
              0.7777777777777778,
              "#fb9f3a"
             ],
             [
              0.8888888888888888,
              "#fdca26"
             ],
             [
              1,
              "#f0f921"
             ]
            ],
            "type": "histogram2dcontour"
           }
          ],
          "mesh3d": [
           {
            "colorbar": {
             "outlinewidth": 0,
             "ticks": ""
            },
            "type": "mesh3d"
           }
          ],
          "parcoords": [
           {
            "line": {
             "colorbar": {
              "outlinewidth": 0,
              "ticks": ""
             }
            },
            "type": "parcoords"
           }
          ],
          "pie": [
           {
            "automargin": true,
            "type": "pie"
           }
          ],
          "scatter": [
           {
            "fillpattern": {
             "fillmode": "overlay",
             "size": 10,
             "solidity": 0.2
            },
            "type": "scatter"
           }
          ],
          "scatter3d": [
           {
            "line": {
             "colorbar": {
              "outlinewidth": 0,
              "ticks": ""
             }
            },
            "marker": {
             "colorbar": {
              "outlinewidth": 0,
              "ticks": ""
             }
            },
            "type": "scatter3d"
           }
          ],
          "scattercarpet": [
           {
            "marker": {
             "colorbar": {
              "outlinewidth": 0,
              "ticks": ""
             }
            },
            "type": "scattercarpet"
           }
          ],
          "scattergeo": [
           {
            "marker": {
             "colorbar": {
              "outlinewidth": 0,
              "ticks": ""
             }
            },
            "type": "scattergeo"
           }
          ],
          "scattergl": [
           {
            "marker": {
             "colorbar": {
              "outlinewidth": 0,
              "ticks": ""
             }
            },
            "type": "scattergl"
           }
          ],
          "scattermapbox": [
           {
            "marker": {
             "colorbar": {
              "outlinewidth": 0,
              "ticks": ""
             }
            },
            "type": "scattermapbox"
           }
          ],
          "scatterpolar": [
           {
            "marker": {
             "colorbar": {
              "outlinewidth": 0,
              "ticks": ""
             }
            },
            "type": "scatterpolar"
           }
          ],
          "scatterpolargl": [
           {
            "marker": {
             "colorbar": {
              "outlinewidth": 0,
              "ticks": ""
             }
            },
            "type": "scatterpolargl"
           }
          ],
          "scatterternary": [
           {
            "marker": {
             "colorbar": {
              "outlinewidth": 0,
              "ticks": ""
             }
            },
            "type": "scatterternary"
           }
          ],
          "surface": [
           {
            "colorbar": {
             "outlinewidth": 0,
             "ticks": ""
            },
            "colorscale": [
             [
              0,
              "#0d0887"
             ],
             [
              0.1111111111111111,
              "#46039f"
             ],
             [
              0.2222222222222222,
              "#7201a8"
             ],
             [
              0.3333333333333333,
              "#9c179e"
             ],
             [
              0.4444444444444444,
              "#bd3786"
             ],
             [
              0.5555555555555556,
              "#d8576b"
             ],
             [
              0.6666666666666666,
              "#ed7953"
             ],
             [
              0.7777777777777778,
              "#fb9f3a"
             ],
             [
              0.8888888888888888,
              "#fdca26"
             ],
             [
              1,
              "#f0f921"
             ]
            ],
            "type": "surface"
           }
          ],
          "table": [
           {
            "cells": {
             "fill": {
              "color": "#EBF0F8"
             },
             "line": {
              "color": "white"
             }
            },
            "header": {
             "fill": {
              "color": "#C8D4E3"
             },
             "line": {
              "color": "white"
             }
            },
            "type": "table"
           }
          ]
         },
         "layout": {
          "annotationdefaults": {
           "arrowcolor": "#2a3f5f",
           "arrowhead": 0,
           "arrowwidth": 1
          },
          "autotypenumbers": "strict",
          "coloraxis": {
           "colorbar": {
            "outlinewidth": 0,
            "ticks": ""
           }
          },
          "colorscale": {
           "diverging": [
            [
             0,
             "#8e0152"
            ],
            [
             0.1,
             "#c51b7d"
            ],
            [
             0.2,
             "#de77ae"
            ],
            [
             0.3,
             "#f1b6da"
            ],
            [
             0.4,
             "#fde0ef"
            ],
            [
             0.5,
             "#f7f7f7"
            ],
            [
             0.6,
             "#e6f5d0"
            ],
            [
             0.7,
             "#b8e186"
            ],
            [
             0.8,
             "#7fbc41"
            ],
            [
             0.9,
             "#4d9221"
            ],
            [
             1,
             "#276419"
            ]
           ],
           "sequential": [
            [
             0,
             "#0d0887"
            ],
            [
             0.1111111111111111,
             "#46039f"
            ],
            [
             0.2222222222222222,
             "#7201a8"
            ],
            [
             0.3333333333333333,
             "#9c179e"
            ],
            [
             0.4444444444444444,
             "#bd3786"
            ],
            [
             0.5555555555555556,
             "#d8576b"
            ],
            [
             0.6666666666666666,
             "#ed7953"
            ],
            [
             0.7777777777777778,
             "#fb9f3a"
            ],
            [
             0.8888888888888888,
             "#fdca26"
            ],
            [
             1,
             "#f0f921"
            ]
           ],
           "sequentialminus": [
            [
             0,
             "#0d0887"
            ],
            [
             0.1111111111111111,
             "#46039f"
            ],
            [
             0.2222222222222222,
             "#7201a8"
            ],
            [
             0.3333333333333333,
             "#9c179e"
            ],
            [
             0.4444444444444444,
             "#bd3786"
            ],
            [
             0.5555555555555556,
             "#d8576b"
            ],
            [
             0.6666666666666666,
             "#ed7953"
            ],
            [
             0.7777777777777778,
             "#fb9f3a"
            ],
            [
             0.8888888888888888,
             "#fdca26"
            ],
            [
             1,
             "#f0f921"
            ]
           ]
          },
          "colorway": [
           "#636efa",
           "#EF553B",
           "#00cc96",
           "#ab63fa",
           "#FFA15A",
           "#19d3f3",
           "#FF6692",
           "#B6E880",
           "#FF97FF",
           "#FECB52"
          ],
          "font": {
           "color": "#2a3f5f"
          },
          "geo": {
           "bgcolor": "white",
           "lakecolor": "white",
           "landcolor": "#E5ECF6",
           "showlakes": true,
           "showland": true,
           "subunitcolor": "white"
          },
          "hoverlabel": {
           "align": "left"
          },
          "hovermode": "closest",
          "mapbox": {
           "style": "light"
          },
          "paper_bgcolor": "white",
          "plot_bgcolor": "#E5ECF6",
          "polar": {
           "angularaxis": {
            "gridcolor": "white",
            "linecolor": "white",
            "ticks": ""
           },
           "bgcolor": "#E5ECF6",
           "radialaxis": {
            "gridcolor": "white",
            "linecolor": "white",
            "ticks": ""
           }
          },
          "scene": {
           "xaxis": {
            "backgroundcolor": "#E5ECF6",
            "gridcolor": "white",
            "gridwidth": 2,
            "linecolor": "white",
            "showbackground": true,
            "ticks": "",
            "zerolinecolor": "white"
           },
           "yaxis": {
            "backgroundcolor": "#E5ECF6",
            "gridcolor": "white",
            "gridwidth": 2,
            "linecolor": "white",
            "showbackground": true,
            "ticks": "",
            "zerolinecolor": "white"
           },
           "zaxis": {
            "backgroundcolor": "#E5ECF6",
            "gridcolor": "white",
            "gridwidth": 2,
            "linecolor": "white",
            "showbackground": true,
            "ticks": "",
            "zerolinecolor": "white"
           }
          },
          "shapedefaults": {
           "line": {
            "color": "#2a3f5f"
           }
          },
          "ternary": {
           "aaxis": {
            "gridcolor": "white",
            "linecolor": "white",
            "ticks": ""
           },
           "baxis": {
            "gridcolor": "white",
            "linecolor": "white",
            "ticks": ""
           },
           "bgcolor": "#E5ECF6",
           "caxis": {
            "gridcolor": "white",
            "linecolor": "white",
            "ticks": ""
           }
          },
          "title": {
           "x": 0.05
          },
          "xaxis": {
           "automargin": true,
           "gridcolor": "white",
           "linecolor": "white",
           "ticks": "",
           "title": {
            "standoff": 15
           },
           "zerolinecolor": "white",
           "zerolinewidth": 2
          },
          "yaxis": {
           "automargin": true,
           "gridcolor": "white",
           "linecolor": "white",
           "ticks": "",
           "title": {
            "standoff": 15
           },
           "zerolinecolor": "white",
           "zerolinewidth": 2
          }
         }
        },
        "xaxis": {
         "showgrid": false,
         "zeroline": false
        },
        "yaxis": {
         "scaleanchor": "x",
         "showgrid": false,
         "zeroline": false
        }
       }
      }
     },
     "metadata": {},
     "output_type": "display_data"
    }
   ],
   "source": [
    "show_1(mwk)"
   ]
  },
  {
   "cell_type": "code",
   "execution_count": 69,
   "metadata": {},
   "outputs": [
    {
     "data": {
      "application/vnd.plotly.v1+json": {
       "config": {
        "plotlyServerURL": "https://plot.ly",
        "scrollZoom": true
       },
       "data": [],
       "layout": {
        "annotations": [
         {
          "showarrow": false,
          "text": "Task t0",
          "x": -0.25,
          "xanchor": "right",
          "y": 0
         },
         {
          "showarrow": false,
          "text": "Task t1",
          "x": -0.25,
          "xanchor": "right",
          "y": -1
         }
        ],
        "dragmode": "pan",
        "height": 500,
        "shapes": [
         {
          "type": "rect",
          "x0": -0.125,
          "x1": 0.125,
          "y0": -0.125,
          "y1": 0.125
         },
         {
          "type": "rect",
          "x0": 0.875,
          "x1": 1.125,
          "y0": -0.125,
          "y1": 0.125
         },
         {
          "type": "rect",
          "x0": 1.875,
          "x1": 2.125,
          "y0": -0.125,
          "y1": 0.125
         },
         {
          "type": "rect",
          "x0": 2.875,
          "x1": 3.125,
          "y0": -0.125,
          "y1": 0.125
         },
         {
          "type": "rect",
          "x0": 3.875,
          "x1": 4.125,
          "y0": -0.125,
          "y1": 0.125
         },
         {
          "type": "rect",
          "x0": -0.125,
          "x1": 0.125,
          "y0": -1.125,
          "y1": -0.875
         },
         {
          "type": "line",
          "x0": 0,
          "x1": 0,
          "y0": -0.875,
          "y1": -0.125
         },
         {
          "type": "rect",
          "x0": 0.875,
          "x1": 1.125,
          "y0": -1.125,
          "y1": -0.875
         },
         {
          "type": "line",
          "x0": 1,
          "x1": 1,
          "y0": -0.875,
          "y1": -0.125
         },
         {
          "type": "rect",
          "x0": 1.875,
          "x1": 2.125,
          "y0": -1.125,
          "y1": -0.875
         },
         {
          "type": "line",
          "x0": 2,
          "x1": 2,
          "y0": -0.875,
          "y1": -0.125
         },
         {
          "type": "rect",
          "x0": 2.875,
          "x1": 3.125,
          "y0": -1.125,
          "y1": -0.875
         },
         {
          "type": "line",
          "x0": 3,
          "x1": 3,
          "y0": -0.875,
          "y1": -0.125
         },
         {
          "type": "rect",
          "x0": 3.875,
          "x1": 4.125,
          "y0": -1.125,
          "y1": -0.875
         },
         {
          "type": "line",
          "x0": 4,
          "x1": 4,
          "y0": -0.875,
          "y1": -0.125
         }
        ],
        "template": {
         "data": {
          "bar": [
           {
            "error_x": {
             "color": "#2a3f5f"
            },
            "error_y": {
             "color": "#2a3f5f"
            },
            "marker": {
             "line": {
              "color": "#E5ECF6",
              "width": 0.5
             },
             "pattern": {
              "fillmode": "overlay",
              "size": 10,
              "solidity": 0.2
             }
            },
            "type": "bar"
           }
          ],
          "barpolar": [
           {
            "marker": {
             "line": {
              "color": "#E5ECF6",
              "width": 0.5
             },
             "pattern": {
              "fillmode": "overlay",
              "size": 10,
              "solidity": 0.2
             }
            },
            "type": "barpolar"
           }
          ],
          "carpet": [
           {
            "aaxis": {
             "endlinecolor": "#2a3f5f",
             "gridcolor": "white",
             "linecolor": "white",
             "minorgridcolor": "white",
             "startlinecolor": "#2a3f5f"
            },
            "baxis": {
             "endlinecolor": "#2a3f5f",
             "gridcolor": "white",
             "linecolor": "white",
             "minorgridcolor": "white",
             "startlinecolor": "#2a3f5f"
            },
            "type": "carpet"
           }
          ],
          "choropleth": [
           {
            "colorbar": {
             "outlinewidth": 0,
             "ticks": ""
            },
            "type": "choropleth"
           }
          ],
          "contour": [
           {
            "colorbar": {
             "outlinewidth": 0,
             "ticks": ""
            },
            "colorscale": [
             [
              0,
              "#0d0887"
             ],
             [
              0.1111111111111111,
              "#46039f"
             ],
             [
              0.2222222222222222,
              "#7201a8"
             ],
             [
              0.3333333333333333,
              "#9c179e"
             ],
             [
              0.4444444444444444,
              "#bd3786"
             ],
             [
              0.5555555555555556,
              "#d8576b"
             ],
             [
              0.6666666666666666,
              "#ed7953"
             ],
             [
              0.7777777777777778,
              "#fb9f3a"
             ],
             [
              0.8888888888888888,
              "#fdca26"
             ],
             [
              1,
              "#f0f921"
             ]
            ],
            "type": "contour"
           }
          ],
          "contourcarpet": [
           {
            "colorbar": {
             "outlinewidth": 0,
             "ticks": ""
            },
            "type": "contourcarpet"
           }
          ],
          "heatmap": [
           {
            "colorbar": {
             "outlinewidth": 0,
             "ticks": ""
            },
            "colorscale": [
             [
              0,
              "#0d0887"
             ],
             [
              0.1111111111111111,
              "#46039f"
             ],
             [
              0.2222222222222222,
              "#7201a8"
             ],
             [
              0.3333333333333333,
              "#9c179e"
             ],
             [
              0.4444444444444444,
              "#bd3786"
             ],
             [
              0.5555555555555556,
              "#d8576b"
             ],
             [
              0.6666666666666666,
              "#ed7953"
             ],
             [
              0.7777777777777778,
              "#fb9f3a"
             ],
             [
              0.8888888888888888,
              "#fdca26"
             ],
             [
              1,
              "#f0f921"
             ]
            ],
            "type": "heatmap"
           }
          ],
          "heatmapgl": [
           {
            "colorbar": {
             "outlinewidth": 0,
             "ticks": ""
            },
            "colorscale": [
             [
              0,
              "#0d0887"
             ],
             [
              0.1111111111111111,
              "#46039f"
             ],
             [
              0.2222222222222222,
              "#7201a8"
             ],
             [
              0.3333333333333333,
              "#9c179e"
             ],
             [
              0.4444444444444444,
              "#bd3786"
             ],
             [
              0.5555555555555556,
              "#d8576b"
             ],
             [
              0.6666666666666666,
              "#ed7953"
             ],
             [
              0.7777777777777778,
              "#fb9f3a"
             ],
             [
              0.8888888888888888,
              "#fdca26"
             ],
             [
              1,
              "#f0f921"
             ]
            ],
            "type": "heatmapgl"
           }
          ],
          "histogram": [
           {
            "marker": {
             "pattern": {
              "fillmode": "overlay",
              "size": 10,
              "solidity": 0.2
             }
            },
            "type": "histogram"
           }
          ],
          "histogram2d": [
           {
            "colorbar": {
             "outlinewidth": 0,
             "ticks": ""
            },
            "colorscale": [
             [
              0,
              "#0d0887"
             ],
             [
              0.1111111111111111,
              "#46039f"
             ],
             [
              0.2222222222222222,
              "#7201a8"
             ],
             [
              0.3333333333333333,
              "#9c179e"
             ],
             [
              0.4444444444444444,
              "#bd3786"
             ],
             [
              0.5555555555555556,
              "#d8576b"
             ],
             [
              0.6666666666666666,
              "#ed7953"
             ],
             [
              0.7777777777777778,
              "#fb9f3a"
             ],
             [
              0.8888888888888888,
              "#fdca26"
             ],
             [
              1,
              "#f0f921"
             ]
            ],
            "type": "histogram2d"
           }
          ],
          "histogram2dcontour": [
           {
            "colorbar": {
             "outlinewidth": 0,
             "ticks": ""
            },
            "colorscale": [
             [
              0,
              "#0d0887"
             ],
             [
              0.1111111111111111,
              "#46039f"
             ],
             [
              0.2222222222222222,
              "#7201a8"
             ],
             [
              0.3333333333333333,
              "#9c179e"
             ],
             [
              0.4444444444444444,
              "#bd3786"
             ],
             [
              0.5555555555555556,
              "#d8576b"
             ],
             [
              0.6666666666666666,
              "#ed7953"
             ],
             [
              0.7777777777777778,
              "#fb9f3a"
             ],
             [
              0.8888888888888888,
              "#fdca26"
             ],
             [
              1,
              "#f0f921"
             ]
            ],
            "type": "histogram2dcontour"
           }
          ],
          "mesh3d": [
           {
            "colorbar": {
             "outlinewidth": 0,
             "ticks": ""
            },
            "type": "mesh3d"
           }
          ],
          "parcoords": [
           {
            "line": {
             "colorbar": {
              "outlinewidth": 0,
              "ticks": ""
             }
            },
            "type": "parcoords"
           }
          ],
          "pie": [
           {
            "automargin": true,
            "type": "pie"
           }
          ],
          "scatter": [
           {
            "fillpattern": {
             "fillmode": "overlay",
             "size": 10,
             "solidity": 0.2
            },
            "type": "scatter"
           }
          ],
          "scatter3d": [
           {
            "line": {
             "colorbar": {
              "outlinewidth": 0,
              "ticks": ""
             }
            },
            "marker": {
             "colorbar": {
              "outlinewidth": 0,
              "ticks": ""
             }
            },
            "type": "scatter3d"
           }
          ],
          "scattercarpet": [
           {
            "marker": {
             "colorbar": {
              "outlinewidth": 0,
              "ticks": ""
             }
            },
            "type": "scattercarpet"
           }
          ],
          "scattergeo": [
           {
            "marker": {
             "colorbar": {
              "outlinewidth": 0,
              "ticks": ""
             }
            },
            "type": "scattergeo"
           }
          ],
          "scattergl": [
           {
            "marker": {
             "colorbar": {
              "outlinewidth": 0,
              "ticks": ""
             }
            },
            "type": "scattergl"
           }
          ],
          "scattermapbox": [
           {
            "marker": {
             "colorbar": {
              "outlinewidth": 0,
              "ticks": ""
             }
            },
            "type": "scattermapbox"
           }
          ],
          "scatterpolar": [
           {
            "marker": {
             "colorbar": {
              "outlinewidth": 0,
              "ticks": ""
             }
            },
            "type": "scatterpolar"
           }
          ],
          "scatterpolargl": [
           {
            "marker": {
             "colorbar": {
              "outlinewidth": 0,
              "ticks": ""
             }
            },
            "type": "scatterpolargl"
           }
          ],
          "scatterternary": [
           {
            "marker": {
             "colorbar": {
              "outlinewidth": 0,
              "ticks": ""
             }
            },
            "type": "scatterternary"
           }
          ],
          "surface": [
           {
            "colorbar": {
             "outlinewidth": 0,
             "ticks": ""
            },
            "colorscale": [
             [
              0,
              "#0d0887"
             ],
             [
              0.1111111111111111,
              "#46039f"
             ],
             [
              0.2222222222222222,
              "#7201a8"
             ],
             [
              0.3333333333333333,
              "#9c179e"
             ],
             [
              0.4444444444444444,
              "#bd3786"
             ],
             [
              0.5555555555555556,
              "#d8576b"
             ],
             [
              0.6666666666666666,
              "#ed7953"
             ],
             [
              0.7777777777777778,
              "#fb9f3a"
             ],
             [
              0.8888888888888888,
              "#fdca26"
             ],
             [
              1,
              "#f0f921"
             ]
            ],
            "type": "surface"
           }
          ],
          "table": [
           {
            "cells": {
             "fill": {
              "color": "#EBF0F8"
             },
             "line": {
              "color": "white"
             }
            },
            "header": {
             "fill": {
              "color": "#C8D4E3"
             },
             "line": {
              "color": "white"
             }
            },
            "type": "table"
           }
          ]
         },
         "layout": {
          "annotationdefaults": {
           "arrowcolor": "#2a3f5f",
           "arrowhead": 0,
           "arrowwidth": 1
          },
          "autotypenumbers": "strict",
          "coloraxis": {
           "colorbar": {
            "outlinewidth": 0,
            "ticks": ""
           }
          },
          "colorscale": {
           "diverging": [
            [
             0,
             "#8e0152"
            ],
            [
             0.1,
             "#c51b7d"
            ],
            [
             0.2,
             "#de77ae"
            ],
            [
             0.3,
             "#f1b6da"
            ],
            [
             0.4,
             "#fde0ef"
            ],
            [
             0.5,
             "#f7f7f7"
            ],
            [
             0.6,
             "#e6f5d0"
            ],
            [
             0.7,
             "#b8e186"
            ],
            [
             0.8,
             "#7fbc41"
            ],
            [
             0.9,
             "#4d9221"
            ],
            [
             1,
             "#276419"
            ]
           ],
           "sequential": [
            [
             0,
             "#0d0887"
            ],
            [
             0.1111111111111111,
             "#46039f"
            ],
            [
             0.2222222222222222,
             "#7201a8"
            ],
            [
             0.3333333333333333,
             "#9c179e"
            ],
            [
             0.4444444444444444,
             "#bd3786"
            ],
            [
             0.5555555555555556,
             "#d8576b"
            ],
            [
             0.6666666666666666,
             "#ed7953"
            ],
            [
             0.7777777777777778,
             "#fb9f3a"
            ],
            [
             0.8888888888888888,
             "#fdca26"
            ],
            [
             1,
             "#f0f921"
            ]
           ],
           "sequentialminus": [
            [
             0,
             "#0d0887"
            ],
            [
             0.1111111111111111,
             "#46039f"
            ],
            [
             0.2222222222222222,
             "#7201a8"
            ],
            [
             0.3333333333333333,
             "#9c179e"
            ],
            [
             0.4444444444444444,
             "#bd3786"
            ],
            [
             0.5555555555555556,
             "#d8576b"
            ],
            [
             0.6666666666666666,
             "#ed7953"
            ],
            [
             0.7777777777777778,
             "#fb9f3a"
            ],
            [
             0.8888888888888888,
             "#fdca26"
            ],
            [
             1,
             "#f0f921"
            ]
           ]
          },
          "colorway": [
           "#636efa",
           "#EF553B",
           "#00cc96",
           "#ab63fa",
           "#FFA15A",
           "#19d3f3",
           "#FF6692",
           "#B6E880",
           "#FF97FF",
           "#FECB52"
          ],
          "font": {
           "color": "#2a3f5f"
          },
          "geo": {
           "bgcolor": "white",
           "lakecolor": "white",
           "landcolor": "#E5ECF6",
           "showlakes": true,
           "showland": true,
           "subunitcolor": "white"
          },
          "hoverlabel": {
           "align": "left"
          },
          "hovermode": "closest",
          "mapbox": {
           "style": "light"
          },
          "paper_bgcolor": "white",
          "plot_bgcolor": "#E5ECF6",
          "polar": {
           "angularaxis": {
            "gridcolor": "white",
            "linecolor": "white",
            "ticks": ""
           },
           "bgcolor": "#E5ECF6",
           "radialaxis": {
            "gridcolor": "white",
            "linecolor": "white",
            "ticks": ""
           }
          },
          "scene": {
           "xaxis": {
            "backgroundcolor": "#E5ECF6",
            "gridcolor": "white",
            "gridwidth": 2,
            "linecolor": "white",
            "showbackground": true,
            "ticks": "",
            "zerolinecolor": "white"
           },
           "yaxis": {
            "backgroundcolor": "#E5ECF6",
            "gridcolor": "white",
            "gridwidth": 2,
            "linecolor": "white",
            "showbackground": true,
            "ticks": "",
            "zerolinecolor": "white"
           },
           "zaxis": {
            "backgroundcolor": "#E5ECF6",
            "gridcolor": "white",
            "gridwidth": 2,
            "linecolor": "white",
            "showbackground": true,
            "ticks": "",
            "zerolinecolor": "white"
           }
          },
          "shapedefaults": {
           "line": {
            "color": "#2a3f5f"
           }
          },
          "ternary": {
           "aaxis": {
            "gridcolor": "white",
            "linecolor": "white",
            "ticks": ""
           },
           "baxis": {
            "gridcolor": "white",
            "linecolor": "white",
            "ticks": ""
           },
           "bgcolor": "#E5ECF6",
           "caxis": {
            "gridcolor": "white",
            "linecolor": "white",
            "ticks": ""
           }
          },
          "title": {
           "x": 0.05
          },
          "xaxis": {
           "automargin": true,
           "gridcolor": "white",
           "linecolor": "white",
           "ticks": "",
           "title": {
            "standoff": 15
           },
           "zerolinecolor": "white",
           "zerolinewidth": 2
          },
          "yaxis": {
           "automargin": true,
           "gridcolor": "white",
           "linecolor": "white",
           "ticks": "",
           "title": {
            "standoff": 15
           },
           "zerolinecolor": "white",
           "zerolinewidth": 2
          }
         }
        },
        "xaxis": {
         "showgrid": false,
         "zeroline": false
        },
        "yaxis": {
         "scaleanchor": "x",
         "showgrid": false,
         "zeroline": false
        }
       }
      }
     },
     "metadata": {},
     "output_type": "display_data"
    }
   ],
   "source": [
    "show_1(wk)"
   ]
  },
  {
   "cell_type": "code",
   "execution_count": 2,
   "metadata": {},
   "outputs": [],
   "source": [
    "# wk = hf.Workflow(r\"C:\\code_local\\scratch\\matflow-workflows\\MCMC_2024-05-10_231704\")"
   ]
  },
  {
   "cell_type": "code",
   "execution_count": 3,
   "metadata": {},
   "outputs": [],
   "source": []
  },
  {
   "cell_type": "code",
   "execution_count": 68,
   "metadata": {},
   "outputs": [],
   "source": [
    "def show_1(wk):\n",
    "    elements = {}\n",
    "    for task in wk.tasks:\n",
    "        up_tasks = task.upstream_tasks\n",
    "        down_tasks = task.downstream_tasks\n",
    "        # print(f\"{up_tasks=}\")\n",
    "        # print(f\"{down_tasks=}\")\n",
    "        for elem in task.elements:\n",
    "            # print(f\"{elem=}\")\n",
    "            deps = elem.get_element_dependencies(as_objects=True)\n",
    "            # print(f\"{deps=}\")\n",
    "            upstream_deps = {i.id_ for i in deps if i.task in up_tasks}\n",
    "            downstream_deps = {i.id_ for i in deps if i.task in down_tasks}\n",
    "            \n",
    "            # element dependencies from upstream tasks only:\n",
    "            deps = {i.id_ for i in deps if i.task in task.upstream_tasks}\n",
    "            elements[elem.id_] = {\n",
    "                \"coords\": (-task.index, elem.index),\n",
    "                \"depends_on_up\": upstream_deps, \n",
    "                \"depends_on_down\": downstream_deps,\n",
    "            }\n",
    "    # print(elements)\n",
    "\n",
    "    elem_size = 0.25\n",
    "    iter_dep_shift = 0.25\n",
    "    fig = FigureWidget(layout={\"height\": 500, \"dragmode\": \"pan\"})\n",
    "    fig.update_yaxes(scaleanchor=\"x\", zeroline=False, showgrid=False)\n",
    "    fig.update_xaxes(showgrid=False, zeroline=False)\n",
    "\n",
    "    # add task names:\n",
    "    for task in wk.tasks:\n",
    "        fig.add_annotation(\n",
    "            y=-task.index,\n",
    "            x=0 - elem_size,\n",
    "            text=f\"Task {task.unique_name}\",\n",
    "            showarrow=False,\n",
    "            xanchor=\"right\",\n",
    "        )\n",
    "\n",
    "    # add elements:\n",
    "    for elem in elements.values():\n",
    "        x0 = elem[\"coords\"][1] - 0.5 * elem_size \n",
    "        x1 = elem[\"coords\"][1] + 0.5 * elem_size \n",
    "        y0 = elem[\"coords\"][0] - 0.5 * elem_size \n",
    "        y1 = elem[\"coords\"][0] + 0.5 * elem_size     \n",
    "        fig.add_shape(type=\"rect\", x0=x0, x1=x1, y0=y0, y1=y1)\n",
    "        if elem[\"depends_on_up\"]:\n",
    "            for i in elem[\"depends_on_up\"]:\n",
    "                dep_coords = elements[i][\"coords\"]\n",
    "                x0 = elem[\"coords\"][1]\n",
    "                y0 = elem[\"coords\"][0] + 0.5 * elem_size\n",
    "                x1 = dep_coords[1]\n",
    "                y1 = dep_coords[0] - 0.5 * elem_size\n",
    "                fig.add_shape(type=\"line\", x0=x0, x1=x1, y0=y0, y1=y1)\n",
    "\n",
    "        if elem[\"depends_on_down\"]:\n",
    "            for i in elem[\"depends_on_down\"]:\n",
    "                dep_coords = elements[i][\"coords\"]\n",
    "                x0a = elem[\"coords\"][1] + iter_dep_shift\n",
    "                y0a = elem[\"coords\"][0] + elem_size\n",
    "                x1a = dep_coords[1] + iter_dep_shift\n",
    "                y1a = dep_coords[0]\n",
    "                fig.add_shape(type=\"line\", x0=x0a, x1=x1a, y0=y0a, y1=y1a)\n",
    "\n",
    "                x1 = elem[\"coords\"][1]\n",
    "                y1 = elem[\"coords\"][0] + elem_size\n",
    "                fig.add_shape(type=\"line\", x0=x0a, x1=x1, y0=y0a, y1=y1)\n",
    "                \n",
    "                x0 = dep_coords[1] + 0.5 * elem_size\n",
    "                y0 = dep_coords[0]\n",
    "                fig.add_shape(type=\"line\", x0=x0, x1=x1a, y0=y0, y1=y1a)\n",
    "\n",
    "                x0 = elem[\"coords\"][1]\n",
    "                y0 = elem[\"coords\"][0]+ 0.5 * elem_size\n",
    "                fig.add_shape(type=\"line\", x0=x0, x1=x1, y0=y0, y1=y1)            \n",
    "\n",
    "    fig.show(config={'scrollZoom': True})"
   ]
  },
  {
   "cell_type": "code",
   "execution_count": 8,
   "metadata": {},
   "outputs": [
    {
     "data": {
      "application/vnd.plotly.v1+json": {
       "config": {
        "plotlyServerURL": "https://plot.ly",
        "scrollZoom": true
       },
       "data": [],
       "layout": {
        "annotations": [
         {
          "showarrow": false,
          "text": "Task t0",
          "x": -0.25,
          "xanchor": "right",
          "y": 0
         },
         {
          "showarrow": false,
          "text": "Task t1",
          "x": -0.25,
          "xanchor": "right",
          "y": -1
         }
        ],
        "dragmode": "pan",
        "height": 500,
        "shapes": [
         {
          "type": "rect",
          "x0": -0.125,
          "x1": 0.125,
          "y0": -0.125,
          "y1": 0.125
         },
         {
          "type": "rect",
          "x0": 0.875,
          "x1": 1.125,
          "y0": -0.125,
          "y1": 0.125
         },
         {
          "type": "rect",
          "x0": 1.875,
          "x1": 2.125,
          "y0": -0.125,
          "y1": 0.125
         },
         {
          "type": "rect",
          "x0": 2.875,
          "x1": 3.125,
          "y0": -0.125,
          "y1": 0.125
         },
         {
          "type": "rect",
          "x0": 3.875,
          "x1": 4.125,
          "y0": -0.125,
          "y1": 0.125
         },
         {
          "type": "rect",
          "x0": -0.125,
          "x1": 0.125,
          "y0": -1.125,
          "y1": -0.875
         },
         {
          "type": "line",
          "x0": 0,
          "x1": 0,
          "y0": -0.875,
          "y1": -0.125
         },
         {
          "type": "rect",
          "x0": 0.875,
          "x1": 1.125,
          "y0": -1.125,
          "y1": -0.875
         },
         {
          "type": "line",
          "x0": 1,
          "x1": 1,
          "y0": -0.875,
          "y1": -0.125
         },
         {
          "type": "rect",
          "x0": 1.875,
          "x1": 2.125,
          "y0": -1.125,
          "y1": -0.875
         },
         {
          "type": "line",
          "x0": 2,
          "x1": 2,
          "y0": -0.875,
          "y1": -0.125
         },
         {
          "type": "rect",
          "x0": 2.875,
          "x1": 3.125,
          "y0": -1.125,
          "y1": -0.875
         },
         {
          "type": "line",
          "x0": 3,
          "x1": 3,
          "y0": -0.875,
          "y1": -0.125
         },
         {
          "type": "rect",
          "x0": 3.875,
          "x1": 4.125,
          "y0": -1.125,
          "y1": -0.875
         },
         {
          "type": "line",
          "x0": 4,
          "x1": 4,
          "y0": -0.875,
          "y1": -0.125
         }
        ],
        "template": {
         "data": {
          "bar": [
           {
            "error_x": {
             "color": "#2a3f5f"
            },
            "error_y": {
             "color": "#2a3f5f"
            },
            "marker": {
             "line": {
              "color": "#E5ECF6",
              "width": 0.5
             },
             "pattern": {
              "fillmode": "overlay",
              "size": 10,
              "solidity": 0.2
             }
            },
            "type": "bar"
           }
          ],
          "barpolar": [
           {
            "marker": {
             "line": {
              "color": "#E5ECF6",
              "width": 0.5
             },
             "pattern": {
              "fillmode": "overlay",
              "size": 10,
              "solidity": 0.2
             }
            },
            "type": "barpolar"
           }
          ],
          "carpet": [
           {
            "aaxis": {
             "endlinecolor": "#2a3f5f",
             "gridcolor": "white",
             "linecolor": "white",
             "minorgridcolor": "white",
             "startlinecolor": "#2a3f5f"
            },
            "baxis": {
             "endlinecolor": "#2a3f5f",
             "gridcolor": "white",
             "linecolor": "white",
             "minorgridcolor": "white",
             "startlinecolor": "#2a3f5f"
            },
            "type": "carpet"
           }
          ],
          "choropleth": [
           {
            "colorbar": {
             "outlinewidth": 0,
             "ticks": ""
            },
            "type": "choropleth"
           }
          ],
          "contour": [
           {
            "colorbar": {
             "outlinewidth": 0,
             "ticks": ""
            },
            "colorscale": [
             [
              0,
              "#0d0887"
             ],
             [
              0.1111111111111111,
              "#46039f"
             ],
             [
              0.2222222222222222,
              "#7201a8"
             ],
             [
              0.3333333333333333,
              "#9c179e"
             ],
             [
              0.4444444444444444,
              "#bd3786"
             ],
             [
              0.5555555555555556,
              "#d8576b"
             ],
             [
              0.6666666666666666,
              "#ed7953"
             ],
             [
              0.7777777777777778,
              "#fb9f3a"
             ],
             [
              0.8888888888888888,
              "#fdca26"
             ],
             [
              1,
              "#f0f921"
             ]
            ],
            "type": "contour"
           }
          ],
          "contourcarpet": [
           {
            "colorbar": {
             "outlinewidth": 0,
             "ticks": ""
            },
            "type": "contourcarpet"
           }
          ],
          "heatmap": [
           {
            "colorbar": {
             "outlinewidth": 0,
             "ticks": ""
            },
            "colorscale": [
             [
              0,
              "#0d0887"
             ],
             [
              0.1111111111111111,
              "#46039f"
             ],
             [
              0.2222222222222222,
              "#7201a8"
             ],
             [
              0.3333333333333333,
              "#9c179e"
             ],
             [
              0.4444444444444444,
              "#bd3786"
             ],
             [
              0.5555555555555556,
              "#d8576b"
             ],
             [
              0.6666666666666666,
              "#ed7953"
             ],
             [
              0.7777777777777778,
              "#fb9f3a"
             ],
             [
              0.8888888888888888,
              "#fdca26"
             ],
             [
              1,
              "#f0f921"
             ]
            ],
            "type": "heatmap"
           }
          ],
          "heatmapgl": [
           {
            "colorbar": {
             "outlinewidth": 0,
             "ticks": ""
            },
            "colorscale": [
             [
              0,
              "#0d0887"
             ],
             [
              0.1111111111111111,
              "#46039f"
             ],
             [
              0.2222222222222222,
              "#7201a8"
             ],
             [
              0.3333333333333333,
              "#9c179e"
             ],
             [
              0.4444444444444444,
              "#bd3786"
             ],
             [
              0.5555555555555556,
              "#d8576b"
             ],
             [
              0.6666666666666666,
              "#ed7953"
             ],
             [
              0.7777777777777778,
              "#fb9f3a"
             ],
             [
              0.8888888888888888,
              "#fdca26"
             ],
             [
              1,
              "#f0f921"
             ]
            ],
            "type": "heatmapgl"
           }
          ],
          "histogram": [
           {
            "marker": {
             "pattern": {
              "fillmode": "overlay",
              "size": 10,
              "solidity": 0.2
             }
            },
            "type": "histogram"
           }
          ],
          "histogram2d": [
           {
            "colorbar": {
             "outlinewidth": 0,
             "ticks": ""
            },
            "colorscale": [
             [
              0,
              "#0d0887"
             ],
             [
              0.1111111111111111,
              "#46039f"
             ],
             [
              0.2222222222222222,
              "#7201a8"
             ],
             [
              0.3333333333333333,
              "#9c179e"
             ],
             [
              0.4444444444444444,
              "#bd3786"
             ],
             [
              0.5555555555555556,
              "#d8576b"
             ],
             [
              0.6666666666666666,
              "#ed7953"
             ],
             [
              0.7777777777777778,
              "#fb9f3a"
             ],
             [
              0.8888888888888888,
              "#fdca26"
             ],
             [
              1,
              "#f0f921"
             ]
            ],
            "type": "histogram2d"
           }
          ],
          "histogram2dcontour": [
           {
            "colorbar": {
             "outlinewidth": 0,
             "ticks": ""
            },
            "colorscale": [
             [
              0,
              "#0d0887"
             ],
             [
              0.1111111111111111,
              "#46039f"
             ],
             [
              0.2222222222222222,
              "#7201a8"
             ],
             [
              0.3333333333333333,
              "#9c179e"
             ],
             [
              0.4444444444444444,
              "#bd3786"
             ],
             [
              0.5555555555555556,
              "#d8576b"
             ],
             [
              0.6666666666666666,
              "#ed7953"
             ],
             [
              0.7777777777777778,
              "#fb9f3a"
             ],
             [
              0.8888888888888888,
              "#fdca26"
             ],
             [
              1,
              "#f0f921"
             ]
            ],
            "type": "histogram2dcontour"
           }
          ],
          "mesh3d": [
           {
            "colorbar": {
             "outlinewidth": 0,
             "ticks": ""
            },
            "type": "mesh3d"
           }
          ],
          "parcoords": [
           {
            "line": {
             "colorbar": {
              "outlinewidth": 0,
              "ticks": ""
             }
            },
            "type": "parcoords"
           }
          ],
          "pie": [
           {
            "automargin": true,
            "type": "pie"
           }
          ],
          "scatter": [
           {
            "fillpattern": {
             "fillmode": "overlay",
             "size": 10,
             "solidity": 0.2
            },
            "type": "scatter"
           }
          ],
          "scatter3d": [
           {
            "line": {
             "colorbar": {
              "outlinewidth": 0,
              "ticks": ""
             }
            },
            "marker": {
             "colorbar": {
              "outlinewidth": 0,
              "ticks": ""
             }
            },
            "type": "scatter3d"
           }
          ],
          "scattercarpet": [
           {
            "marker": {
             "colorbar": {
              "outlinewidth": 0,
              "ticks": ""
             }
            },
            "type": "scattercarpet"
           }
          ],
          "scattergeo": [
           {
            "marker": {
             "colorbar": {
              "outlinewidth": 0,
              "ticks": ""
             }
            },
            "type": "scattergeo"
           }
          ],
          "scattergl": [
           {
            "marker": {
             "colorbar": {
              "outlinewidth": 0,
              "ticks": ""
             }
            },
            "type": "scattergl"
           }
          ],
          "scattermapbox": [
           {
            "marker": {
             "colorbar": {
              "outlinewidth": 0,
              "ticks": ""
             }
            },
            "type": "scattermapbox"
           }
          ],
          "scatterpolar": [
           {
            "marker": {
             "colorbar": {
              "outlinewidth": 0,
              "ticks": ""
             }
            },
            "type": "scatterpolar"
           }
          ],
          "scatterpolargl": [
           {
            "marker": {
             "colorbar": {
              "outlinewidth": 0,
              "ticks": ""
             }
            },
            "type": "scatterpolargl"
           }
          ],
          "scatterternary": [
           {
            "marker": {
             "colorbar": {
              "outlinewidth": 0,
              "ticks": ""
             }
            },
            "type": "scatterternary"
           }
          ],
          "surface": [
           {
            "colorbar": {
             "outlinewidth": 0,
             "ticks": ""
            },
            "colorscale": [
             [
              0,
              "#0d0887"
             ],
             [
              0.1111111111111111,
              "#46039f"
             ],
             [
              0.2222222222222222,
              "#7201a8"
             ],
             [
              0.3333333333333333,
              "#9c179e"
             ],
             [
              0.4444444444444444,
              "#bd3786"
             ],
             [
              0.5555555555555556,
              "#d8576b"
             ],
             [
              0.6666666666666666,
              "#ed7953"
             ],
             [
              0.7777777777777778,
              "#fb9f3a"
             ],
             [
              0.8888888888888888,
              "#fdca26"
             ],
             [
              1,
              "#f0f921"
             ]
            ],
            "type": "surface"
           }
          ],
          "table": [
           {
            "cells": {
             "fill": {
              "color": "#EBF0F8"
             },
             "line": {
              "color": "white"
             }
            },
            "header": {
             "fill": {
              "color": "#C8D4E3"
             },
             "line": {
              "color": "white"
             }
            },
            "type": "table"
           }
          ]
         },
         "layout": {
          "annotationdefaults": {
           "arrowcolor": "#2a3f5f",
           "arrowhead": 0,
           "arrowwidth": 1
          },
          "autotypenumbers": "strict",
          "coloraxis": {
           "colorbar": {
            "outlinewidth": 0,
            "ticks": ""
           }
          },
          "colorscale": {
           "diverging": [
            [
             0,
             "#8e0152"
            ],
            [
             0.1,
             "#c51b7d"
            ],
            [
             0.2,
             "#de77ae"
            ],
            [
             0.3,
             "#f1b6da"
            ],
            [
             0.4,
             "#fde0ef"
            ],
            [
             0.5,
             "#f7f7f7"
            ],
            [
             0.6,
             "#e6f5d0"
            ],
            [
             0.7,
             "#b8e186"
            ],
            [
             0.8,
             "#7fbc41"
            ],
            [
             0.9,
             "#4d9221"
            ],
            [
             1,
             "#276419"
            ]
           ],
           "sequential": [
            [
             0,
             "#0d0887"
            ],
            [
             0.1111111111111111,
             "#46039f"
            ],
            [
             0.2222222222222222,
             "#7201a8"
            ],
            [
             0.3333333333333333,
             "#9c179e"
            ],
            [
             0.4444444444444444,
             "#bd3786"
            ],
            [
             0.5555555555555556,
             "#d8576b"
            ],
            [
             0.6666666666666666,
             "#ed7953"
            ],
            [
             0.7777777777777778,
             "#fb9f3a"
            ],
            [
             0.8888888888888888,
             "#fdca26"
            ],
            [
             1,
             "#f0f921"
            ]
           ],
           "sequentialminus": [
            [
             0,
             "#0d0887"
            ],
            [
             0.1111111111111111,
             "#46039f"
            ],
            [
             0.2222222222222222,
             "#7201a8"
            ],
            [
             0.3333333333333333,
             "#9c179e"
            ],
            [
             0.4444444444444444,
             "#bd3786"
            ],
            [
             0.5555555555555556,
             "#d8576b"
            ],
            [
             0.6666666666666666,
             "#ed7953"
            ],
            [
             0.7777777777777778,
             "#fb9f3a"
            ],
            [
             0.8888888888888888,
             "#fdca26"
            ],
            [
             1,
             "#f0f921"
            ]
           ]
          },
          "colorway": [
           "#636efa",
           "#EF553B",
           "#00cc96",
           "#ab63fa",
           "#FFA15A",
           "#19d3f3",
           "#FF6692",
           "#B6E880",
           "#FF97FF",
           "#FECB52"
          ],
          "font": {
           "color": "#2a3f5f"
          },
          "geo": {
           "bgcolor": "white",
           "lakecolor": "white",
           "landcolor": "#E5ECF6",
           "showlakes": true,
           "showland": true,
           "subunitcolor": "white"
          },
          "hoverlabel": {
           "align": "left"
          },
          "hovermode": "closest",
          "mapbox": {
           "style": "light"
          },
          "paper_bgcolor": "white",
          "plot_bgcolor": "#E5ECF6",
          "polar": {
           "angularaxis": {
            "gridcolor": "white",
            "linecolor": "white",
            "ticks": ""
           },
           "bgcolor": "#E5ECF6",
           "radialaxis": {
            "gridcolor": "white",
            "linecolor": "white",
            "ticks": ""
           }
          },
          "scene": {
           "xaxis": {
            "backgroundcolor": "#E5ECF6",
            "gridcolor": "white",
            "gridwidth": 2,
            "linecolor": "white",
            "showbackground": true,
            "ticks": "",
            "zerolinecolor": "white"
           },
           "yaxis": {
            "backgroundcolor": "#E5ECF6",
            "gridcolor": "white",
            "gridwidth": 2,
            "linecolor": "white",
            "showbackground": true,
            "ticks": "",
            "zerolinecolor": "white"
           },
           "zaxis": {
            "backgroundcolor": "#E5ECF6",
            "gridcolor": "white",
            "gridwidth": 2,
            "linecolor": "white",
            "showbackground": true,
            "ticks": "",
            "zerolinecolor": "white"
           }
          },
          "shapedefaults": {
           "line": {
            "color": "#2a3f5f"
           }
          },
          "ternary": {
           "aaxis": {
            "gridcolor": "white",
            "linecolor": "white",
            "ticks": ""
           },
           "baxis": {
            "gridcolor": "white",
            "linecolor": "white",
            "ticks": ""
           },
           "bgcolor": "#E5ECF6",
           "caxis": {
            "gridcolor": "white",
            "linecolor": "white",
            "ticks": ""
           }
          },
          "title": {
           "x": 0.05
          },
          "xaxis": {
           "automargin": true,
           "gridcolor": "white",
           "linecolor": "white",
           "ticks": "",
           "title": {
            "standoff": 15
           },
           "zerolinecolor": "white",
           "zerolinewidth": 2
          },
          "yaxis": {
           "automargin": true,
           "gridcolor": "white",
           "linecolor": "white",
           "ticks": "",
           "title": {
            "standoff": 15
           },
           "zerolinecolor": "white",
           "zerolinewidth": 2
          }
         }
        },
        "xaxis": {
         "showgrid": false,
         "zeroline": false
        },
        "yaxis": {
         "scaleanchor": "x",
         "showgrid": false,
         "zeroline": false
        }
       }
      }
     },
     "metadata": {},
     "output_type": "display_data"
    }
   ],
   "source": [
    "show_1(wk)"
   ]
  },
  {
   "cell_type": "code",
   "execution_count": 15,
   "metadata": {},
   "outputs": [
    {
     "ename": "ValueError",
     "evalue": "At least one change property must be specified",
     "output_type": "error",
     "traceback": [
      "\u001b[1;31m---------------------------------------------------------------------------\u001b[0m",
      "\u001b[1;31mValueError\u001b[0m                                Traceback (most recent call last)",
      "Cell \u001b[1;32mIn[15], line 28\u001b[0m\n\u001b[0;32m     25\u001b[0m         fig\u001b[38;5;241m.\u001b[39mupdate_layout(shapes\u001b[38;5;241m=\u001b[39m[])\n\u001b[0;32m     27\u001b[0m \u001b[38;5;66;03m# Attach the function to the relayout event of the entire figure's layout\u001b[39;00m\n\u001b[1;32m---> 28\u001b[0m \u001b[43mfig\u001b[49m\u001b[38;5;241;43m.\u001b[39;49m\u001b[43mlayout\u001b[49m\u001b[38;5;241;43m.\u001b[39;49m\u001b[43mon_change\u001b[49m\u001b[43m(\u001b[49m\u001b[43mon_relayout\u001b[49m\u001b[43m)\u001b[49m\n\u001b[0;32m     30\u001b[0m \u001b[38;5;66;03m# Show the plot\u001b[39;00m\n\u001b[0;32m     31\u001b[0m fig\u001b[38;5;241m.\u001b[39mshow()\n",
      "File \u001b[1;32mc:\\Users\\adamj\\AppData\\Local\\pypoetry\\Cache\\virtualenvs\\hpcflow-new2-gxKrizOt-py3.11\\Lib\\site-packages\\plotly\\basedatatypes.py:5570\u001b[0m, in \u001b[0;36mBasePlotlyType.on_change\u001b[1;34m(self, callback, *args, **kwargs)\u001b[0m\n\u001b[0;32m   5567\u001b[0m \u001b[38;5;66;03m# Validate args not empty\u001b[39;00m\n\u001b[0;32m   5568\u001b[0m \u001b[38;5;66;03m# -----------------------\u001b[39;00m\n\u001b[0;32m   5569\u001b[0m \u001b[38;5;28;01mif\u001b[39;00m \u001b[38;5;28mlen\u001b[39m(args) \u001b[38;5;241m==\u001b[39m \u001b[38;5;241m0\u001b[39m:\n\u001b[1;32m-> 5570\u001b[0m     \u001b[38;5;28;01mraise\u001b[39;00m \u001b[38;5;167;01mValueError\u001b[39;00m(\u001b[38;5;124m\"\u001b[39m\u001b[38;5;124mAt least one change property must be specified\u001b[39m\u001b[38;5;124m\"\u001b[39m)\n\u001b[0;32m   5572\u001b[0m \u001b[38;5;66;03m# Validate args\u001b[39;00m\n\u001b[0;32m   5573\u001b[0m \u001b[38;5;66;03m# -------------\u001b[39;00m\n\u001b[0;32m   5574\u001b[0m invalid_args \u001b[38;5;241m=\u001b[39m [arg \u001b[38;5;28;01mfor\u001b[39;00m arg \u001b[38;5;129;01min\u001b[39;00m args \u001b[38;5;28;01mif\u001b[39;00m arg \u001b[38;5;129;01mnot\u001b[39;00m \u001b[38;5;129;01min\u001b[39;00m \u001b[38;5;28mself\u001b[39m]\n",
      "\u001b[1;31mValueError\u001b[0m: At least one change property must be specified"
     ]
    }
   ],
   "source": [
    "import plotly.graph_objects as go\n",
    "\n",
    "# Create a sample scatter plot\n",
    "fig = go.Figure(go.Scatter(x=[1, 2, 3], y=[4, 5, 6]))\n",
    "\n",
    "# Define a function to handle relayout events\n",
    "def on_relayout(layoutUpdate):\n",
    "    x_range = layoutUpdate['xaxis.range']\n",
    "    y_range = layoutUpdate['yaxis.range']\n",
    "\n",
    "    # Calculate the zoom level based on the difference between the x and y ranges\n",
    "    x_zoom = x_range[1] - x_range[0]\n",
    "    y_zoom = y_range[1] - y_range[0]\n",
    "\n",
    "    # Example: If zoom level is greater than 1 in both axes, add a shape to the plot\n",
    "    if x_zoom > 1 and y_zoom > 1:\n",
    "        fig.add_shape(type=\"rect\",\n",
    "                      x0=min(x_range), y0=min(y_range),\n",
    "                      x1=max(x_range), y1=max(y_range),\n",
    "                      line=dict(color=\"RoyalBlue\"),\n",
    "                      fillcolor=\"LightSkyBlue\", opacity=0.5)\n",
    "\n",
    "    # Example: If zoom level is less than 1 in both axes, remove any shapes from the plot\n",
    "    else:\n",
    "        fig.update_layout(shapes=[])\n",
    "\n",
    "# Attach the function to the relayout event of the entire figure's layout\n",
    "fig.layout.on_change(on_relayout)\n",
    "\n",
    "# Show the plot\n",
    "fig.show()"
   ]
  },
  {
   "cell_type": "code",
   "execution_count": null,
   "metadata": {},
   "outputs": [],
   "source": []
  },
  {
   "cell_type": "code",
   "execution_count": null,
   "metadata": {},
   "outputs": [],
   "source": []
  },
  {
   "attachments": {},
   "cell_type": "markdown",
   "metadata": {},
   "source": [
    "### A notebook for looking into visualising workflow dependencies\n",
    "\n",
    "**Note this required additional dependencies: `networkx`, `matplotlib` and `plotly`**"
   ]
  },
  {
   "cell_type": "code",
   "execution_count": 1,
   "metadata": {},
   "outputs": [
    {
     "ename": "ModuleNotFoundError",
     "evalue": "No module named 'plotly'",
     "output_type": "error",
     "traceback": [
      "\u001b[1;31m---------------------------------------------------------------------------\u001b[0m",
      "\u001b[1;31mModuleNotFoundError\u001b[0m                       Traceback (most recent call last)",
      "Cell \u001b[1;32mIn[1], line 10\u001b[0m\n\u001b[0;32m      8\u001b[0m \u001b[38;5;28;01mimport\u001b[39;00m \u001b[38;5;21;01mnetworkx\u001b[39;00m\n\u001b[0;32m      9\u001b[0m \u001b[38;5;28;01mimport\u001b[39;00m \u001b[38;5;21;01mmatplotlib\u001b[39;00m\u001b[38;5;21;01m.\u001b[39;00m\u001b[38;5;21;01mpyplot\u001b[39;00m \u001b[38;5;28;01mas\u001b[39;00m \u001b[38;5;21;01mplt\u001b[39;00m\n\u001b[1;32m---> 10\u001b[0m \u001b[38;5;28;01mfrom\u001b[39;00m \u001b[38;5;21;01mplotly\u001b[39;00m \u001b[38;5;28;01mimport\u001b[39;00m graph_objects \u001b[38;5;28;01mas\u001b[39;00m go\n\u001b[0;32m     12\u001b[0m \u001b[38;5;28;01mfrom\u001b[39;00m \u001b[38;5;21;01mhpcflow\u001b[39;00m\u001b[38;5;21;01m.\u001b[39;00m\u001b[38;5;21;01mapi\u001b[39;00m \u001b[38;5;28;01mimport\u001b[39;00m (\n\u001b[0;32m     13\u001b[0m     hpcflow, Workflow, WorkflowTemplate, TaskSchema, Task, Parameter, InputValue, \n\u001b[0;32m     14\u001b[0m     SchemaInput, ValueSequence, InputSource, SchemaOutput, InputSourceType, TaskSourceType,\n\u001b[0;32m     15\u001b[0m     ElementPropagation,\n\u001b[0;32m     16\u001b[0m )\n\u001b[0;32m     17\u001b[0m \u001b[38;5;28;01mfrom\u001b[39;00m \u001b[38;5;21;01mhpcflow\u001b[39;00m\u001b[38;5;21;01m.\u001b[39;00m\u001b[38;5;21;01msdk\u001b[39;00m\u001b[38;5;21;01m.\u001b[39;00m\u001b[38;5;21;01mcore\u001b[39;00m\u001b[38;5;21;01m.\u001b[39;00m\u001b[38;5;21;01mutils\u001b[39;00m \u001b[38;5;28;01mimport\u001b[39;00m read_YAML\n",
      "\u001b[1;31mModuleNotFoundError\u001b[0m: No module named 'plotly'"
     ]
    }
   ],
   "source": [
    "%load_ext autoreload\n",
    "%autoreload 2\n",
    "\n",
    "import tempfile\n",
    "import numpy as np\n",
    "import pytest\n",
    "\n",
    "import networkx\n",
    "import matplotlib.pyplot as plt\n",
    "from plotly import graph_objects as go\n",
    "\n",
    "from hpcflow.api import (\n",
    "    hpcflow, Workflow, WorkflowTemplate, TaskSchema, Task, Parameter, InputValue, \n",
    "    SchemaInput, ValueSequence, InputSource, SchemaOutput, InputSourceType, TaskSourceType,\n",
    "    ElementPropagation,\n",
    ")\n",
    "from hpcflow.sdk.core.utils import read_YAML\n",
    "from hpcflow.sdk.core.errors import MissingInputs\n",
    "from hpcflow.sdk.core.zarr_io import ZarrEncodable\n",
    "\n",
    "hpcflow.load_config(config_dir=tempfile.gettempdir())"
   ]
  },
  {
   "cell_type": "code",
   "execution_count": null,
   "metadata": {},
   "outputs": [],
   "source": [
    "param_p1 = Parameter(\"p1\")\n",
    "param_p2 = Parameter(\"p2\")\n",
    "param_p3 = Parameter(\"p3\")\n",
    "param_p4 = Parameter(\"p4\")\n",
    "\n",
    "param_p1 = SchemaInput(param_p1, default_value=1001)\n",
    "param_p2 = SchemaInput(param_p2, default_value=np.array([2002, 2003]))\n",
    "param_p3 = SchemaInput(param_p3, default_value=3001)\n",
    "param_p4 = SchemaInput(param_p4)"
   ]
  },
  {
   "cell_type": "code",
   "execution_count": null,
   "metadata": {},
   "outputs": [],
   "source": [
    "s1 = TaskSchema(\"ts1\", actions=[], inputs=[param_p1], outputs=[param_p3])\n",
    "t1 = Task(\n",
    "    schemas=s1,\n",
    "    inputs=[InputValue(param_p1, 101)],\n",
    ")\n",
    "\n",
    "s2 = TaskSchema(\"ts2\", actions=[], inputs=[param_p2, param_p3], outputs=[param_p4])\n",
    "t2 = Task(\n",
    "    schemas=s2,\n",
    "    sequences=[ValueSequence('inputs.p2', values=[201, 202], nesting_order=1)],\n",
    ")\n",
    "\n",
    "s3 = TaskSchema(\"ts3\", actions=[], inputs=[param_p3, param_p4])\n",
    "t3 = Task(schemas=s3, nesting_order={'inputs.p3': 0, 'inputs.p4': 1})\n",
    "\n",
    "wkt = WorkflowTemplate(name=\"w1\", tasks=[t1, t2, t3])\n",
    "wk = Workflow.from_template(wkt, path=tempfile.gettempdir(), name=wkt.name)\n",
    "\n",
    "wk.tasks.ts1.add_elements(\n",
    "    sequences=[ValueSequence('inputs.p1', values=[102, 103, 104], nesting_order=1)],\n",
    "    propagate_to=[\n",
    "        ElementPropagation(\n",
    "            task=wk.tasks.ts2,\n",
    "            nesting_order={'inputs.p2': 0, 'inputs.p3': 1}\n",
    "        ),\n",
    "        ElementPropagation(\n",
    "            task=wk.tasks.ts3,\n",
    "            nesting_order={'inputs.p3': 0, 'inputs.p4': 1},\n",
    "        )\n",
    "    ],\n",
    ")"
   ]
  },
  {
   "cell_type": "code",
   "execution_count": null,
   "metadata": {},
   "outputs": [],
   "source": [
    "def build_element_graph(workflow):\n",
    "    G = networkx.DiGraph()\n",
    "    for task in workflow.tasks:\n",
    "        for element in task.elements:\n",
    "            G.add_node(element.global_index, task=task.index)\n",
    "        \n",
    "    for i in wk.elements:\n",
    "        for j in i.dependent_elements:\n",
    "            G.add_edge(i.global_index, j)\n",
    "        \n",
    "    return G\n",
    "\n",
    "def _prepare_element_graph(G):\n",
    "    task_colours = ['blue', 'green', 'red']\n",
    "    node_colours = [task_colours[data[\"task\"]] for v, data in G.nodes(data=True)]\n",
    "    pos = networkx.multipartite_layout(G, subset_key='task')    \n",
    "    return node_colours, pos\n",
    "\n",
    "def show_element_graph_matplotlib(G):\n",
    "    node_colours, pos = _prepare_element_graph(G)\n",
    "    networkx.draw(\n",
    "        G,\n",
    "        pos,\n",
    "        node_color=node_colours,\n",
    "        with_labels=True,\n",
    "    )\n",
    "\n",
    "def show_element_graph_plotly(G):\n",
    "    node_colours, pos = _prepare_element_graph(G)\n",
    "    edge_x = []\n",
    "    edge_y = []\n",
    "    for edge in G.edges():\n",
    "        x0, y0 = pos[edge[0]]\n",
    "        x1, y1 = pos[edge[1]]\n",
    "        edge_x.append(x0)\n",
    "        edge_x.append(x1)\n",
    "        edge_x.append(None)\n",
    "        edge_y.append(y0)\n",
    "        edge_y.append(y1)\n",
    "        edge_y.append(None)\n",
    "\n",
    "    edge_trace = go.Scatter(\n",
    "        x=edge_x,\n",
    "        y=edge_y,\n",
    "        hoverinfo='none',\n",
    "        mode='lines'\n",
    "    )\n",
    "\n",
    "    node_x = []\n",
    "    node_y = []\n",
    "    for node in G.nodes():\n",
    "        x, y = pos[node]\n",
    "        node_x.append(x)\n",
    "        node_y.append(y)\n",
    "\n",
    "    node_trace = go.Scatter(\n",
    "        x=node_x,\n",
    "        y=node_y,\n",
    "        mode='markers',\n",
    "        hoverinfo='text',\n",
    "    )\n",
    "\n",
    "    fig = go.Figure(data=[edge_trace, node_trace])\n",
    "    return fig"
   ]
  },
  {
   "cell_type": "code",
   "execution_count": null,
   "metadata": {},
   "outputs": [],
   "source": [
    "G = build_element_graph(wk)\n",
    "\n",
    "show_element_graph_matplotlib(G)\n",
    "show_element_graph_plotly(G)"
   ]
  }
 ],
 "metadata": {
  "kernelspec": {
   "display_name": "hpcflow-new2-gxKrizOt-py3.10",
   "language": "python",
   "name": "python3"
  },
  "language_info": {
   "codemirror_mode": {
    "name": "ipython",
    "version": 3
   },
   "file_extension": ".py",
   "mimetype": "text/x-python",
   "name": "python",
   "nbconvert_exporter": "python",
   "pygments_lexer": "ipython3",
   "version": "3.12.3"
  },
  "orig_nbformat": 4,
  "vscode": {
   "interpreter": {
    "hash": "55cd5e043c79b45f41ba350049571ca6137b544f4d00a60f0ebce0f453e79d21"
   }
  }
 },
 "nbformat": 4,
 "nbformat_minor": 2
}
